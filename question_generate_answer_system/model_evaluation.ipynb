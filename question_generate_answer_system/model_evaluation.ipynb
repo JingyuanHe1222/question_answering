{
 "cells": [
  {
   "cell_type": "code",
   "execution_count": 1,
   "metadata": {},
   "outputs": [
    {
     "name": "stdout",
     "output_type": "stream",
     "text": [
      "True\n"
     ]
    },
    {
     "name": "stderr",
     "output_type": "stream",
     "text": [
      "[nltk_data] Downloading package punkt to\n",
      "[nltk_data]     C:\\Users\\pabma\\AppData\\Roaming\\nltk_data...\n",
      "[nltk_data]   Package punkt is already up-to-date!\n"
     ]
    }
   ],
   "source": [
    "import torch\n",
    "print(torch.cuda.is_available())\n",
    "device = torch.device(\"cuda\" if torch.cuda.is_available() else \"cpu\")\n",
    "\n",
    "import sys\n",
    "from answer_generators.wiki_answer_generator import WikiAnswerGenerator\n",
    "from question_generators.simple_yes_question_generator import SimpleYesQuestionGenerator\n",
    "from qa_utils import QuestionAnswerWriter\n",
    "from question_generators.t5_question_generator import T5QuestionGenerator"
   ]
  },
  {
   "cell_type": "code",
   "execution_count": 2,
   "metadata": {},
   "outputs": [
    {
     "name": "stdout",
     "output_type": "stream",
     "text": [
      "length of dataset:  2725\n"
     ]
    }
   ],
   "source": [
    "# Load dataset\n",
    "from OLD_dataloader import *\n",
    "\n",
    "# Load data using CustomDataOld function\n",
    "data_path = 'H:/My Drive/2023-FALL/11-611 NLP/Project/Question_Answer_Dataset_v1.2/'\n",
    "dataset = CustomDataOld(data_path)"
   ]
  },
  {
   "cell_type": "code",
   "execution_count": 3,
   "metadata": {},
   "outputs": [
    {
     "name": "stdout",
     "output_type": "stream",
     "text": [
      "['Abraham_Lincoln', 'Alessandro_Volta', 'Amedeo_Avogadro', 'Anders_Celsius', 'Ant', 'Antwerp', 'Arabic_language', 'Bee', 'Beijing', 'Berlin', 'Blaise_Pascal', 'Butterfly', 'Calvin_Coolidge', 'Canada', 'Cello', 'Charles-Augustin_de_Coulomb', 'Chinese_language', 'Copenhagen', 'Cougar', 'Cymbal', 'Dhaka', 'Drum', 'Eel', 'Egypt', 'Finland', 'Finnish_language', 'Flute', 'Fox', 'Gerald_Ford', 'Ghana', 'Giant_Panda', 'Giraffe', 'Gray_Wolf', 'Grover_Cleveland', 'Guitar', 'Henri_Becquerel', 'Indonesia', 'Isaac_Newton', 'Jakarta', 'James_Monroe', 'James_Watt', 'John_Adams', 'Korean_language', 'Kuala_Lumpur', 'Liechtenstein', 'Lima', 'Lobster', 'London', 'Lyre', 'Malay_language', 'Melbourne', 'Michael_Faraday', 'Millard_Fillmore', 'Montreal', 'Nairobi', 'Nassau', 'Nikola_Tesla', 'Octopus', 'Ottawa', 'Otter', 'Piano', 'Portuguese_language', 'Qatar', 'Romania', 'Saint_Petersburg', 'San_Francisco', 'Santiago', 'Singapore', 'Swahili_language', 'Swan', 'Swedish_language', 'Taipei', 'Theodore_Roosevelt', 'Tiger', 'Trumpet', 'Turkish_language', 'Turtle', 'Ulysses_S._Grant', 'Uruguay', 'Vietnamese_language', 'Violin', 'Woodrow_Wilson', 'Xylophone', 'Zebra', 'beetle', 'duck', 'elephant', 'kangaroo', 'leopard', 'otter', 'penguin', 'polar_bear', 'turtle']\n"
     ]
    }
   ],
   "source": [
    "#Generate set of articles\n",
    "articles_set = set()\n",
    "\n",
    "# Loop through the array and count each element\n",
    "for i in range(len(dataset)):\n",
    "    articles_set.add(dataset.article_name[i])\n",
    "    \n",
    "articles_set=list(articles_set)\n",
    "articles_set.sort()\n",
    "print(articles_set)"
   ]
  },
  {
   "cell_type": "code",
   "execution_count": 4,
   "metadata": {},
   "outputs": [
    {
     "name": "stdout",
     "output_type": "stream",
     "text": [
      "Article Anders_Celsius\n",
      "Human Questions: 16\n",
      "Human Answers: 16\n"
     ]
    }
   ],
   "source": [
    "#Write human generated questions and answers\n",
    "path='files/'\n",
    "\n",
    "article_name=articles_set[3] #couldn't read [2]\n",
    "\n",
    "article=''\n",
    "\n",
    "#get all human questions and answers for article\n",
    "human_questions=[]\n",
    "human_answers=[]\n",
    "for i in range(len(dataset)):\n",
    "    if article_name==dataset.article_name[i]:\n",
    "        article=dataset[i][6]\n",
    "        human_questions.append(dataset.questions[i])\n",
    "        human_answers.append(dataset.answers[i])\n",
    "\n",
    "print('Article',article_name)\n",
    "print('Human Questions:',len(human_questions))\n",
    "print('Human Answers:',len(human_answers))\n",
    "\n",
    "#write human questions\n",
    "with open(path+article_name+'_human_questions.txt', 'w') as file:\n",
    "    for element in human_questions:\n",
    "        file.write(element + \"\\n\")\n",
    "\n",
    "#write human answers\n",
    "with open(path+article_name+'_human_answers.txt', 'w') as file:\n",
    "    for element in human_answers:\n",
    "        file.write(element + \"\\n\")\n",
    "\n",
    "#write article\n",
    "with open(path+article_name+'.txt', 'w') as file:\n",
    "    file.write(article + \"\\n\")\n"
   ]
  },
  {
   "cell_type": "code",
   "execution_count": 5,
   "metadata": {},
   "outputs": [],
   "source": [
    "# Question output file\n",
    "questions_filename=path+article_name+'_machine_questions.txt' \n",
    "qa_writer = QuestionAnswerWriter(question_filename=questions_filename)"
   ]
  },
  {
   "cell_type": "code",
   "execution_count": 6,
   "metadata": {},
   "outputs": [
    {
     "name": "stdout",
     "output_type": "stream",
     "text": [
      "successfully loaded checkpoint\n"
     ]
    }
   ],
   "source": [
    "# Machine Question Generation - downloads files from Wikipedia\n",
    "# should change to reading from file in QA set for comparisons?\n",
    "question_generator = T5QuestionGenerator(article_name)"
   ]
  },
  {
   "cell_type": "code",
   "execution_count": 7,
   "metadata": {},
   "outputs": [
    {
     "name": "stdout",
     "output_type": "stream",
     "text": [
      "context is: \n",
      "['Anders Celsius (Swedish pronunciation: [ˈânːdɛʂ ˈsɛ̌lːsɪɵs]; 27 November 1701 – 25 April 1744) was a Swedish astronomer, physicist and mathematician.', 'He was professor of astronomy at Uppsala University from 1730 to 1744, but traveled from 1732 to 1735 visiting notable observatories in Germany, Italy and France.', 'He founded the Uppsala Astronomical Observatory in 1741, and in 1742 proposed (an inverted form of) the Centigrade temperature scale which was later renamed Celsius in his honour.', 'Early life and education Anders Celsius was born in Uppsala, Sweden, on 27 November 1701.', 'His family originated from Ovanåker in the province of Hälsingland.', 'Their family estate was at Doma, also known as Höjen or Högen (locally as Högen 2).', \"The name Celsius is a latinization of the estate's name (Latin celsus 'mound').\", 'As the son of an astronomy professor, Nils Celsius, nephew of botanist Olof Celsius and the grandson of the mathematician Magnus Celsius and the astronomer Anders Spole, Celsius chose a career in science.', 'He was a talented mathematician from an early age.', 'Anders Celsius studied at Uppsala University, where his father was a teacher, and in 1730 he, too, became a professor of astronomy there.', 'Noted Swedish dramatic poet and actor Johan Celsius was also his uncle.', 'Career In 1730, Celsius published the Nova Methodus distantiam solis a terra determinandi (New Method for Determining the Distance from the Earth to the Sun).', 'His research also involved the study of auroral phenomena, which he conducted with his assistant Olof Hiorter, and he was the first to suggest a connection between the aurora borealis and changes in the magnetic field of the Earth.', 'He observed the variations of a compass needle and found that larger deflections correlated with stronger auroral activity.', 'At Nuremberg in 1733, he published a collection of 316 observations of the aurora borealis made by himself and others over the period 1716–1732.Celsius traveled frequently in the early 1730s, including to Germany, Italy and France, when he visited most of the major European observatories.', 'In Paris he advocated the measurement of an arc of the meridian in Lapland.', 'In 1736, he participated in the expedition organized for that purpose by the French Academy of Sciences, led by the French mathematician Pierre Louis Maupertuis (1698–1759) to measure a degree of latitude.', 'The aim of the expedition was to measure the length of a degree along a meridian, close to the pole, and compare the result with a similar expedition to Peru, today in Ecuador, near the equator.', \"The expeditions confirmed Isaac Newton's belief that the shape of the Earth is an ellipsoid flattened at the poles.\", 'In 1738, he published the De observationibus pro figura telluris determinanda (Observations on Determining the Shape of the Earth).', \"Celsius's participation in the Lapland expedition won him much respect in Sweden with the government and his peers, and played a key role in generating interest from the Swedish authorities in donating the resources required to construct a new modern observatory in Uppsala.\", 'He was successful in the request, and Celsius founded the Uppsala Astronomical Observatory in 1741.', 'The observatory was equipped with instruments purchased during his long voyage abroad, comprising the most modern instrumental technology of the period.He made observations of eclipses and various astronomical objects and published catalogues of carefully determined magnitudes for some 300 stars using his own photometric system (mean error=0.4 mag).', 'In 1742 he proposed the Celsius temperature scale in a paper to the Royal Society of Sciences in Uppsala, the oldest Swedish scientific society, founded in 1710.', 'His thermometer was calibrated with a value of 0 for the boiling point of water and 100 for the freezing point.', \"In 1745, a year after Celsius's death, the scale was reversed by Carl Linnaeus to facilitate more practical measurement.\", 'Celsius conducted many geographical measurements for the Swedish General map, and was one of earliest to note that much of Scandinavia is slowly rising above sea level, a continuous process which has been occurring since the melting of the ice from the latest ice age.', 'However, he wrongly posed the notion that the water was evaporating.In 1725 he became secretary of the Royal Society of Sciences in Uppsala, and served at this post until his death from tuberculosis in 1744.', 'He supported the formation of the Royal Swedish Academy of Sciences in Stockholm in 1739 by Linnaeus and five others, and was elected a member at the first meeting of this academy.', \"It was in fact Celsius who proposed the new academy's name.\", 'Works De novo in fluviis norlandiarum piscandi modo (in Latin).', 'Uppsala: Johan Höjer, änka.', '1738.', '\"Observationer om twänne beständiga grader på en thermometer\" [Observations about two stable degrees on a thermometer].', 'Kungliga Svenska Vetenskapsakademiens Handlingar (Proceedings of the Royal Swedish Academy of Sciences) (in Swedish).', '3: 171–180.', '1742.', 'See also Celsius family Daniel Gabriel Fahrenheit  References Citations Sources External links  Johan Celsius - Historical records and family trees at MyHeritage']\n"
     ]
    }
   ],
   "source": [
    "#generate machine questions\n",
    "machine_questions = question_generator.generate_questions()"
   ]
  },
  {
   "cell_type": "code",
   "execution_count": 8,
   "metadata": {},
   "outputs": [
    {
     "name": "stdout",
     "output_type": "stream",
     "text": [
      "['When was Anders Celsius born?', 'When did Galileo visit Germany?', 'In what year was the Centigrade temperature scale proposed?', 'When was Anders Celsius born?', 'Where did his family originate from?', 'Where was the family estate located?', 'What does celsus mean in English?', \"Who was Nils Celsius's uncle?\", 'Who was a talented mathematician from an early age?', 'Where did Anders Celsius study?']\n"
     ]
    }
   ],
   "source": [
    "#Print generated machine questions\n",
    "print(machine_questions)\n",
    "\n",
    "#Writes machine generated questions to file\n",
    "qa_writer.start_new_session(mode=QuestionAnswerWriter.QUESTION)\n",
    "qa_writer.write_questions_to_file(machine_questions)"
   ]
  },
  {
   "cell_type": "code",
   "execution_count": 9,
   "metadata": {},
   "outputs": [
    {
     "name": "stderr",
     "output_type": "stream",
     "text": [
      "Some weights of the model checkpoint at deepset/bert-base-cased-squad2 were not used when initializing BertForQuestionAnswering: ['bert.pooler.dense.bias', 'bert.pooler.dense.weight']\n",
      "- This IS expected if you are initializing BertForQuestionAnswering from the checkpoint of a model trained on another task or with another architecture (e.g. initializing a BertForSequenceClassification model from a BertForPreTraining model).\n",
      "- This IS NOT expected if you are initializing BertForQuestionAnswering from the checkpoint of a model that you expect to be exactly identical (initializing a BertForSequenceClassification model from a BertForSequenceClassification model).\n"
     ]
    }
   ],
   "source": [
    "# Machine Answer generator model initialization from self generated questions\n",
    "answer_generator = WikiAnswerGenerator(article_name)"
   ]
  },
  {
   "cell_type": "code",
   "execution_count": 43,
   "metadata": {},
   "outputs": [
    {
     "name": "stderr",
     "output_type": "stream",
     "text": [
      "Token indices sequence length is longer than the specified maximum sequence length for this model (643 > 512). Running this sequence through the model will result in indexing errors\n"
     ]
    },
    {
     "name": "stdout",
     "output_type": "stream",
     "text": [
      "All models failed to generate an answer.\n",
      "All models failed to generate an answer.\n"
     ]
    }
   ],
   "source": [
    "#generate and write machine generated answers to questions in file\n",
    "\n",
    "#qa_writer.start_new_session(mode=QuestionAnswerWriter.QUESTION_AND_ANSWER)\n",
    "#for question in generated_questions:\n",
    "#    answer = answer_generator.generate_answer(question)\n",
    "#    qa_writer.write_question_answer_pair_to_file(question, answer)"
   ]
  },
  {
   "cell_type": "code",
   "execution_count": 10,
   "metadata": {},
   "outputs": [
    {
     "name": "stdout",
     "output_type": "stream",
     "text": [
      "Q: When did Anders Celcius publish his observations on the aurora borealis?\n",
      "A:  1733\n",
      "Q: When did Anders Celcius publish his observations on the aurora borealis?\n",
      "A:  1733\n",
      "Q: What did Anders Celsius determine about the boiling of water?\n",
      "A:  0\n",
      "Q: What did Anders Celsius determine about the boiling of water?\n",
      "A:  0\n",
      "Q: Which temperature scale did Celsius propose?\n",
      "A:  Centigrade\n",
      "Q: Which temperature scale did Celsius propose?\n",
      "A:  Centigrade\n",
      "Q: What is the boiling point of water dependent on?\n",
      "All models failed to generate an answer.\n",
      "A: CLS\n",
      "Q: What is the boiling point of water dependent on?\n",
      "All models failed to generate an answer.\n",
      "A: CLS\n",
      "Q: Where was Celsius born?\n",
      "A:  Uppsala, Sweden\n",
      "Q: Where was Celsius born?\n",
      "A:  Uppsala, Sweden\n",
      "Q: Whad did Celsius report in his paper \"Observations of two persistent degrees on a thermometer\"?\n",
      "All models failed to generate an answer.\n",
      "A: CLS\n",
      "Q: How old was Celsius when he died?\n",
      "All models failed to generate an answer.\n",
      "A: CLS\n",
      "Q: How old was Celsius when he died?\n",
      "All models failed to generate an answer.\n",
      "A: CLS\n",
      "Q: What is temperature would water have to be to be halfway between its standard boiling and freezing point?\n",
      "A: \n",
      "Q: What is the difference between Celsius' original temperature scale and the one we use today?\n",
      "A:  0 for the boiling point of water and 100 for the freezing point\n",
      "Q: What is the difference between Celsius' original temperature scale and the one we use today?\n",
      "A:  0 for the boiling point of water and 100 for the freezing point\n"
     ]
    }
   ],
   "source": [
    "#write answers for human questions\n",
    "\n",
    "machine_answers=[]\n",
    "for question in human_questions:\n",
    "    print('Q:',question)\n",
    "    answer = answer_generator.generate_answer(question)\n",
    "    print('A:',answer)\n",
    "    machine_answers.append(answer)\n",
    "\n",
    "\n",
    "#write machine generated answers to human questions\n",
    "with open(path+article_name+'_machine_answers.txt', 'w') as file:\n",
    "    for element in machine_answers:\n",
    "        file.write(element + \"\\n\")\n",
    "    "
   ]
  },
  {
   "cell_type": "markdown",
   "metadata": {},
   "source": [
    "# Question Analysis"
   ]
  },
  {
   "cell_type": "code",
   "execution_count": 11,
   "metadata": {},
   "outputs": [
    {
     "name": "stdout",
     "output_type": "stream",
     "text": [
      "Anders_Celsius\n",
      "['When did Anders Celcius publish his observations on the aurora borealis?', 'When did Anders Celcius publish his observations on the aurora borealis?', 'What did Anders Celsius determine about the boiling of water?', 'What did Anders Celsius determine about the boiling of water?', 'Which temperature scale did Celsius propose?', 'Which temperature scale did Celsius propose?', 'What is the boiling point of water dependent on?', 'What is the boiling point of water dependent on?', 'Where was Celsius born?', 'Where was Celsius born?', 'Whad did Celsius report in his paper \"Observations of two persistent degrees on a thermometer\"?', 'How old was Celsius when he died?', 'How old was Celsius when he died?', 'What is temperature would water have to be to be halfway between its standard boiling and freezing point?', \"What is the difference between Celsius' original temperature scale and the one we use today?\", \"What is the difference between Celsius' original temperature scale and the one we use today?\"]\n",
      "['When was Anders Celsius born?', 'When did Galileo visit Germany?', 'In what year was the Centigrade temperature scale proposed?', 'When was Anders Celsius born?', 'Where did his family originate from?', 'Where was the family estate located?', 'What does celsus mean in English?', \"Who was Nils Celsius's uncle?\", 'Who was a talented mathematician from an early age?', 'Where did Anders Celsius study?']\n"
     ]
    }
   ],
   "source": [
    "# Question analysis\n",
    "\n",
    "#elements\n",
    "print(article_name)\n",
    "print(human_questions)\n",
    "print(machine_questions) #machine questions"
   ]
  },
  {
   "cell_type": "code",
   "execution_count": 12,
   "metadata": {},
   "outputs": [],
   "source": [
    "import importlib\n",
    "import error_metrics  # Import the module itself, not the individual items\n",
    "importlib.reload(error_metrics)\n",
    "from error_metrics import *  # Re-import to update the namespace"
   ]
  },
  {
   "cell_type": "code",
   "execution_count": 13,
   "metadata": {},
   "outputs": [],
   "source": [
    "## QUESTION ANALYSIS - Syntactic: contrast structure of human vs machine\n",
    "\n",
    "#Human Question Analysis\n",
    "\n",
    "with open(path+article_name+'_question_syntactic_analysis.txt', 'w') as file:\n",
    "\n",
    "      header=('article_name',\n",
    "            'human/machine',\n",
    "            'question',\n",
    "            'is_yes_no_type_question',\n",
    "            'question_type',\n",
    "            'word_count', 'n_content_words', 'n_relevant_words', 'conciseness_score',\n",
    "            'has_verb', 'has_subject', 'has_reasonable_length', 'n_unique_POS','has_coherent_structure', 'fluency_score' \n",
    "            )\n",
    "\n",
    "      file.write('|'.join(header) + \"\\n\")\n",
    "\n",
    "      for i in range(len(human_questions)):\n",
    "            \n",
    "            line=(article_name, #article name\n",
    "                  'human', #human/machine,\n",
    "                  human_questions[i], #question,\n",
    "                  is_yes_no_question(human_questions[i]), #is yes/no type\n",
    "                  classify_question(human_questions[i]), #question_type\n",
    "                  *evaluate_conciseness(human_questions[i], detail=True), #word count, n content words, n relevant words, conciseness score\n",
    "                  *evaluate_syntax_fluency(human_questions[i],detail=True) #'has_verb', 'has_subject', 'has_reasonable_length', 'has_unique_POS','has_coherent_structure', 'fluency_score'\n",
    "                  )\n",
    "\n",
    "            # Convert all elements to strings, converting True/False to 1/0, join them with a comma, and write to the file\n",
    "            line = [str(int(item)) if isinstance(item, bool) else str(item) for item in line]\n",
    "            file.write('|'.join(line) + \"\\n\")\n",
    "\n",
    "#Machine Question Analysis\n",
    "\n",
    "with open(path+article_name+'_question_syntactic_analysis.txt', 'a') as file:\n",
    "\n",
    "      for i in range(len(machine_questions)):\n",
    "            \n",
    "            line=(article_name, #article name\n",
    "                  'machine', #human/machine,\n",
    "                  machine_questions[i], #question,\n",
    "                  is_yes_no_question(machine_questions[i]), #is yes/no type\n",
    "                  classify_question(machine_questions[i]), #question_type\n",
    "                  *evaluate_conciseness(machine_questions[i], detail=True), #word count, n content words, n relevant words, conciseness score\n",
    "                  *evaluate_syntax_fluency(machine_questions[i],detail=True) #'has_verb', 'has_subject', 'has_reasonable_length', 'has_unique_POS','has_coherent_structure', 'fluency_score'\n",
    "                  )\n",
    "\n",
    "            # Convert all elements to strings, converting True/False to 1/0, join them with a comma, and write to the file\n",
    "            line = [str(int(item)) if isinstance(item, bool) else str(item) for item in line]\n",
    "            file.write('|'.join(line) + \"\\n\")\n"
   ]
  },
  {
   "cell_type": "code",
   "execution_count": 14,
   "metadata": {},
   "outputs": [],
   "source": [
    "## QUESTION ANALYSIS - Semantic: compare content\n",
    "\n",
    "with open(path+article_name+'_question_semantic_analysis.txt', 'w') as file:\n",
    "    \n",
    "      header=('article_name',\n",
    "            'machine_question',\n",
    "            'human_question',\n",
    "            'is_yes_no_machine_question',\n",
    "            'type_machine_question',\n",
    "            'is_yes_no_human_question',\n",
    "            'type_human_question',\n",
    "            'match_yes_no_type_question',\n",
    "            'match_type_question',\n",
    "\n",
    "            'f1_char_score',\n",
    "            #'bleu_score',\n",
    "            'jaccard_similarity',\n",
    "            'jaccard_similarity_bigrams',\n",
    "            'overlap_coefficient'\n",
    "            )\n",
    "      \n",
    "      file.write('|'.join(header) + \"\\n\")\n",
    "\n",
    "      for machine in machine_questions:\n",
    "            for human in human_questions:\n",
    "                  line=(article_name, #article name\n",
    "                        machine,      #machine questions\n",
    "                        human,         #human question\n",
    "                        is_yes_no_question(machine), #is yes/no type machine question\n",
    "                        classify_question(machine), #type machine question\n",
    "                        is_yes_no_question(human), #is yes/no human question\n",
    "                        classify_question(human), #type human question,\n",
    "                        is_yes_no_question(machine)==is_yes_no_question(human), #match yes/no type question\n",
    "                        classify_question(machine)==classify_question(human), #match type question\n",
    "                        \n",
    "                        calculate_f1_character_score(human,machine),\n",
    "                        #calculate_bleu_score(human, machine)\n",
    "                        get_jaccard_similarity(human,machine),\n",
    "                        get_jaccard_similarity_bigrams(human,machine),\n",
    "                        get_overlap_coefficient(human,machine)\n",
    "                        )\n",
    "                              # Convert all elements to strings, converting True/False to 1/0, join them with a comma, and write to the file\n",
    "                  line = [str(int(item)) if isinstance(item, bool) else str(item) for item in line]\n",
    "                  file.write('|'.join(line) + \"\\n\")\n"
   ]
  },
  {
   "cell_type": "markdown",
   "metadata": {},
   "source": [
    "# Answer Analysis"
   ]
  },
  {
   "cell_type": "code",
   "execution_count": 16,
   "metadata": {},
   "outputs": [
    {
     "ename": "TypeError",
     "evalue": "Value after * must be an iterable, not int",
     "output_type": "error",
     "traceback": [
      "\u001b[1;31m---------------------------------------------------------------------------\u001b[0m",
      "\u001b[1;31mTypeError\u001b[0m                                 Traceback (most recent call last)",
      "\u001b[1;32mc:\\Users\\pabma\\Documents\\question_answering\\question_generate_answer_system\\model_evaluation.ipynb Cell 18\u001b[0m line \u001b[0;36m3\n\u001b[0;32m     <a href='vscode-notebook-cell:/c%3A/Users/pabma/Documents/question_answering/question_generate_answer_system/model_evaluation.ipynb#X23sZmlsZQ%3D%3D?line=31'>32</a>\u001b[0m file\u001b[39m.\u001b[39mwrite(\u001b[39m'\u001b[39m\u001b[39m|\u001b[39m\u001b[39m'\u001b[39m\u001b[39m.\u001b[39mjoin(header) \u001b[39m+\u001b[39m \u001b[39m\"\u001b[39m\u001b[39m\\n\u001b[39;00m\u001b[39m\"\u001b[39m)\n\u001b[0;32m     <a href='vscode-notebook-cell:/c%3A/Users/pabma/Documents/question_answering/question_generate_answer_system/model_evaluation.ipynb#X23sZmlsZQ%3D%3D?line=33'>34</a>\u001b[0m \u001b[39mfor\u001b[39;00m i \u001b[39min\u001b[39;00m \u001b[39mrange\u001b[39m(\u001b[39mlen\u001b[39m(human_questions)):\n\u001b[1;32m---> <a href='vscode-notebook-cell:/c%3A/Users/pabma/Documents/question_answering/question_generate_answer_system/model_evaluation.ipynb#X23sZmlsZQ%3D%3D?line=35'>36</a>\u001b[0m       line\u001b[39m=\u001b[39m(article_name, \u001b[39m#article name\u001b[39;00m\n\u001b[0;32m     <a href='vscode-notebook-cell:/c%3A/Users/pabma/Documents/question_answering/question_generate_answer_system/model_evaluation.ipynb#X23sZmlsZQ%3D%3D?line=36'>37</a>\u001b[0m             human_questions[i], \u001b[39m#human question,\u001b[39;00m\n\u001b[0;32m     <a href='vscode-notebook-cell:/c%3A/Users/pabma/Documents/question_answering/question_generate_answer_system/model_evaluation.ipynb#X23sZmlsZQ%3D%3D?line=37'>38</a>\u001b[0m             is_yes_no_question(human_questions[i]), \u001b[39m#is yes/no type\u001b[39;00m\n\u001b[0;32m     <a href='vscode-notebook-cell:/c%3A/Users/pabma/Documents/question_answering/question_generate_answer_system/model_evaluation.ipynb#X23sZmlsZQ%3D%3D?line=38'>39</a>\u001b[0m             classify_question(human_questions[i]), \u001b[39m#question_type\u001b[39;00m\n\u001b[0;32m     <a href='vscode-notebook-cell:/c%3A/Users/pabma/Documents/question_answering/question_generate_answer_system/model_evaluation.ipynb#X23sZmlsZQ%3D%3D?line=39'>40</a>\u001b[0m             human_answers[i], \u001b[39m#human answer,\u001b[39;00m\n\u001b[0;32m     <a href='vscode-notebook-cell:/c%3A/Users/pabma/Documents/question_answering/question_generate_answer_system/model_evaluation.ipynb#X23sZmlsZQ%3D%3D?line=40'>41</a>\u001b[0m             machine_answers[i], \u001b[39m#machine answer,\u001b[39;00m\n\u001b[0;32m     <a href='vscode-notebook-cell:/c%3A/Users/pabma/Documents/question_answering/question_generate_answer_system/model_evaluation.ipynb#X23sZmlsZQ%3D%3D?line=41'>42</a>\u001b[0m             is_yes_no_answer(human_answers[i]), \u001b[39m#is yes/no type human\u001b[39;00m\n\u001b[0;32m     <a href='vscode-notebook-cell:/c%3A/Users/pabma/Documents/question_answering/question_generate_answer_system/model_evaluation.ipynb#X23sZmlsZQ%3D%3D?line=42'>43</a>\u001b[0m             is_yes_no_answer(machine_answers[i]), \u001b[39m#is yes/no type machine\u001b[39;00m\n\u001b[0;32m     <a href='vscode-notebook-cell:/c%3A/Users/pabma/Documents/question_answering/question_generate_answer_system/model_evaluation.ipynb#X23sZmlsZQ%3D%3D?line=43'>44</a>\u001b[0m             is_yes_no_question(human_questions[i])\u001b[39m==\u001b[39mis_yes_no_answer(human_answers[i]), \u001b[39m#'is_coherent_type_human_answer',\u001b[39;00m\n\u001b[0;32m     <a href='vscode-notebook-cell:/c%3A/Users/pabma/Documents/question_answering/question_generate_answer_system/model_evaluation.ipynb#X23sZmlsZQ%3D%3D?line=44'>45</a>\u001b[0m             is_yes_no_question(human_questions[i])\u001b[39m==\u001b[39mis_yes_no_answer(machine_answers[i]), \u001b[39m#'is_coherent_type_machine_answer',\u001b[39;00m\n\u001b[0;32m     <a href='vscode-notebook-cell:/c%3A/Users/pabma/Documents/question_answering/question_generate_answer_system/model_evaluation.ipynb#X23sZmlsZQ%3D%3D?line=45'>46</a>\u001b[0m             \n\u001b[0;32m     <a href='vscode-notebook-cell:/c%3A/Users/pabma/Documents/question_answering/question_generate_answer_system/model_evaluation.ipynb#X23sZmlsZQ%3D%3D?line=46'>47</a>\u001b[0m             \u001b[39m#Semantic\u001b[39;00m\n\u001b[0;32m     <a href='vscode-notebook-cell:/c%3A/Users/pabma/Documents/question_answering/question_generate_answer_system/model_evaluation.ipynb#X23sZmlsZQ%3D%3D?line=47'>48</a>\u001b[0m             calculate_f1_character_score(human_answers[i],machine_answers[i]),\n\u001b[0;32m     <a href='vscode-notebook-cell:/c%3A/Users/pabma/Documents/question_answering/question_generate_answer_system/model_evaluation.ipynb#X23sZmlsZQ%3D%3D?line=48'>49</a>\u001b[0m             \u001b[39m#calculate_bleu_score(human, machine)\u001b[39;00m\n\u001b[0;32m     <a href='vscode-notebook-cell:/c%3A/Users/pabma/Documents/question_answering/question_generate_answer_system/model_evaluation.ipynb#X23sZmlsZQ%3D%3D?line=49'>50</a>\u001b[0m             get_jaccard_similarity(human_answers[i],machine_answers[i]),\n\u001b[0;32m     <a href='vscode-notebook-cell:/c%3A/Users/pabma/Documents/question_answering/question_generate_answer_system/model_evaluation.ipynb#X23sZmlsZQ%3D%3D?line=50'>51</a>\u001b[0m             get_jaccard_similarity_bigrams(human_answers[i],machine_answers[i]),\n\u001b[0;32m     <a href='vscode-notebook-cell:/c%3A/Users/pabma/Documents/question_answering/question_generate_answer_system/model_evaluation.ipynb#X23sZmlsZQ%3D%3D?line=51'>52</a>\u001b[0m             get_overlap_coefficient(human_answers[i],machine_answers[i]),\n\u001b[0;32m     <a href='vscode-notebook-cell:/c%3A/Users/pabma/Documents/question_answering/question_generate_answer_system/model_evaluation.ipynb#X23sZmlsZQ%3D%3D?line=52'>53</a>\u001b[0m \n\u001b[0;32m     <a href='vscode-notebook-cell:/c%3A/Users/pabma/Documents/question_answering/question_generate_answer_system/model_evaluation.ipynb#X23sZmlsZQ%3D%3D?line=53'>54</a>\u001b[0m             \u001b[39m#Syntactic human\u001b[39;00m\n\u001b[0;32m     <a href='vscode-notebook-cell:/c%3A/Users/pabma/Documents/question_answering/question_generate_answer_system/model_evaluation.ipynb#X23sZmlsZQ%3D%3D?line=54'>55</a>\u001b[0m             \u001b[39m*\u001b[39mevaluate_conciseness(human_answers[i], detail\u001b[39m=\u001b[39m\u001b[39mTrue\u001b[39;00m), \u001b[39m#word c,ount, n content words, n relevant words, conciseness score\u001b[39;00m\n\u001b[0;32m     <a href='vscode-notebook-cell:/c%3A/Users/pabma/Documents/question_answering/question_generate_answer_system/model_evaluation.ipynb#X23sZmlsZQ%3D%3D?line=55'>56</a>\u001b[0m             \u001b[39m*\u001b[39mevaluate_syntax_fluency(human_answers[i],detail\u001b[39m=\u001b[39m\u001b[39mTrue\u001b[39;00m), \u001b[39m#'has_verb', 'has_subject', 'has_reasonable_length', 'has_unique_POS','has_coherent_structure', 'fluency_score'\u001b[39;00m\n\u001b[0;32m     <a href='vscode-notebook-cell:/c%3A/Users/pabma/Documents/question_answering/question_generate_answer_system/model_evaluation.ipynb#X23sZmlsZQ%3D%3D?line=56'>57</a>\u001b[0m       \n\u001b[0;32m     <a href='vscode-notebook-cell:/c%3A/Users/pabma/Documents/question_answering/question_generate_answer_system/model_evaluation.ipynb#X23sZmlsZQ%3D%3D?line=57'>58</a>\u001b[0m             \u001b[39m#Syntactic machine\u001b[39;00m\n\u001b[0;32m     <a href='vscode-notebook-cell:/c%3A/Users/pabma/Documents/question_answering/question_generate_answer_system/model_evaluation.ipynb#X23sZmlsZQ%3D%3D?line=58'>59</a>\u001b[0m             \u001b[39m*\u001b[39mevaluate_conciseness(machine_answers[i], detail\u001b[39m=\u001b[39m\u001b[39mTrue\u001b[39;00m), \u001b[39m#word count, n content words, n relevant words, conciseness score\u001b[39;00m\n\u001b[0;32m     <a href='vscode-notebook-cell:/c%3A/Users/pabma/Documents/question_answering/question_generate_answer_system/model_evaluation.ipynb#X23sZmlsZQ%3D%3D?line=59'>60</a>\u001b[0m             \u001b[39m*\u001b[39mevaluate_syntax_fluency(machine_answers[i],detail\u001b[39m=\u001b[39m\u001b[39mTrue\u001b[39;00m) \u001b[39m#'has_verb', 'has_subject', 'has_reasonable_length', 'has_unique_POS','has_coherent_structure', 'fluency_score'\u001b[39;00m\n\u001b[0;32m     <a href='vscode-notebook-cell:/c%3A/Users/pabma/Documents/question_answering/question_generate_answer_system/model_evaluation.ipynb#X23sZmlsZQ%3D%3D?line=60'>61</a>\u001b[0m       \n\u001b[0;32m     <a href='vscode-notebook-cell:/c%3A/Users/pabma/Documents/question_answering/question_generate_answer_system/model_evaluation.ipynb#X23sZmlsZQ%3D%3D?line=61'>62</a>\u001b[0m             )\n\u001b[0;32m     <a href='vscode-notebook-cell:/c%3A/Users/pabma/Documents/question_answering/question_generate_answer_system/model_evaluation.ipynb#X23sZmlsZQ%3D%3D?line=63'>64</a>\u001b[0m       \u001b[39m# Convert all elements to strings, converting True/False to 1/0, join them with a comma, and write to the file\u001b[39;00m\n\u001b[0;32m     <a href='vscode-notebook-cell:/c%3A/Users/pabma/Documents/question_answering/question_generate_answer_system/model_evaluation.ipynb#X23sZmlsZQ%3D%3D?line=64'>65</a>\u001b[0m       line \u001b[39m=\u001b[39m [\u001b[39mstr\u001b[39m(\u001b[39mint\u001b[39m(item)) \u001b[39mif\u001b[39;00m \u001b[39misinstance\u001b[39m(item, \u001b[39mbool\u001b[39m) \u001b[39melse\u001b[39;00m \u001b[39mstr\u001b[39m(item) \u001b[39mfor\u001b[39;00m item \u001b[39min\u001b[39;00m line]\n",
      "\u001b[1;31mTypeError\u001b[0m: Value after * must be an iterable, not int"
     ]
    }
   ],
   "source": [
    "## Answer Analysis - Semantic and Syntactic\n",
    "\n",
    "with open(path+article_name+'_answer_consolidated_analysis.txt', 'w') as file:\n",
    "      header=('article_name',\n",
    "      'human_question',\n",
    "      'is_yes_no_type_question',\n",
    "      'question_type',\n",
    "      'human_answer',\n",
    "      'machine_answer',\n",
    "      'is_yes_no_type_human_answer',\n",
    "      'is_yes_no_type_machine_answer',\n",
    "      'is_coherent_type_human_answer',\n",
    "      'is_coherent_type_machine_answer',\n",
    "      \n",
    "      #Semantic\n",
    "      'f1_char_score',\n",
    "      #'bleu_score',\n",
    "      'jaccard_similarity',\n",
    "      'jaccard_similarity_bigrams',\n",
    "      'overlap_coefficient',\n",
    "      \n",
    "      #Syntactic human\n",
    "      'word_count_human', 'n_content_words_human', 'n_relevant_words_human', 'conciseness_score_human',\n",
    "      'has_verb_human', 'has_subject_human', 'has_reasonable_length_human', 'n_unique_POS_human','has_coherent_structure_human', 'fluency_score_human', \n",
    "      \n",
    "      #Syntactic machine\n",
    "      'word_count_machine', 'n_content_words_machine', 'n_relevant_words_machine', 'conciseness_score_machine',\n",
    "      'has_verb_machine', 'has_subject_machine', 'has_reasonable_length_machine', 'n_unique_POS_machine','has_coherent_structure_machine', 'fluency_score_machine' \n",
    "      \n",
    "      )\n",
    "\n",
    "      file.write('|'.join(header) + \"\\n\")\n",
    "      \n",
    "      for i in range(len(human_questions)):\n",
    "      \n",
    "            line=(article_name, #article name\n",
    "                  human_questions[i], #human question,\n",
    "                  is_yes_no_question(human_questions[i]), #is yes/no type\n",
    "                  classify_question(human_questions[i]), #question_type\n",
    "                  human_answers[i], #human answer,\n",
    "                  machine_answers[i], #machine answer,\n",
    "                  is_yes_no_answer(human_answers[i]), #is yes/no type human\n",
    "                  is_yes_no_answer(machine_answers[i]), #is yes/no type machine\n",
    "                  is_yes_no_question(human_questions[i])==is_yes_no_answer(human_answers[i]), #'is_coherent_type_human_answer',\n",
    "                  is_yes_no_question(human_questions[i])==is_yes_no_answer(machine_answers[i]), #'is_coherent_type_machine_answer',\n",
    "                  \n",
    "                  #Semantic\n",
    "                  calculate_f1_character_score(human_answers[i],machine_answers[i]),\n",
    "                  #calculate_bleu_score(human, machine)\n",
    "                  get_jaccard_similarity(human_answers[i],machine_answers[i]),\n",
    "                  get_jaccard_similarity_bigrams(human_answers[i],machine_answers[i]),\n",
    "                  get_overlap_coefficient(human_answers[i],machine_answers[i]),\n",
    "\n",
    "                  #Syntactic human\n",
    "                  *evaluate_conciseness(human_answers[i], detail=True), #word c,ount, n content words, n relevant words, conciseness score\n",
    "                  *evaluate_syntax_fluency(human_answers[i],detail=True), #'has_verb', 'has_subject', 'has_reasonable_length', 'has_unique_POS','has_coherent_structure', 'fluency_score'\n",
    "            \n",
    "                  #Syntactic machine\n",
    "                  *evaluate_conciseness(machine_answers[i], detail=True), #word count, n content words, n relevant words, conciseness score\n",
    "                  *evaluate_syntax_fluency(machine_answers[i],detail=True) #'has_verb', 'has_subject', 'has_reasonable_length', 'has_unique_POS','has_coherent_structure', 'fluency_score'\n",
    "            \n",
    "                  )\n",
    "\n",
    "            # Convert all elements to strings, converting True/False to 1/0, join them with a comma, and write to the file\n",
    "            line = [str(int(item)) if isinstance(item, bool) else str(item) for item in line]\n",
    "            file.write('|'.join(line) + \"\\n\")                                       \n",
    "\n"
   ]
  },
  {
   "cell_type": "code",
   "execution_count": 4,
   "metadata": {},
   "outputs": [
    {
     "name": "stdout",
     "output_type": "stream",
     "text": [
      "Requirement already satisfied: pandas in c:\\users\\pabma\\anaconda3\\lib\\site-packages (2.0.3)\n",
      "Requirement already satisfied: matplotlib in c:\\users\\pabma\\anaconda3\\lib\\site-packages (3.7.2)\n",
      "Requirement already satisfied: seaborn in c:\\users\\pabma\\anaconda3\\lib\\site-packages (0.12.2)\n",
      "Requirement already satisfied: python-dateutil>=2.8.2 in c:\\users\\pabma\\anaconda3\\lib\\site-packages (from pandas) (2.8.2)\n",
      "Requirement already satisfied: pytz>=2020.1 in c:\\users\\pabma\\anaconda3\\lib\\site-packages (from pandas) (2023.3.post1)\n",
      "Requirement already satisfied: tzdata>=2022.1 in c:\\users\\pabma\\anaconda3\\lib\\site-packages (from pandas) (2023.3)\n",
      "Requirement already satisfied: numpy>=1.21.0 in c:\\users\\pabma\\anaconda3\\lib\\site-packages (from pandas) (1.24.3)\n",
      "Requirement already satisfied: contourpy>=1.0.1 in c:\\users\\pabma\\anaconda3\\lib\\site-packages (from matplotlib) (1.0.5)\n",
      "Requirement already satisfied: cycler>=0.10 in c:\\users\\pabma\\anaconda3\\lib\\site-packages (from matplotlib) (0.11.0)\n",
      "Requirement already satisfied: fonttools>=4.22.0 in c:\\users\\pabma\\anaconda3\\lib\\site-packages (from matplotlib) (4.25.0)\n",
      "Requirement already satisfied: kiwisolver>=1.0.1 in c:\\users\\pabma\\anaconda3\\lib\\site-packages (from matplotlib) (1.4.4)\n",
      "Requirement already satisfied: packaging>=20.0 in c:\\users\\pabma\\anaconda3\\lib\\site-packages (from matplotlib) (23.1)\n",
      "Requirement already satisfied: pillow>=6.2.0 in c:\\users\\pabma\\anaconda3\\lib\\site-packages (from matplotlib) (10.0.1)\n",
      "Requirement already satisfied: pyparsing<3.1,>=2.3.1 in c:\\users\\pabma\\anaconda3\\lib\\site-packages (from matplotlib) (3.0.9)\n",
      "Requirement already satisfied: six>=1.5 in c:\\users\\pabma\\anaconda3\\lib\\site-packages (from python-dateutil>=2.8.2->pandas) (1.16.0)\n"
     ]
    },
    {
     "name": "stderr",
     "output_type": "stream",
     "text": [
      "DEPRECATION: Loading egg at c:\\users\\pabma\\anaconda3\\lib\\site-packages\\torchdata-0.7.1-py3.11.egg is deprecated. pip 23.3 will enforce this behaviour change. A possible replacement is to use pip for package installation..\n",
      "DEPRECATION: Loading egg at c:\\users\\pabma\\anaconda3\\lib\\site-packages\\torchtext-0.16.1-py3.11-win-amd64.egg is deprecated. pip 23.3 will enforce this behaviour change. A possible replacement is to use pip for package installation..\n"
     ]
    }
   ],
   "source": [
    "!pip install pandas matplotlib seaborn\n"
   ]
  },
  {
   "cell_type": "code",
   "execution_count": 17,
   "metadata": {},
   "outputs": [],
   "source": [
    "import pandas as pd\n",
    "import matplotlib.pyplot as plt\n",
    "import seaborn as sns\n",
    "\n",
    "# Set style for seaborn\n",
    "sns.set_theme()\n",
    "\n",
    "# Read the CSV files into DataFrames\n",
    "df_q_syntactic = pd.read_csv('files/Abraham_Lincoln_question_syntactic_analysis.txt',sep='|')   \n",
    "df_q_semantic = pd.read_csv('files/Abraham_Lincoln_question_semantic_analysis.txt',sep='|')    \n",
    "df_a_general = pd.read_csv('files/Abraham_Lincoln_answer_consolidated_analysis.txt',sep='|')      \n",
    "\n",
    "\n",
    "\n",
    "\n"
   ]
  },
  {
   "cell_type": "code",
   "execution_count": 18,
   "metadata": {},
   "outputs": [
    {
     "data": {
      "text/html": [
       "<div>\n",
       "<style scoped>\n",
       "    .dataframe tbody tr th:only-of-type {\n",
       "        vertical-align: middle;\n",
       "    }\n",
       "\n",
       "    .dataframe tbody tr th {\n",
       "        vertical-align: top;\n",
       "    }\n",
       "\n",
       "    .dataframe thead th {\n",
       "        text-align: right;\n",
       "    }\n",
       "</style>\n",
       "<table border=\"1\" class=\"dataframe\">\n",
       "  <thead>\n",
       "    <tr style=\"text-align: right;\">\n",
       "      <th></th>\n",
       "      <th></th>\n",
       "      <th>article_name</th>\n",
       "      <th>question</th>\n",
       "      <th>is_yes_no_type_question</th>\n",
       "      <th>word_count</th>\n",
       "      <th>n_content_words</th>\n",
       "      <th>n_relevant_words</th>\n",
       "      <th>conciseness_score</th>\n",
       "      <th>has_verb</th>\n",
       "      <th>has_subject</th>\n",
       "      <th>has_reasonable_length</th>\n",
       "      <th>n_unique_POS</th>\n",
       "      <th>has_coherent_structure</th>\n",
       "      <th>fluency_score</th>\n",
       "    </tr>\n",
       "    <tr>\n",
       "      <th>question_type</th>\n",
       "      <th>human/machine</th>\n",
       "      <th></th>\n",
       "      <th></th>\n",
       "      <th></th>\n",
       "      <th></th>\n",
       "      <th></th>\n",
       "      <th></th>\n",
       "      <th></th>\n",
       "      <th></th>\n",
       "      <th></th>\n",
       "      <th></th>\n",
       "      <th></th>\n",
       "      <th></th>\n",
       "      <th></th>\n",
       "    </tr>\n",
       "  </thead>\n",
       "  <tbody>\n",
       "    <tr>\n",
       "      <th>How</th>\n",
       "      <th>human</th>\n",
       "      <td>4</td>\n",
       "      <td>4</td>\n",
       "      <td>4</td>\n",
       "      <td>4</td>\n",
       "      <td>4</td>\n",
       "      <td>4</td>\n",
       "      <td>4</td>\n",
       "      <td>4</td>\n",
       "      <td>4</td>\n",
       "      <td>4</td>\n",
       "      <td>4</td>\n",
       "      <td>4</td>\n",
       "      <td>4</td>\n",
       "    </tr>\n",
       "    <tr>\n",
       "      <th rowspan=\"2\" valign=\"top\">Open-Ended</th>\n",
       "      <th>human</th>\n",
       "      <td>2</td>\n",
       "      <td>2</td>\n",
       "      <td>2</td>\n",
       "      <td>2</td>\n",
       "      <td>2</td>\n",
       "      <td>2</td>\n",
       "      <td>2</td>\n",
       "      <td>2</td>\n",
       "      <td>2</td>\n",
       "      <td>2</td>\n",
       "      <td>2</td>\n",
       "      <td>2</td>\n",
       "      <td>2</td>\n",
       "    </tr>\n",
       "    <tr>\n",
       "      <th>machine</th>\n",
       "      <td>1</td>\n",
       "      <td>1</td>\n",
       "      <td>1</td>\n",
       "      <td>1</td>\n",
       "      <td>1</td>\n",
       "      <td>1</td>\n",
       "      <td>1</td>\n",
       "      <td>1</td>\n",
       "      <td>1</td>\n",
       "      <td>1</td>\n",
       "      <td>1</td>\n",
       "      <td>1</td>\n",
       "      <td>1</td>\n",
       "    </tr>\n",
       "    <tr>\n",
       "      <th rowspan=\"2\" valign=\"top\">What/Where/Who</th>\n",
       "      <th>human</th>\n",
       "      <td>9</td>\n",
       "      <td>9</td>\n",
       "      <td>9</td>\n",
       "      <td>9</td>\n",
       "      <td>9</td>\n",
       "      <td>9</td>\n",
       "      <td>9</td>\n",
       "      <td>9</td>\n",
       "      <td>9</td>\n",
       "      <td>9</td>\n",
       "      <td>9</td>\n",
       "      <td>9</td>\n",
       "      <td>9</td>\n",
       "    </tr>\n",
       "    <tr>\n",
       "      <th>machine</th>\n",
       "      <td>8</td>\n",
       "      <td>8</td>\n",
       "      <td>8</td>\n",
       "      <td>8</td>\n",
       "      <td>8</td>\n",
       "      <td>8</td>\n",
       "      <td>8</td>\n",
       "      <td>8</td>\n",
       "      <td>8</td>\n",
       "      <td>8</td>\n",
       "      <td>8</td>\n",
       "      <td>8</td>\n",
       "      <td>8</td>\n",
       "    </tr>\n",
       "    <tr>\n",
       "      <th rowspan=\"2\" valign=\"top\">When/Why</th>\n",
       "      <th>human</th>\n",
       "      <td>9</td>\n",
       "      <td>9</td>\n",
       "      <td>9</td>\n",
       "      <td>9</td>\n",
       "      <td>9</td>\n",
       "      <td>9</td>\n",
       "      <td>9</td>\n",
       "      <td>9</td>\n",
       "      <td>9</td>\n",
       "      <td>9</td>\n",
       "      <td>9</td>\n",
       "      <td>9</td>\n",
       "      <td>9</td>\n",
       "    </tr>\n",
       "    <tr>\n",
       "      <th>machine</th>\n",
       "      <td>1</td>\n",
       "      <td>1</td>\n",
       "      <td>1</td>\n",
       "      <td>1</td>\n",
       "      <td>1</td>\n",
       "      <td>1</td>\n",
       "      <td>1</td>\n",
       "      <td>1</td>\n",
       "      <td>1</td>\n",
       "      <td>1</td>\n",
       "      <td>1</td>\n",
       "      <td>1</td>\n",
       "      <td>1</td>\n",
       "    </tr>\n",
       "    <tr>\n",
       "      <th>Yes/No</th>\n",
       "      <th>human</th>\n",
       "      <td>21</td>\n",
       "      <td>21</td>\n",
       "      <td>21</td>\n",
       "      <td>21</td>\n",
       "      <td>21</td>\n",
       "      <td>21</td>\n",
       "      <td>21</td>\n",
       "      <td>21</td>\n",
       "      <td>21</td>\n",
       "      <td>21</td>\n",
       "      <td>21</td>\n",
       "      <td>21</td>\n",
       "      <td>21</td>\n",
       "    </tr>\n",
       "  </tbody>\n",
       "</table>\n",
       "</div>"
      ],
      "text/plain": [
       "                              article_name  question  is_yes_no_type_question  \\\n",
       "question_type  human/machine                                                    \n",
       "How            human                     4         4                        4   \n",
       "Open-Ended     human                     2         2                        2   \n",
       "               machine                   1         1                        1   \n",
       "What/Where/Who human                     9         9                        9   \n",
       "               machine                   8         8                        8   \n",
       "When/Why       human                     9         9                        9   \n",
       "               machine                   1         1                        1   \n",
       "Yes/No         human                    21        21                       21   \n",
       "\n",
       "                              word_count  n_content_words  n_relevant_words  \\\n",
       "question_type  human/machine                                                  \n",
       "How            human                   4                4                 4   \n",
       "Open-Ended     human                   2                2                 2   \n",
       "               machine                 1                1                 1   \n",
       "What/Where/Who human                   9                9                 9   \n",
       "               machine                 8                8                 8   \n",
       "When/Why       human                   9                9                 9   \n",
       "               machine                 1                1                 1   \n",
       "Yes/No         human                  21               21                21   \n",
       "\n",
       "                              conciseness_score  has_verb  has_subject  \\\n",
       "question_type  human/machine                                             \n",
       "How            human                          4         4            4   \n",
       "Open-Ended     human                          2         2            2   \n",
       "               machine                        1         1            1   \n",
       "What/Where/Who human                          9         9            9   \n",
       "               machine                        8         8            8   \n",
       "When/Why       human                          9         9            9   \n",
       "               machine                        1         1            1   \n",
       "Yes/No         human                         21        21           21   \n",
       "\n",
       "                              has_reasonable_length  n_unique_POS  \\\n",
       "question_type  human/machine                                        \n",
       "How            human                              4             4   \n",
       "Open-Ended     human                              2             2   \n",
       "               machine                            1             1   \n",
       "What/Where/Who human                              9             9   \n",
       "               machine                            8             8   \n",
       "When/Why       human                              9             9   \n",
       "               machine                            1             1   \n",
       "Yes/No         human                             21            21   \n",
       "\n",
       "                              has_coherent_structure  fluency_score  \n",
       "question_type  human/machine                                         \n",
       "How            human                               4              4  \n",
       "Open-Ended     human                               2              2  \n",
       "               machine                             1              1  \n",
       "What/Where/Who human                               9              9  \n",
       "               machine                             8              8  \n",
       "When/Why       human                               9              9  \n",
       "               machine                             1              1  \n",
       "Yes/No         human                              21             21  "
      ]
     },
     "execution_count": 18,
     "metadata": {},
     "output_type": "execute_result"
    }
   ],
   "source": [
    "df_q_syntactic.groupby(['question_type','human/machine']).count()"
   ]
  },
  {
   "cell_type": "code",
   "execution_count": 16,
   "metadata": {},
   "outputs": [
    {
     "ename": "ValueError",
     "evalue": "cannot insert question_type, already exists",
     "output_type": "error",
     "traceback": [
      "\u001b[1;31m---------------------------------------------------------------------------\u001b[0m",
      "\u001b[1;31mValueError\u001b[0m                                Traceback (most recent call last)",
      "\u001b[1;32m~\\AppData\\Local\\Temp\\ipykernel_9232\\1903758375.py\u001b[0m in \u001b[0;36m?\u001b[1;34m()\u001b[0m\n\u001b[0;32m      1\u001b[0m percentage_df = (df_q_syntactic.groupby(['question_type', 'human/machine'])\n\u001b[0;32m      2\u001b[0m                              \u001b[1;33m.\u001b[0m\u001b[0msize\u001b[0m\u001b[1;33m(\u001b[0m\u001b[1;33m)\u001b[0m\u001b[1;33m\u001b[0m\u001b[1;33m\u001b[0m\u001b[0m\n\u001b[0;32m      3\u001b[0m                              \u001b[1;33m.\u001b[0m\u001b[0mgroupby\u001b[0m\u001b[1;33m(\u001b[0m\u001b[0mlevel\u001b[0m\u001b[1;33m=\u001b[0m\u001b[1;36m0\u001b[0m\u001b[1;33m)\u001b[0m\u001b[1;33m\u001b[0m\u001b[1;33m\u001b[0m\u001b[0m\n\u001b[0;32m      4\u001b[0m                              \u001b[1;33m.\u001b[0m\u001b[0mapply\u001b[0m\u001b[1;33m(\u001b[0m\u001b[1;32mlambda\u001b[0m \u001b[0mx\u001b[0m\u001b[1;33m:\u001b[0m \u001b[1;36m100\u001b[0m \u001b[1;33m*\u001b[0m \u001b[0mx\u001b[0m \u001b[1;33m/\u001b[0m \u001b[0mx\u001b[0m\u001b[1;33m.\u001b[0m\u001b[0msum\u001b[0m\u001b[1;33m(\u001b[0m\u001b[1;33m)\u001b[0m\u001b[1;33m)\u001b[0m\u001b[1;33m\u001b[0m\u001b[1;33m\u001b[0m\u001b[0m\n\u001b[1;32m----> 5\u001b[1;33m                              .reset_index(name='percentage'))\n\u001b[0m\u001b[0;32m      6\u001b[0m \u001b[1;33m\u001b[0m\u001b[0m\n\u001b[0;32m      7\u001b[0m \u001b[1;31m# Plotting\u001b[0m\u001b[1;33m\u001b[0m\u001b[1;33m\u001b[0m\u001b[0m\n\u001b[0;32m      8\u001b[0m \u001b[0mplt\u001b[0m\u001b[1;33m.\u001b[0m\u001b[0mfigure\u001b[0m\u001b[1;33m(\u001b[0m\u001b[0mfigsize\u001b[0m\u001b[1;33m=\u001b[0m\u001b[1;33m(\u001b[0m\u001b[1;36m12\u001b[0m\u001b[1;33m,\u001b[0m \u001b[1;36m6\u001b[0m\u001b[1;33m)\u001b[0m\u001b[1;33m)\u001b[0m\u001b[1;33m\u001b[0m\u001b[1;33m\u001b[0m\u001b[0m\n",
      "\u001b[1;32mc:\\Users\\pabma\\anaconda3\\Lib\\site-packages\\pandas\\core\\series.py\u001b[0m in \u001b[0;36m?\u001b[1;34m(self, level, drop, name, inplace, allow_duplicates)\u001b[0m\n\u001b[0;32m   1614\u001b[0m                 \u001b[1;32melse\u001b[0m\u001b[1;33m:\u001b[0m\u001b[1;33m\u001b[0m\u001b[1;33m\u001b[0m\u001b[0m\n\u001b[0;32m   1615\u001b[0m                     \u001b[0mname\u001b[0m \u001b[1;33m=\u001b[0m \u001b[0mself\u001b[0m\u001b[1;33m.\u001b[0m\u001b[0mname\u001b[0m\u001b[1;33m\u001b[0m\u001b[1;33m\u001b[0m\u001b[0m\n\u001b[0;32m   1616\u001b[0m \u001b[1;33m\u001b[0m\u001b[0m\n\u001b[0;32m   1617\u001b[0m             \u001b[0mdf\u001b[0m \u001b[1;33m=\u001b[0m \u001b[0mself\u001b[0m\u001b[1;33m.\u001b[0m\u001b[0mto_frame\u001b[0m\u001b[1;33m(\u001b[0m\u001b[0mname\u001b[0m\u001b[1;33m)\u001b[0m\u001b[1;33m\u001b[0m\u001b[1;33m\u001b[0m\u001b[0m\n\u001b[1;32m-> 1618\u001b[1;33m             return df.reset_index(\n\u001b[0m\u001b[0;32m   1619\u001b[0m                 \u001b[0mlevel\u001b[0m\u001b[1;33m=\u001b[0m\u001b[0mlevel\u001b[0m\u001b[1;33m,\u001b[0m \u001b[0mdrop\u001b[0m\u001b[1;33m=\u001b[0m\u001b[0mdrop\u001b[0m\u001b[1;33m,\u001b[0m \u001b[0mallow_duplicates\u001b[0m\u001b[1;33m=\u001b[0m\u001b[0mallow_duplicates\u001b[0m\u001b[1;33m\u001b[0m\u001b[1;33m\u001b[0m\u001b[0m\n\u001b[0;32m   1620\u001b[0m             )\n\u001b[0;32m   1621\u001b[0m         \u001b[1;32mreturn\u001b[0m \u001b[1;32mNone\u001b[0m\u001b[1;33m\u001b[0m\u001b[1;33m\u001b[0m\u001b[0m\n",
      "\u001b[1;32mc:\\Users\\pabma\\anaconda3\\Lib\\site-packages\\pandas\\core\\frame.py\u001b[0m in \u001b[0;36m?\u001b[1;34m(self, level, drop, inplace, col_level, col_fill, allow_duplicates, names)\u001b[0m\n\u001b[0;32m   6205\u001b[0m                     level_values = algorithms.take(\n\u001b[0;32m   6206\u001b[0m                         \u001b[0mlevel_values\u001b[0m\u001b[1;33m,\u001b[0m \u001b[0mlab\u001b[0m\u001b[1;33m,\u001b[0m \u001b[0mallow_fill\u001b[0m\u001b[1;33m=\u001b[0m\u001b[1;32mTrue\u001b[0m\u001b[1;33m,\u001b[0m \u001b[0mfill_value\u001b[0m\u001b[1;33m=\u001b[0m\u001b[0mlev\u001b[0m\u001b[1;33m.\u001b[0m\u001b[0m_na_value\u001b[0m\u001b[1;33m\u001b[0m\u001b[1;33m\u001b[0m\u001b[0m\n\u001b[0;32m   6207\u001b[0m                     )\n\u001b[0;32m   6208\u001b[0m \u001b[1;33m\u001b[0m\u001b[0m\n\u001b[1;32m-> 6209\u001b[1;33m                 new_obj.insert(\n\u001b[0m\u001b[0;32m   6210\u001b[0m                     \u001b[1;36m0\u001b[0m\u001b[1;33m,\u001b[0m\u001b[1;33m\u001b[0m\u001b[1;33m\u001b[0m\u001b[0m\n\u001b[0;32m   6211\u001b[0m                     \u001b[0mname\u001b[0m\u001b[1;33m,\u001b[0m\u001b[1;33m\u001b[0m\u001b[1;33m\u001b[0m\u001b[0m\n\u001b[0;32m   6212\u001b[0m                     \u001b[0mlevel_values\u001b[0m\u001b[1;33m,\u001b[0m\u001b[1;33m\u001b[0m\u001b[1;33m\u001b[0m\u001b[0m\n",
      "\u001b[1;32mc:\\Users\\pabma\\anaconda3\\Lib\\site-packages\\pandas\\core\\frame.py\u001b[0m in \u001b[0;36m?\u001b[1;34m(self, loc, column, value, allow_duplicates)\u001b[0m\n\u001b[0;32m   4768\u001b[0m                 \u001b[1;34m\"'self.flags.allows_duplicate_labels' is False.\"\u001b[0m\u001b[1;33m\u001b[0m\u001b[1;33m\u001b[0m\u001b[0m\n\u001b[0;32m   4769\u001b[0m             )\n\u001b[0;32m   4770\u001b[0m         \u001b[1;32mif\u001b[0m \u001b[1;32mnot\u001b[0m \u001b[0mallow_duplicates\u001b[0m \u001b[1;32mand\u001b[0m \u001b[0mcolumn\u001b[0m \u001b[1;32min\u001b[0m \u001b[0mself\u001b[0m\u001b[1;33m.\u001b[0m\u001b[0mcolumns\u001b[0m\u001b[1;33m:\u001b[0m\u001b[1;33m\u001b[0m\u001b[1;33m\u001b[0m\u001b[0m\n\u001b[0;32m   4771\u001b[0m             \u001b[1;31m# Should this be a different kind of error??\u001b[0m\u001b[1;33m\u001b[0m\u001b[1;33m\u001b[0m\u001b[0m\n\u001b[1;32m-> 4772\u001b[1;33m             \u001b[1;32mraise\u001b[0m \u001b[0mValueError\u001b[0m\u001b[1;33m(\u001b[0m\u001b[1;34mf\"cannot insert {column}, already exists\"\u001b[0m\u001b[1;33m)\u001b[0m\u001b[1;33m\u001b[0m\u001b[1;33m\u001b[0m\u001b[0m\n\u001b[0m\u001b[0;32m   4773\u001b[0m         \u001b[1;32mif\u001b[0m \u001b[1;32mnot\u001b[0m \u001b[0misinstance\u001b[0m\u001b[1;33m(\u001b[0m\u001b[0mloc\u001b[0m\u001b[1;33m,\u001b[0m \u001b[0mint\u001b[0m\u001b[1;33m)\u001b[0m\u001b[1;33m:\u001b[0m\u001b[1;33m\u001b[0m\u001b[1;33m\u001b[0m\u001b[0m\n\u001b[0;32m   4774\u001b[0m             \u001b[1;32mraise\u001b[0m \u001b[0mTypeError\u001b[0m\u001b[1;33m(\u001b[0m\u001b[1;34m\"loc must be int\"\u001b[0m\u001b[1;33m)\u001b[0m\u001b[1;33m\u001b[0m\u001b[1;33m\u001b[0m\u001b[0m\n\u001b[0;32m   4775\u001b[0m \u001b[1;33m\u001b[0m\u001b[0m\n",
      "\u001b[1;31mValueError\u001b[0m: cannot insert question_type, already exists"
     ]
    }
   ],
   "source": [
    "percentage_df = (df_q_syntactic.groupby(['question_type', 'human/machine'])\n",
    "                             .size()\n",
    "                             .groupby(level=0)\n",
    "                             .apply(lambda x: 100 * x / x.sum())\n",
    "                             .reset_index(name='percentage'))\n",
    "\n",
    "# Plotting\n",
    "plt.figure(figsize=(12, 6))\n",
    "sns.barplot(x='question_type', y='percentage', hue='human/machine', data=percentage_df)\n",
    "plt.title('Percentage of Question Types by Human/Machine')\n",
    "plt.xlabel('Question Type')\n",
    "plt.ylabel('Percentage of Total Cases (%)')\n",
    "plt.xticks(rotation=45)  # Rotates the labels on the x-axis for better readability\n",
    "plt.show()"
   ]
  }
 ],
 "metadata": {
  "kernelspec": {
   "display_name": "base",
   "language": "python",
   "name": "python3"
  },
  "language_info": {
   "codemirror_mode": {
    "name": "ipython",
    "version": 3
   },
   "file_extension": ".py",
   "mimetype": "text/x-python",
   "name": "python",
   "nbconvert_exporter": "python",
   "pygments_lexer": "ipython3",
   "version": "3.11.5"
  }
 },
 "nbformat": 4,
 "nbformat_minor": 2
}
