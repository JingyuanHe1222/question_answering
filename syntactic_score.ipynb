{
 "cells": [
  {
   "cell_type": "markdown",
   "metadata": {},
   "source": [
    "# Syntactic score functions"
   ]
  },
  {
   "cell_type": "markdown",
   "metadata": {},
   "source": [
    "## Yes/No question classification"
   ]
  },
  {
   "cell_type": "code",
   "execution_count": 55,
   "metadata": {},
   "outputs": [
    {
     "name": "stdout",
     "output_type": "stream",
     "text": [
      "Sentence: Is this right?\n",
      "Is yes/no type question: 1.00\n",
      "\n",
      "Sentence: Which questions are you thinking of?\n",
      "Is yes/no type question: 0.00\n",
      "\n",
      "Sentence: Hassan\n",
      "Is yes/no type question: 0.00\n",
      "\n",
      "Sentence: Has an\n",
      "Is yes/no type question: 1.00\n",
      "\n"
     ]
    }
   ],
   "source": [
    "def is_yes_no_question(question):\n",
    "    question = question.lower().strip()\n",
    "    #purposely has space after words since it should be a word in itself as part of a sentence\n",
    "    if question.startswith(('is ', 'are ', 'do ', 'does ', 'did ', 'was ', 'were ', 'will ', 'can ', 'could ', 'should ', 'have ', 'has ', 'had ')): \n",
    "        return 1\n",
    "    else:\n",
    "        return 0\n",
    "\n",
    "def is_yes_no_answer(answer):\n",
    "    answer = answer.lower().strip()\n",
    "    if answer.startswith(('yes','no')):\n",
    "        return 1\n",
    "    else:\n",
    "        return 0\n",
    "    \n",
    "# Test the function\n",
    "sentences = [\n",
    "    \"Is this right?\",\n",
    "    \"Which questions are you thinking of?\",\n",
    "    \"Hassan\",\n",
    "    'Has an'\n",
    "]\n",
    "\n",
    "for sentence in sentences:\n",
    "    is_yes_no = is_yes_no_question(sentence)\n",
    "    print(f\"Sentence: {sentence}\")\n",
    "    print(f\"Is yes/no type question: {is_yes_no:.2f}\\n\")"
   ]
  },
  {
   "cell_type": "markdown",
   "metadata": {},
   "source": [
    "## Conciseness"
   ]
  },
  {
   "cell_type": "code",
   "execution_count": 116,
   "metadata": {},
   "outputs": [
    {
     "name": "stdout",
     "output_type": "stream",
     "text": [
      "Answer: Yes.\n",
      "Conciseness Score: 0.90\n",
      "\n",
      "Answer: The cat sat on the mat.\n",
      "Conciseness Score: 0.43\n",
      "\n",
      "Answer: This is a somewhat more elaborative answer providing detailed information, albeit not necessarily in a concise manner.\n",
      "Conciseness Score: 0.53\n",
      "\n"
     ]
    }
   ],
   "source": [
    "import spacy\n",
    "from nltk.tokenize import word_tokenize\n",
    "\n",
    "# Load the spaCy model for linguistic features\n",
    "nlp = spacy.load(\"en_core_web_sm\")\n",
    "\n",
    "def evaluate_conciseness(answer):\n",
    "    # Tokenize the answer and analyze with spaCy\n",
    "    doc = nlp(answer)\n",
    "    word_count = len(word_tokenize(answer))\n",
    "\n",
    "    # Calculate the ratio of content words (nouns, verbs, adjectives, adverbs) to total words\n",
    "    content_words_count = sum(token.pos in [spacy.symbols.NOUN, spacy.symbols.VERB, spacy.symbols.ADJ, spacy.symbols.ADV] for token in doc)\n",
    "    content_ratio = content_words_count / word_count if word_count else 0\n",
    "\n",
    "    # Conciseness favors higher content ratio (more information with fewer words)\n",
    "    conciseness_score = content_ratio\n",
    "\n",
    "    # Adjusting score for extremely short answers\n",
    "    # Extremely short answers (like 'yes' or 'no') are typically very concise\n",
    "    if word_count <= 2:\n",
    "        conciseness_score = max(conciseness_score, 0.9)\n",
    "\n",
    "    # Adjusting score to be between 0 and 1\n",
    "    conciseness_score = max(0, min(conciseness_score, 1))\n",
    "\n",
    "    return conciseness_score\n",
    "\n",
    "\n",
    "# Test the function\n",
    "answers = [\n",
    "    \"Yes.\",\n",
    "    \"The cat sat on the mat.\",\n",
    "    \"This is a somewhat more elaborative answer providing detailed information, albeit not necessarily in a concise manner.\"\n",
    "]\n",
    "\n",
    "for answer in answers:\n",
    "    score = evaluate_conciseness(answer)\n",
    "    print(f\"Answer: {answer}\\nConciseness Score: {score:.2f}\\n\")"
   ]
  },
  {
   "cell_type": "markdown",
   "metadata": {},
   "source": [
    "## Fluency"
   ]
  },
  {
   "cell_type": "code",
   "execution_count": 92,
   "metadata": {},
   "outputs": [
    {
     "name": "stdout",
     "output_type": "stream",
     "text": [
      "Requirement already satisfied: stanza in c:\\users\\pabma\\anaconda3\\lib\\site-packages (1.6.1)\n",
      "Requirement already satisfied: emoji in c:\\users\\pabma\\anaconda3\\lib\\site-packages (from stanza) (2.8.0)\n",
      "Requirement already satisfied: numpy in c:\\users\\pabma\\anaconda3\\lib\\site-packages (from stanza) (1.24.3)\n",
      "Requirement already satisfied: protobuf>=3.15.0 in c:\\users\\pabma\\anaconda3\\lib\\site-packages (from stanza) (4.25.1)\n",
      "Requirement already satisfied: requests in c:\\users\\pabma\\anaconda3\\lib\\site-packages (from stanza) (2.31.0)\n",
      "Requirement already satisfied: torch>=1.3.0 in c:\\users\\pabma\\anaconda3\\lib\\site-packages (from stanza) (2.1.1+cu121)\n",
      "Requirement already satisfied: tqdm in c:\\users\\pabma\\anaconda3\\lib\\site-packages (from stanza) (4.65.0)\n",
      "Requirement already satisfied: filelock in c:\\users\\pabma\\anaconda3\\lib\\site-packages (from torch>=1.3.0->stanza) (3.9.0)\n",
      "Requirement already satisfied: typing-extensions in c:\\users\\pabma\\anaconda3\\lib\\site-packages (from torch>=1.3.0->stanza) (4.7.1)\n",
      "Requirement already satisfied: sympy in c:\\users\\pabma\\anaconda3\\lib\\site-packages (from torch>=1.3.0->stanza) (1.11.1)\n",
      "Requirement already satisfied: networkx in c:\\users\\pabma\\anaconda3\\lib\\site-packages (from torch>=1.3.0->stanza) (3.1)\n",
      "Requirement already satisfied: jinja2 in c:\\users\\pabma\\anaconda3\\lib\\site-packages (from torch>=1.3.0->stanza) (3.1.2)\n",
      "Requirement already satisfied: fsspec in c:\\users\\pabma\\anaconda3\\lib\\site-packages (from torch>=1.3.0->stanza) (2023.4.0)\n",
      "Requirement already satisfied: charset-normalizer<4,>=2 in c:\\users\\pabma\\anaconda3\\lib\\site-packages (from requests->stanza) (2.0.4)\n",
      "Requirement already satisfied: idna<4,>=2.5 in c:\\users\\pabma\\anaconda3\\lib\\site-packages (from requests->stanza) (3.4)\n",
      "Requirement already satisfied: urllib3<3,>=1.21.1 in c:\\users\\pabma\\anaconda3\\lib\\site-packages (from requests->stanza) (1.26.16)\n",
      "Requirement already satisfied: certifi>=2017.4.17 in c:\\users\\pabma\\anaconda3\\lib\\site-packages (from requests->stanza) (2023.11.17)\n",
      "Requirement already satisfied: colorama in c:\\users\\pabma\\anaconda3\\lib\\site-packages (from tqdm->stanza) (0.4.6)\n",
      "Requirement already satisfied: MarkupSafe>=2.0 in c:\\users\\pabma\\anaconda3\\lib\\site-packages (from jinja2->torch>=1.3.0->stanza) (2.1.1)\n",
      "Requirement already satisfied: mpmath>=0.19 in c:\\users\\pabma\\anaconda3\\lib\\site-packages (from sympy->torch>=1.3.0->stanza) (1.3.0)\n"
     ]
    },
    {
     "data": {
      "application/vnd.jupyter.widget-view+json": {
       "model_id": "b3a81a94d48b4f10ba80b380303c4d34",
       "version_major": 2,
       "version_minor": 0
      },
      "text/plain": [
       "Downloading https://raw.githubusercontent.com/stanfordnlp/stanza-resources/main/resources_1.6.0.json:   0%|   …"
      ]
     },
     "metadata": {},
     "output_type": "display_data"
    },
    {
     "name": "stderr",
     "output_type": "stream",
     "text": [
      "2023-11-26 11:14:40 INFO: Downloading default packages for language: en (English) ...\n",
      "2023-11-26 11:14:42 INFO: File exists: C:\\Users\\pabma\\stanza_resources\\en\\default.zip\n",
      "2023-11-26 11:14:45 INFO: Finished downloading models and saved to C:\\Users\\pabma\\stanza_resources.\n",
      "2023-11-26 11:14:45 INFO: Checking for updates to resources.json in case models have been updated.  Note: this behavior can be turned off with download_method=None or download_method=DownloadMethod.REUSE_RESOURCES\n"
     ]
    },
    {
     "data": {
      "application/vnd.jupyter.widget-view+json": {
       "model_id": "c8cd420adde140ba9d2f38f507b0f927",
       "version_major": 2,
       "version_minor": 0
      },
      "text/plain": [
       "Downloading https://raw.githubusercontent.com/stanfordnlp/stanza-resources/main/resources_1.6.0.json:   0%|   …"
      ]
     },
     "metadata": {},
     "output_type": "display_data"
    },
    {
     "name": "stderr",
     "output_type": "stream",
     "text": [
      "2023-11-26 11:14:45 WARNING: Can not find mwt: default from official model list. Ignoring it.\n",
      "2023-11-26 11:14:46 INFO: Loading these models for language: en (English):\n",
      "=================================\n",
      "| Processor | Package           |\n",
      "---------------------------------\n",
      "| tokenize  | combined          |\n",
      "| pos       | combined_charlm   |\n",
      "| lemma     | combined_nocharlm |\n",
      "| depparse  | combined_charlm   |\n",
      "=================================\n",
      "\n",
      "2023-11-26 11:14:46 INFO: Using device: cuda\n",
      "2023-11-26 11:14:46 INFO: Loading: tokenize\n",
      "2023-11-26 11:14:46 INFO: Loading: pos\n",
      "2023-11-26 11:14:46 INFO: Loading: lemma\n",
      "2023-11-26 11:14:46 INFO: Loading: depparse\n",
      "2023-11-26 11:14:46 INFO: Done loading processors!\n"
     ]
    },
    {
     "name": "stdout",
     "output_type": "stream",
     "text": [
      "Sentence: The quick brown fox jumps over the lazy dog.\n",
      "Syntax Fluency Score: 0.77\n",
      "\n",
      "Sentence: While the fox jumps, the dog barks.\n",
      "Syntax Fluency Score: 0.81\n",
      "\n",
      "Sentence: Fox.\n",
      "Syntax Fluency Score: 0.50\n",
      "\n"
     ]
    }
   ],
   "source": [
    "## FLUENCY\n",
    "\n",
    "!pip install stanza\n",
    "import spacy\n",
    "import torch\n",
    "import stanza\n",
    "\n",
    "# Download and set up the Stanza pipeline\n",
    "stanza.download('en')  # for English\n",
    "nlp = stanza.Pipeline(lang='en', processors='tokenize,mwt,pos,lemma,depparse')\n",
    "\n",
    "# Load the spaCy model\n",
    "nlp = spacy.load(\"en_core_web_sm\")\n",
    "\n",
    "def evaluate_syntax_fluency(sentence):\n",
    "    doc = nlp(sentence)\n",
    "\n",
    "    if len(doc) == 0:\n",
    "        return 0.0  # Empty sentence\n",
    "\n",
    "    num_tokens = len(doc)\n",
    "    if num_tokens <= 2:  # Penalize very short or fragmentary sentences\n",
    "        return 0.5\n",
    "\n",
    "    tree_depths = []\n",
    "    unique_dependency_types = set()\n",
    "\n",
    "    for token in doc:\n",
    "        # Calculate depth of each token in the parse tree\n",
    "        depth = 0\n",
    "        current_token = token\n",
    "        while current_token.head != current_token:\n",
    "            depth += 1\n",
    "            current_token = current_token.head\n",
    "        tree_depths.append(depth)\n",
    "\n",
    "        # Collect unique dependency types\n",
    "        unique_dependency_types.add(token.dep_)\n",
    "\n",
    "    # Metrics\n",
    "    max_depth = max(tree_depths)\n",
    "    depth_variety_score = len(unique_dependency_types) / num_tokens\n",
    "\n",
    "    # Score calculation (adjusted heuristic)\n",
    "    # Higher max depth might indicate complexity (lower fluency)\n",
    "    # More variety in dependency types might indicate richer syntactic structure (higher fluency)\n",
    "    fluency_score = (1 - (max_depth / (2 * num_tokens)) + depth_variety_score) / 2\n",
    "\n",
    "    return fluency_score\n",
    "\n",
    "\n",
    "# Test the function\n",
    "sentences = [\n",
    "    \"The quick brown fox jumps over the lazy dog.\",\n",
    "    \"While the fox jumps, the dog barks.\",\n",
    "    \"Fox.\"\n",
    "]\n",
    "\n",
    "for sentence in sentences:\n",
    "    fluency_score = evaluate_syntax_fluency(sentence)\n",
    "    print(f\"Sentence: {sentence}\")\n",
    "    print(f\"Syntax Fluency Score: {fluency_score:.2f}\\n\")"
   ]
  },
  {
   "cell_type": "markdown",
   "metadata": {},
   "source": [
    "## Syntactic score"
   ]
  },
  {
   "cell_type": "code",
   "execution_count": 120,
   "metadata": {},
   "outputs": [],
   "source": [
    "def syntactic_score(question, answer, weights_IS_yes_no=[1,1,1], weights_NOT_yes_no=[1,1,1], debug=False, extra_outputs='False'):\n",
    "    \n",
    "    #only question and answer are strictly required. Others are set to default values of equal weights, no print out and no additional outputs\n",
    "    #weights of coherency, fluency and conciseness can be anything since they are scaled afterwards. Set equally by default\n",
    "    #There are 2 sets of weights since answers to YES/NO type questions are not comparable to non Yes/No type\n",
    "\n",
    "    is_yes_no_type=is_yes_no_question(question)\n",
    "    coherency = 1 if is_yes_no_question(question) == is_yes_no_answer(answer) else 0\n",
    "    fluency=evaluate_syntax_fluency(answer)\n",
    "    conciseness=evaluate_conciseness(answer)\n",
    "    \n",
    "    #choose adequate weights for the case\n",
    "    if is_yes_no_type==1:\n",
    "        weights=weights_IS_yes_no   \n",
    "    else:\n",
    "        weights=weights_NOT_yes_no   \n",
    "\n",
    "    #calulate score as weighted average\n",
    "    syntactic_score=(coherency*weights[0]+fluency*weights[1]+conciseness*weights[2])/np.sum(weights)\n",
    "\n",
    "    #print out for debug\n",
    "    if debug==True:\n",
    "        print('Q:',question,\n",
    "              '|YES/NO TYPE:',is_yes_no_type, \n",
    "              '||A:',answer,\n",
    "              '|COHERENCY(',weights[0],'):',coherency, \n",
    "              '|FLUENCY(',weights[1],'):', fluency, \n",
    "              '|CONCISENESS(',weights[2],'):',conciseness,\n",
    "              '||SYNTACTIC SCORE:',syntactic_score\n",
    "               ) \n",
    "    \n",
    "    #return outputs\n",
    "    if extra_outputs==True:\n",
    "        return syntactic_score, is_yes_no_type, coherency, fluency, conciseness\n",
    "    else:\n",
    "        return syntactic_score"
   ]
  },
  {
   "cell_type": "code",
   "execution_count": 121,
   "metadata": {},
   "outputs": [
    {
     "name": "stdout",
     "output_type": "stream",
     "text": [
      "Q: Are dogs pets? |YES/NO TYPE: 1 ||A: I dont know |COHERENCY( 1 ): 0 |FLUENCY( 1 ): 0.9375 |CONCISENESS( 1 ): 0.3333333333333333 ||SYNTACTIC SCORE: 0.4236111111111111\n",
      "Q: Is a dog a pet? |YES/NO TYPE: 1 ||A: Yes it is |COHERENCY( 1 ): 1 |FLUENCY( 1 ): 0.9166666666666667 |CONCISENESS( 1 ): 0 ||SYNTACTIC SCORE: 0.638888888888889\n",
      "Q: Is it Saturday |YES/NO TYPE: 1 ||A: It is not Saturday |COHERENCY( 1 ): 0 |FLUENCY( 1 ): 0.9375 |CONCISENESS( 1 ): 0 ||SYNTACTIC SCORE: 0.3125\n",
      "Q: What day is it? |YES/NO TYPE: 0 ||A: No |COHERENCY( 1 ): 0 |FLUENCY( 1 ): 0.5 |CONCISENESS( 1 ): 0.9 ||SYNTACTIC SCORE: 0.4666666666666666\n",
      "Q: Where are you going? |YES/NO TYPE: 0 ||A: Nowhere, stop asking |COHERENCY( 1 ): 0 |FLUENCY( 1 ): 0.9375 |CONCISENESS( 1 ): 0.75 ||SYNTACTIC SCORE: 0.5625\n",
      "Q: Are you goind downtown? |YES/NO TYPE: 1 ||A: YES! |COHERENCY( 1 ): 1 |FLUENCY( 1 ): 0.5 |CONCISENESS( 1 ): 0.9 ||SYNTACTIC SCORE: 0.7999999999999999\n",
      "Q: Did you forget? |YES/NO TYPE: 1 ||A: Maybe I did |COHERENCY( 1 ): 0 |FLUENCY( 1 ): 0.9166666666666667 |CONCISENESS( 1 ): 0.6666666666666666 ||SYNTACTIC SCORE: 0.5277777777777778\n",
      "Q: Have you forgotten? |YES/NO TYPE: 1 ||A: No. Stop bothering |COHERENCY( 1 ): 1 |FLUENCY( 1 ): 0.9375 |CONCISENESS( 1 ): 0.75 ||SYNTACTIC SCORE: 0.8958333333333334\n",
      "Q: How long has it been? |YES/NO TYPE: 0 ||A: Its been very long since we last spoke |COHERENCY( 1 ): 1 |FLUENCY( 1 ): 0.8125 |CONCISENESS( 1 ): 0.5 ||SYNTACTIC SCORE: 0.7708333333333334\n",
      "Q: Has it been long? |YES/NO TYPE: 1 ||A: No, not really |COHERENCY( 1 ): 1 |FLUENCY( 1 ): 0.875 |CONCISENESS( 1 ): 0.25 ||SYNTACTIC SCORE: 0.7083333333333334\n"
     ]
    }
   ],
   "source": [
    "# Examples putting it all together\n",
    "questions=['Are dogs pets?',\n",
    "           'Is a dog a pet?',\n",
    "\n",
    "           'Is it Saturday',\n",
    "           'What day is it?',\n",
    "\n",
    "           'Where are you going?',\n",
    "           'Are you goind downtown?',\n",
    "\n",
    "           'Did you forget?',\n",
    "           'Have you forgotten?',\n",
    "\n",
    "           'How long has it been?',\n",
    "           'Has it been long?'\n",
    "           ]\n",
    "\n",
    "answers=['I dont know',\n",
    "         'Yes it is',\n",
    "\n",
    "         'It is not Saturday',\n",
    "         'No',\n",
    "\n",
    "         'Nowhere, stop asking',\n",
    "         'YES!',\n",
    "         \n",
    "         'Maybe I did',\n",
    "         'No. Stop bothering',\n",
    "\n",
    "         'Its been very long since we last spoke',\n",
    "         'No, not really']\n",
    "\n",
    "# Test the function\n",
    "for i in range(len(questions)):\n",
    "    syntactic_score_=syntactic_score(questions[i],answers[i],debug=True)"
   ]
  },
  {
   "cell_type": "markdown",
   "metadata": {},
   "source": [
    "# QA Dataset application"
   ]
  },
  {
   "cell_type": "markdown",
   "metadata": {},
   "source": [
    "## Dataloader"
   ]
  },
  {
   "cell_type": "code",
   "execution_count": 14,
   "metadata": {},
   "outputs": [
    {
     "name": "stdout",
     "output_type": "stream",
     "text": [
      "[WinError 3] The system cannot find the path specified: \"'/content/drive/MyDrive/2023-FALL/11-611 NLP/NLP Project Ideas'\"\n",
      "h:\\My Drive\\2023-FALL\\11-611 NLP\\Project\n"
     ]
    }
   ],
   "source": [
    "# Change to appropriate local file path\n",
    "%cd '/content/drive/MyDrive/2023-FALL/11-611 NLP/NLP Project Ideas'"
   ]
  },
  {
   "cell_type": "code",
   "execution_count": 15,
   "metadata": {},
   "outputs": [],
   "source": [
    "\n",
    "import torch\n",
    "from torch.utils.data import Dataset\n",
    "import os\n",
    "import numpy as np\n",
    "\n",
    "\n",
    "class CustomData(Dataset):\n",
    "\n",
    "    def __init__(self, file_dir):\n",
    "        self.file = file_dir\n",
    "        self.article_name = []\n",
    "        self.questions = []\n",
    "        self.answers = []\n",
    "        self.q_diffi = []\n",
    "        self.a_diffi = []\n",
    "        self.article_path = []\n",
    "        self.context = {} # only fill when load the dataset\n",
    "\n",
    "        # get question answer pairs\n",
    "        for div in ['S08', 'S09', 'S10']:\n",
    "          skip = True\n",
    "          qa_path = os.path.join(self.file, div, \"question_answer_pairs.txt\")\n",
    "          with open(qa_path, 'rb') as f:\n",
    "            for line in f:\n",
    "              if skip:\n",
    "                skip = False\n",
    "                continue\n",
    "              try:\n",
    "                row = line.decode().split('\\t')\n",
    "              except:\n",
    "                continue\n",
    "              # print(row)\n",
    "              if \"NULL\" in row:\n",
    "                continue # if any feature does not exist -> skip\n",
    "              self.article_name.append(row[0])\n",
    "              self.questions.append(row[1])\n",
    "              self.answers.append(row[2])\n",
    "              self.q_diffi.append(row[3])\n",
    "              self.a_diffi.append(row[4])\n",
    "              self.article_path.append(div + \"/\"+ row[5][:-1]) # get rid of '\\n\n",
    "\n",
    "        print(\"length of dataset: \", len(self.questions))\n",
    "\n",
    "\n",
    "    def __len__(self):\n",
    "        return len(self.questions)\n",
    "\n",
    "    def __getitem__(self, idx):\n",
    "\n",
    "        # retrieve context here -> less mem storage overhead\n",
    "        try:\n",
    "          curr_context = self.context[self.article_name[idx]]\n",
    "        except KeyError:\n",
    "          context_file = self.file + \"/\" + self.article_path[idx] + \".txt\"\n",
    "          # read all content, including the related items\n",
    "          with open(context_file, 'rb') as f:\n",
    "            curr_context = f.read().decode().replace('\\n',' ')\n",
    "          self.context[self.article_name[idx]] = curr_context\n",
    "\n",
    "        #return self.questions[idx], self.answers[idx], curr_context\n",
    "        return (self.article_name[idx],\n",
    "                self.questions[idx],\n",
    "                self.answers[idx],\n",
    "                self.q_diffi[idx],\n",
    "                self.a_diffi[idx],\n",
    "                self.article_path[idx],\n",
    "                curr_context\n",
    "                )\n"
   ]
  },
  {
   "cell_type": "code",
   "execution_count": 110,
   "metadata": {},
   "outputs": [
    {
     "name": "stdout",
     "output_type": "stream",
     "text": [
      "length of dataset:  2725\n",
      "line: 616\n",
      "article_name:  kangaroo\n",
      "question:  What is responsible for converting the hydrogen byproduct of fermentation into acetate?\n",
      " question length: 87\n",
      "answer:  The digestive system of a kangaroo\n",
      " answer length: 34\n",
      "q_diffi:  hard\n",
      "a_diffi:  too hard\n",
      "article_path:  S08/data/set1/a1\n",
      "article:  kangaroo  :For other uses, see kangaroo (disambiguation).  A kangaroo is a marsupial from the family Macropodidae (macropods, meaning 'large foot'). In common use the term is used to describe the largest species from this family, the Red Kangaroo, the Antilopine Kangaroo, and the Eastern and Western Grey Kangaroo of the Macropus genus. The family also includes many smaller species which include the wallabies, tree-kangaroos, wallaroos, pademelons and the Quokka, some 63 living species in all.  Kangaroos are endemic to the continent of Australia, while the smaller macropods are found in Australia and New Guinea.  In general, larger kangaroos have adapted much better to changes wrought to the Australian landscape by humans and though many of their smaller cousins are endangered, they are plentiful. They are not farmed to any extent, but wild kangaroos are shot for meat, over which there is controversy.  Steve Dow: \"An industry that's under the gun\". Sydney Morning Herald online, September 26, 2007.  The kangaroo is an Australian icon: it is featured on the Australian coat of arms,  Australia's coat of arms URL accessed January 6, 2007.  on some of its currency,  The Australian currency URL accessed January 6, 2007.  and is used by many Australian organisations, including Qantas.  The Kangaroo symbol URL accessed January 6, 2007.    The word kangaroo derives from the Guugu Yimidhirr word gangurru, referring to a grey kangaroo.  Etymology of mammal names URL accessed January 7, 2007.  The name was first recorded as \"Kangooroo or Kanguru\" on 4 August,1770, by Lieutenant (later Captain) James Cook on the banks of the Endeavour River at the site of modern Cooktown, when HM Bark Endeavour was beached for almost seven weeks to repair damage sustained on the Great Barrier Reef.  A common myth about the kangaroo's English name is that it came from the Aboriginal words for \"I don't understand you.\" According to this legend, Captain James Cook and naturalist Sir Joseph Banks were exploring Australia when they happened upon the animal. They asked a nearby local what the creatures were called. The local responded \"Kangaroo\", meaning \"I don't understand you\", which Cook took to be the name of the creature.  Tour lecture,  , Dawsonville, GA.  Kangaroo soon became adopted into standard English where it has come to mean any member of the family of kangaroos and wallabies.  Male kangaroos are called bucks, boomers, jacks, or old men; females are does, flyers, or jills, and the young ones are joeys.  Animal Bytes: Kangaroo and Wallaby URL accessed January 7, 2007.  The collective noun for kangaroos is a mob, troop, or court. Kangaroos are sometimes colloquially referred to as roos.    A Tasmanian Forester (Eastern Grey) Kangaroo in motion. There are four species that are commonly referred to as kangaroos: * The Red Kangaroo (Macropus rufus) is the largest surviving marsupial anywhere in the world. Fewer in numbers, the Red Kangaroo occupies the arid and semi-arid centre of the continent. A large male can be 2 metres (6 ft 7 in) tall and weigh 90 kg (200 lb).    * The Eastern Grey Kangaroo (Macropus giganteus) is less well-known than the red (outside of Australia), but the most often seen, as its range covers the fertile eastern part of the continent.  * The Western Grey Kangaroo (Macropus fuliginosus) is slightly smaller again at about 54 kg (119 lb) for a large male. It is found in the southern part of Western Australia, South Australia near the coast, and the Darling River basin. * The Antilopine Kangaroo (Macropus antilopinus) is, essentially, the far-northern equivalent of the Eastern and Western Grey Kangaroos. Like them, it is a creature of the grassy plains and woodlands, and gregarious.  In addition, there are about 50 smaller macropods closely related to the kangaroo in the family Macropodidae.    Red Kangaroo (Macropus rufus) Europeans have long regarded Kangaroos as strange animals. Early explorers described them as creatures that had heads like deer (without antlers), stood upright like men, and hopped like frogs.  Combined with the two-headed appearance of a mother kangaroo, this led many back home to dismiss them as travellers' tales for quite some time.  Kangaroos have large, powerful hind legs, large feet adapted for leaping, a long muscular tail for balance, and a small head. Like all marsupials, female kangaroos have a pouch called a marsupium in which joeys complete postnatal development.     Kangaroos are the only large animals to use hopping as a means of locomotion. The comfortable hopping speed for Red Kangaroo is about 20 25 km/h (13 16 mph), but speeds of up to 70 km/h (44 mph) can be attained, over short distances, while it can sustain a speed of 40 km/h (25 mph) for  nearly two kilometres.    This fast and energy-efficient method of travel has evolved because of the need to regularly cover large distances in search of food and water, rather than the need to escape predators.  Because of its long feet, it cannot walk correctly. To move at slow speeds, it uses its tail to form a tripod with its two forelimbs. It then raises its hind feet forward, in a form of locomotion called \"crawl-walking.\"  The average life expectancy of a kangaroo is about 4 6 years.    Different species of kangaroos eat different diets.  Eastern grey kangaroos are predominantly grazers eating a wide variety of grasses whereas some other species (e.g. red kangaroos and swamp wallabies) include significant amounts of shrubs in the diet. The smaller species of kangaroos also consume hypogeal fungi.  Many species are nocturnal  Archives URL accessed January 7, 2007.  and crepuscular,  Columbus Zoo article URL accessed January 7, 2007.  usually spending the days resting in shade and the cool evenings, nights and mornings moving about and feeding.  Because of its grazing, kangaroos have developed specialized teeth. Its incisors are able to crop grass close to the ground, and its molars chop and grind the grass. Since the two sides of the lower jaw are not joined together, the lower incisors are farther apart, giving the kangaroo a wider bite. The silica in grass is abrasive, so kangaroo molars move forward as they are ground down, and eventually fall out, replaced by new teeth that grow in the back.    Despite having a herbivorous diet similar to ruminants such as cattle which release large quantities of methane through exhaling and eructation, kangaroos release virtually none. The hydrogen byproduct of fermentation is instead converted into acetate, which is then used to provide further energy. Scientists are interested in the possibility of transferring the bacteria responsible from kangaroos to cattle, since the greenhouse gas effect of methane is 23 times greater than that of carbon dioxide.  Radio Australia - Innovations:  \"Methane In Agriculture.\" 15 August  2004. Retrieved 28 August 2007.    Kangaroos have few natural predators. The Thylacine, considered by palaeontologists to have once been a major natural predator of the kangaroo, is now extinct. Other extinct predators included the Marsupial Lion, Megalania and the Wonambi. However, with the arrival of humans in Australia at least 50,000 years ago and the introduction of the dingo about 5,000 years ago, kangaroos have had to adapt.   The mere barking of a dog can set a full-grown male boomer into a wild frenzy.   Wedge-tailed Eagles and other raptors usually eat kangaroo carrion. Goannas and other carnivorous reptiles also pose a danger to smaller kangaroo species when other food sources are lacking.  Along with dingos and other canids, introduced species like foxes and feral cats also pose a threat to kangaroo populations. Kangaroos and wallabies are adept swimmers, and often flee into waterways if presented with the option. If pursued into the water, a large kangaroo may use its forepaws to hold the predator underwater so as to drown it.  Canadian Museum of Nature - Kangaroo URL accessed January 6, 2007.  Another defensive tactic described by witnesses is catching the attacking dog  with the forepaws and disembowelling it with the hind legs.    Newborn joey sucking on a teat in the pouch Kangaroos have developed a number of adaptations to a dry, infertile continent and highly variable climate. As with all marsupials, the young are born at a very early stage of development   after a gestation of 31 36 days. At this stage, only the forelimbs are somewhat developed, to allow the newborn to climb to the pouch and attach to a teat. In comparison, a human embryo at a similar stage of development would be about seven weeks old, and premature babies born at less than 23 weeks are usually not mature enough to survive. The joey will usually stay in the pouch for about nine months (180 320 days for the Western Grey) before starting to leave the pouch for small periods of time. It is usually fed by its mother until reaching 18 months.  The female kangaroo is usually pregnant in permanence, except on the day she gives birth; however, she has the ability to freeze the development of an embryo until the previous joey is able to leave the pouch. This is known as diapause, and will occur in times of drought and in areas with poor food sources.  The composition of the milk produced by the mother varies according to the needs of the joey. In addition, the mother is able to produce two different kinds of milk simultaneously for the newborn and the older joey still in the pouch.  Unusually, during a dry period, males will not produce sperm, and females will only conceive if there has been enough rain to produce a large quantity of green vegetation.  Hindleg of a kangaroo Kangaroos and wallabies have large, stretchy  tendons in their hind legs. They store elastic strain energy in the tendons of their large hind legs, providing most of the energy required for each hop by the spring action of the tendons rather than by any muscular effort. This is true in all animal species which have muscles connected to their skeleton through elastic elements such as tendons, but the effect is more pronounced in kangaroos.  There is also a link between the hopping action and breathing: as the feet leave the ground, air is expelled from the lungs; bringing the feet forward ready for landing refills the lungs, providing further energy efficiency. Studies of kangaroos and wallabies have demonstrated that, beyond the minimum energy expenditure required to hop at all, increased speed requires very little extra effort (much less than the same speed increase in, say, a horse, dog or human), and that the extra energy is required to carry extra weight. For kangaroos, the key benefit of hopping is not speed to escape predators the top speed of a kangaroo is no higher than that of a similarly-sized quadruped, and the Australian native predators are in any case less fearsome than those of other continents but economy: in an infertile continent with highly variable weather patterns, the ability of a kangaroo to travel long distances at moderately high speed in search of food sources is crucial to survival.  A sequencing project of the Kangaroo genome was started in 2004 as a collaboration between Australia (mainly funded by the state of Victoria) and the National Institutes of Health in the US.  Kangaroo hops in line for genome sequencing URL accessed January 6, 2007.  The genome of a marsupial such as the kangaroo is of great interest to scientists studying comparative genomics because marsupials are at an ideal degree of evolutionary divergence from humans: mice are too close and haven't developed many different functions, while birds are genetically too remote. The dairy industry has also expressed some interest in this project.    Eye disease  is rare but not new among kangaroos.  The first official report of kangaroo blindness took place in 1994, in central New South Wales.  The following year, reports of blind kangaroos appeared in Victoria and South Australia.  By 1996, the disease had spread \"across the desert to Western Australia\".  Australian authorities were concerned that the disease could spread to other livestock and possibly humans.  Researchers at the Australian Animal Health Laboratories in Geelong detected a virus called the Wallal virus in two species of midge, believed to have been the carriers.       Veterinarians also discovered that less than three percent of kangaroos exposed to the virus developed blindness.    Before European settlement, the kangaroo was a very important animal for Australian Aborigines, for its meat, hide, bones and sinews. In addition, there were important Dreaming stories and ceremonies involving the kangaroo.  Aherrenge is a current kangaroo dreaming site in the Northern Territory. The game of Marn grook was played using a ball made from kangaroo  by the Kurnai people.  Unlike many of the smaller macropods, kangaroos have fared well since European settlement. European settlers cut down forests to create vast grasslands for sheep and cattle grazing, added stock watering points in arid areas, and have substantially reduced the number of dingoes.  Kangaroos are shy and retiring by nature, and in normal circumstances present no threat to humans. Male kangaroos often \"box\" amongst each other, playfully, for dominance, or in competition for mates. The dexterity of their forepaws is utilised in both punching and grappling with the foe, but the real danger lies in a serious kick with the hindleg. The sharpened toenails can disembowel an opponent.  There are very few records of kangaroos attacking humans without provocation, however several such unprovoked attacks in 2004 spurred fears of a rabies-like disease possibly affecting the marsupials. The only reliably documented case of a fatality from a kangaroo attack occurred in New South Wales, in 1936. A hunter was killed when he tried to rescue his two dogs from a heated fray. Other suggested causes for erratic and dangerous kangaroo behaviour include extreme thirst and hunger.  In 2003, Lulu, an Eastern Grey, saved a farmer's life.  She received the RSPCA National Animal Valor Award on May 19 of the next year.    A \"kangaroo crossing\" sign on an Australian highway. A kangaroo crossing a highway. A collision with a vehicle is capable of killing a kangaroo. Kangaroos dazzled by headlights or startled by engine noise have been known to leap in front of cars.  Since kangaroos in mid-bound can reach speeds of around 50 km/h (31 mph) and are relatively heavy, the force of impact can be severe.  Small vehicles may be destroyed, while larger vehicles may suffer engine damage. The risk of harm to vehicle occupants is greatly increased if the windscreen is the point of impact.  As a result, \"kangaroo crossing\" signs are commonplace in Australia.  Vehicles that frequent isolated roads, where roadside assistance may be scarce, are often fitted with \"roo bars\" to minimise damage caused by collision. Bonnet-mounted devices, designed to scare wildlife off the road with ultrasound and other methods, have been devised and marketed.  If a female is the victim of a collision, animal welfare groups ask that her pouch be checked for any surviving joey, in which case it may be removed to a wildlife sanctuary or veterinary surgeon for rehabilitation.  Likewise, when an adult kangaroo is injured in a collision, a vet, the RSPCA or the National Parks and Wildlife Service can be consulted for instructions on proper care. In New South Wales, rehabilitation of kangaroos is carried out by volunteers from WIRES.    Occasionally, individuals take on the task of rearing a recovered joey themselves. The rule-of-thumb says that if the joey is already covered with fur at the time of the accident (as opposed to still being in its embryonic stage), it stands a good chance of growing up properly. Lactose-free milk is required, otherwise the animal may develop blindness. They hop readily into a cloth bag when it is lowered in front of them approximately to the height where the mother's pouch would be. The joey's instinct is to \"cuddle up\", thereby endearing themselves to their keepers, but after hand-rearing a joey, it cannot usually be released into the wild and be expected to provide for itself immediately. Usually wildlife sanctuaries are willing to adopt kangaroos which are no longer practical, or have grown too large to contain, needing at least 1 acre and 7ft boundary fences for a fully grown kangaroo.     Kangaroos have been featured on coins, as well as being used as emblems and logos. They have also been used as mascots and in the naming of sports teams and are extremely well-represented in films, television, toys and souvenirs around the world.    *Dawson, Terence J. 1995. Kangaroos: Biology of the Largest Marsupials. Cornell University Press, Ithaca, New York. Second printing: 1998. ISBN 0-8014-8262-3. *Flannery, Timothy Fridtjof, et al. 1996. Tree Kangaroos: A Curious Natural History. Reed Books, Melbourne. ISBN 0-7301-0492-3 *Underhill D. 1993. Australia's Dangerous Creatures, Reader's Digest, Sydney, New South Wales, ISBN 0-86438-018-6 *Weldon, Kevin. 1985. The Kangaroo. Weldons Pty. Ltd., Sydney. ISBN 0-949708-22-4     *Embryonic diapause *Kangaroo (meat) *Kangaroo court (mock justice) *Boxing Kangaroo (symbol) *Kangaroo emblems and popular culture    * The Kangaroo Genome Project at Australian National University * Courtship and Mating * Prehistoric mammals    Related Wikipedia Articles  kangaroo (disambiguation) Eastern Grey Kangaroo Joey (marsupial) Animal Chordate Mammal Marsupialia Diprotodontia Macropodiformes Macropodidae Macropus Red Kangaroo Eastern Grey Kangaroo Western Grey Kangaroo Antilopine Kangaroo marsupial Macropodidae species Red Kangaroo Antilopine Kangaroo Eastern Grey Kangaroo Western Grey Kangaroo Macropus wallaby tree-kangaroo wallaroo pademelon Quokka endemic (ecology) continent Australia New Guinea Kangaroo meat Coat of arms of Australia January 6 2007 Australian coins January 6 2007 Qantas January 6 2007 Guugu Yimidhirr language January 7 2007 4 August 1770 Lieutenant Captain James Cook Endeavour River Cooktown, Queensland HM Bark Endeavour Great Barrier Reef Project Gutenberg urban legend James Cook Joseph Banks English language Joey (marsupial) January 7 2007 collective nouns Compact Oxford English Dictionary Tasmania Eastern Grey Kangaroo marsupial Western Australia South Australia Darling River Macropodidae Red Kangaroo tail marsupial pouch (marsupial) postnatal locomotion km/h forelimb life expectancy nocturnal January 7 2007 crepuscular January 7 2007 silica ruminant methane breathing eructation greenhouse gas carbon dioxide predator Thylacine extinction extinction Marsupial Lion Megalania Wonambi dingo Goanna reptile canidae Invasive species, Australia fox feral cat swimming drowning January 6 2007 tactic (method) disembowel marsupial gestation Pouch (marsupial) teat embryo premature birth pregnant Joey (marsupial) embryonic diapause milk tendon sequencing genome 2004 Australia Victoria (Australia) National Institutes of Health United States January 6 2007 comparative genomics mouse bird 1994 New South Wales Victoria (Australia) South Australia 1996 Western Australia Geelong CSIRO Publishing Veterinarians European ethnic groups Australian Aborigines kangaroo (meat) Dreaming (story) Northern Territory Marn grook Kurnai History of Australia Domestic sheep cattle dingo toenail 2004 rabies 1936 RSPCA The Scotsman 2003-09-22 2003-04-10 windscreen Bull bar Hood (vehicle) ultrasound Wildlife rehabilitation Veterinary surgeon RSPCA Australia National Parks and Wildlife Service NSW Wildlife Information and Rescue Service rule of thumb Lactose blindness Embryonic diapause Kangaroo (meat) Kangaroo court Boxing Kangaroo Kangaroo emblems and popular culture Australian National University \n",
      " article length: 19838\n",
      "\n",
      "\n"
     ]
    }
   ],
   "source": [
    "# Load data using CustomData function\n",
    "data_path = 'Question_Answer_Dataset_v1.2'\n",
    "dataset = CustomData(data_path)\n",
    "# Print random set for data exploration\n",
    "n=len(dataset)\n",
    "n_show=1\n",
    "\n",
    "rand_range=np.random.randint(0,n,n_show)\n",
    "\n",
    "for line in rand_range:\n",
    "  d = dataset[line] #\n",
    "  print('line:',line)\n",
    "  print(\"article_name: \", d[0])\n",
    "  print(\"question: \", d[1])\n",
    "  print(' question length:',len(d[1]))\n",
    "  print(\"answer: \", d[2])\n",
    "  print(' answer length:', len(d[2]))\n",
    "  print(\"q_diffi: \", d[3])\n",
    "  print(\"a_diffi: \", d[4])\n",
    "  print(\"article_path: \", d[5])\n",
    "  print(\"article: \", d[6])\n",
    "  print(' article length:',len(d[6]))\n",
    "  print('\\n')"
   ]
  },
  {
   "cell_type": "markdown",
   "metadata": {},
   "source": [
    "## Syntactic score application"
   ]
  },
  {
   "cell_type": "code",
   "execution_count": 113,
   "metadata": {},
   "outputs": [],
   "source": [
    "'''\n",
    "- [0] article_name   \n",
    "- [1] question   \n",
    "- [2] answer  \n",
    "- [3] difficulty by question maker\n",
    "- [4] difficulty by answer maker\n",
    "- [5] article path\n",
    "- [6] article text\n",
    "'''\n",
    "\n",
    "import random\n",
    "\n",
    "#make random selection\n",
    "n=50 #random sample to get from len(dataset)  \n",
    "random_select=random.sample(range(len(dataset)), n) #Sometime fails because of UTF "
   ]
  },
  {
   "cell_type": "code",
   "execution_count": 122,
   "metadata": {},
   "outputs": [
    {
     "name": "stdout",
     "output_type": "stream",
     "text": [
      "difficulty: medium medium\n",
      "Q: How many years after Cleveland left office did the U.S. win the Spanish-American War? |YES/NO TYPE: 0 ||A: One Year |COHERENCY( 0 ): 1 |FLUENCY( 2 ): 0.5 |CONCISENESS( 1 ): 0.9 ||SYNTACTIC SCORE: 0.6333333333333333\n",
      "difficulty: easy hard\n",
      "Q: Did Charles-Augustin de Coulomb find any relationship between electric charges and magnetic poles?  |YES/NO TYPE: 1 ||A: No |COHERENCY( 1 ): 1 |FLUENCY( 0 ): 0.5 |CONCISENESS( 1 ): 0.9 ||SYNTACTIC SCORE: 0.95\n",
      "difficulty: easy easy\n",
      "Q: Is Vietnamese the official administrative language of Vietnam? |YES/NO TYPE: 1 ||A: Yes. |COHERENCY( 1 ): 1 |FLUENCY( 0 ): 0.5 |CONCISENESS( 1 ): 0.9 ||SYNTACTIC SCORE: 0.95\n",
      "difficulty: medium medium\n",
      "Q: Which state were Coolidge born in? |YES/NO TYPE: 0 ||A: Plymouth, Windsor County, Vermont |COHERENCY( 0 ): 1 |FLUENCY( 2 ): 0.8333333333333334 |CONCISENESS( 1 ): 0 ||SYNTACTIC SCORE: 0.5555555555555556\n",
      "difficulty: medium medium\n",
      "Q: Some versions of xylophones have resonators made of what? |YES/NO TYPE: 0 ||A: gourds |COHERENCY( 0 ): 1 |FLUENCY( 2 ): 0.5 |CONCISENESS( 1 ): 1.0 ||SYNTACTIC SCORE: 0.6666666666666666\n",
      "difficulty: medium easy\n",
      "Q: Who became adversaries with Nikola Tesla? |YES/NO TYPE: 0 ||A: Nikola Tesla became adversaries with Edison. |COHERENCY( 0 ): 1 |FLUENCY( 2 ): 0.8928571428571428 |CONCISENESS( 1 ): 0.2857142857142857 ||SYNTACTIC SCORE: 0.6904761904761904\n",
      "difficulty: medium easy\n",
      "Q: What is the Sanskrit word for swan? |YES/NO TYPE: 0 ||A: Hamsa or hansa |COHERENCY( 0 ): 1 |FLUENCY( 2 ): 0.9166666666666667 |CONCISENESS( 1 ): 0.6666666666666666 ||SYNTACTIC SCORE: 0.8333333333333334\n",
      "difficulty: hard too hard\n",
      "Q: When did Yuan Shikai die? |YES/NO TYPE: 0 ||A: 1916 |COHERENCY( 0 ): 1 |FLUENCY( 2 ): 0.5 |CONCISENESS( 1 ): 0.9 ||SYNTACTIC SCORE: 0.6333333333333333\n",
      "difficulty: medium medium\n",
      "Q: Have consonant clusters been lost? |YES/NO TYPE: 1 ||A: Yes. |COHERENCY( 1 ): 1 |FLUENCY( 0 ): 0.5 |CONCISENESS( 1 ): 0.9 ||SYNTACTIC SCORE: 0.95\n",
      "difficulty: easy easy\n",
      "Q: Is Berlin the capital city of Germany? |YES/NO TYPE: 1 ||A: Berlin is the capital city of Germany. |COHERENCY( 1 ): 0 |FLUENCY( 0 ): 0.90625 |CONCISENESS( 1 ): 0.25 ||SYNTACTIC SCORE: 0.125\n",
      "difficulty: easy easy\n",
      "Q: Was Henri Becquerel a French physicist? |YES/NO TYPE: 1 ||A: Yes |COHERENCY( 1 ): 1 |FLUENCY( 0 ): 0.5 |CONCISENESS( 1 ): 0.9 ||SYNTACTIC SCORE: 0.95\n",
      "difficulty: medium hard\n",
      "Q: What do zebras eat? |YES/NO TYPE: 0 ||A: Grasses, shrubs, herbs, twigs, leaves, and bark |COHERENCY( 0 ): 1 |FLUENCY( 2 ): 0.5625 |CONCISENESS( 1 ): 0.5 ||SYNTACTIC SCORE: 0.5416666666666666\n",
      "difficulty: hard medium\n",
      "Q: When did organized agriculture appear in the Nile Valley? |YES/NO TYPE: 0 ||A: About 6000 BC |COHERENCY( 0 ): 1 |FLUENCY( 2 ): 0.8333333333333334 |CONCISENESS( 1 ): 0.3333333333333333 ||SYNTACTIC SCORE: 0.6666666666666666\n",
      "difficulty: easy easy\n",
      "Q: Were the treaties signed in 1947 and 1948 with the Ukraine? |YES/NO TYPE: 1 ||A: No |COHERENCY( 1 ): 1 |FLUENCY( 0 ): 0.5 |CONCISENESS( 1 ): 0.9 ||SYNTACTIC SCORE: 0.95\n",
      "difficulty: easy easy\n",
      "Q: Do butterflies have two eyes? |YES/NO TYPE: 1 ||A: Yes, butterflies have two eyes. |COHERENCY( 1 ): 1 |FLUENCY( 0 ): 0.8571428571428572 |CONCISENESS( 1 ): 0.42857142857142855 ||SYNTACTIC SCORE: 0.7142857142857143\n",
      "difficulty: hard too hard\n",
      "Q: How many territories joined to form Romania? |YES/NO TYPE: 0 ||A: 2. |COHERENCY( 0 ): 1 |FLUENCY( 2 ): 0.5 |CONCISENESS( 1 ): 0.9 ||SYNTACTIC SCORE: 0.6333333333333333\n",
      "difficulty: medium medium\n",
      "Q: What part of an elephant is very important for temperature regulation? |YES/NO TYPE: 0 ||A: The large flapping ears of an elephant are also very important for temperature regulation. |COHERENCY( 0 ): 1 |FLUENCY( 2 ): 0.7666666666666666 |CONCISENESS( 1 ): 0.6 ||SYNTACTIC SCORE: 0.7111111111111111\n",
      "difficulty: easy easy\n",
      "Q: Did Singapore's standard of living decrease since independence? |YES/NO TYPE: 1 ||A: no |COHERENCY( 1 ): 1 |FLUENCY( 0 ): 0.5 |CONCISENESS( 1 ): 0.9 ||SYNTACTIC SCORE: 0.95\n",
      "difficulty: medium hard\n",
      "Q: Is Swahili spoken in Mozambique? |YES/NO TYPE: 1 ||A: yes |COHERENCY( 1 ): 1 |FLUENCY( 0 ): 0.5 |CONCISENESS( 1 ): 0.9 ||SYNTACTIC SCORE: 0.95\n",
      "difficulty: medium easy\n",
      "Q: What unrelated water birds are ducks sometimes confused with? |YES/NO TYPE: 0 ||A: loons or divers, grebes, gallinules, and coots |COHERENCY( 0 ): 1 |FLUENCY( 2 ): 0.625 |CONCISENESS( 1 ): 0.5 ||SYNTACTIC SCORE: 0.5833333333333334\n",
      "difficulty: easy easy\n",
      "Q: Are Pleurodira known as side-necked turtles? |YES/NO TYPE: 1 ||A: yes |COHERENCY( 1 ): 1 |FLUENCY( 0 ): 0.5 |CONCISENESS( 1 ): 0.9 ||SYNTACTIC SCORE: 0.95\n",
      "difficulty: easy easy\n",
      "Q: Are penguins birds? |YES/NO TYPE: 1 ||A: Yes |COHERENCY( 1 ): 1 |FLUENCY( 0 ): 0.5 |CONCISENESS( 1 ): 0.9 ||SYNTACTIC SCORE: 0.95\n",
      "difficulty: hard too hard\n",
      "Q: Where did Watt attend university? |YES/NO TYPE: 0 ||A: He did not attend a university. |COHERENCY( 0 ): 1 |FLUENCY( 2 ): 0.9285714285714286 |CONCISENESS( 1 ): 0.2857142857142857 ||SYNTACTIC SCORE: 0.7142857142857143\n",
      "difficulty: medium medium\n",
      "Q: Why are relations with Malaysia and Indonesia important? |YES/NO TYPE: 0 ||A: Due to obvious geographical reasons, relations with Malaysia and Indonesia are most important. |COHERENCY( 0 ): 1 |FLUENCY( 2 ): 0.8 |CONCISENESS( 1 ): 0.4 ||SYNTACTIC SCORE: 0.6666666666666666\n",
      "difficulty: medium medium\n",
      "Q: What part of an elephant is very important for temperature regulation? |YES/NO TYPE: 0 ||A: Ears |COHERENCY( 0 ): 1 |FLUENCY( 2 ): 0.5 |CONCISENESS( 1 ): 1.0 ||SYNTACTIC SCORE: 0.6666666666666666\n",
      "difficulty: easy easy\n",
      "Q: Does an ant's head contain sensory organs? |YES/NO TYPE: 1 ||A: yes |COHERENCY( 1 ): 1 |FLUENCY( 0 ): 0.5 |CONCISENESS( 1 ): 0.9 ||SYNTACTIC SCORE: 0.95\n",
      "difficulty: easy medium\n",
      "Q: Who was Blaise Pascal's father? |YES/NO TYPE: 0 ||A: His father, Étienne Pascal (1588–1651), who also had an interest in science and mathematics, was a local judge |COHERENCY( 0 ): 1 |FLUENCY( 2 ): 0.7826086956521738 |CONCISENESS( 1 ): 0.34782608695652173 ||SYNTACTIC SCORE: 0.6376811594202898\n",
      "difficulty: medium medium\n",
      "Q: How many legs do lobsters have? |YES/NO TYPE: 0 ||A: 10 |COHERENCY( 0 ): 1 |FLUENCY( 2 ): 0.5 |CONCISENESS( 1 ): 0.9 ||SYNTACTIC SCORE: 0.6333333333333333\n",
      "difficulty: easy easy\n",
      "Q: Were the recitations of the Ancient Greeks accompanied by lyre playing? |YES/NO TYPE: 1 ||A: Yes |COHERENCY( 1 ): 1 |FLUENCY( 0 ): 0.5 |CONCISENESS( 1 ): 0.9 ||SYNTACTIC SCORE: 0.95\n",
      "difficulty: medium easy\n",
      "Q: Where was Henri Becquerel born? |YES/NO TYPE: 0 ||A: Paris |COHERENCY( 0 ): 1 |FLUENCY( 2 ): 0.5 |CONCISENESS( 1 ): 0.9 ||SYNTACTIC SCORE: 0.6333333333333333\n",
      "difficulty: easy easy\n",
      "Q: Was Ford an Eagle Scout? |YES/NO TYPE: 1 ||A: yes |COHERENCY( 1 ): 1 |FLUENCY( 0 ): 0.5 |CONCISENESS( 1 ): 0.9 ||SYNTACTIC SCORE: 0.95\n",
      "difficulty: easy medium\n",
      "Q: Is Golden Gate Park the largest city park |YES/NO TYPE: 1 ||A: yes |COHERENCY( 1 ): 1 |FLUENCY( 0 ): 0.5 |CONCISENESS( 1 ): 0.9 ||SYNTACTIC SCORE: 0.95\n",
      "difficulty: easy easy\n",
      "Q: Did John Adams represent the Continental Congress in Europe? |YES/NO TYPE: 1 ||A: Yes. |COHERENCY( 1 ): 1 |FLUENCY( 0 ): 0.5 |CONCISENESS( 1 ): 0.9 ||SYNTACTIC SCORE: 0.95\n",
      "difficulty: easy easy\n",
      "Q: Do all ducks \"quack\"? |YES/NO TYPE: 1 ||A: No |COHERENCY( 1 ): 1 |FLUENCY( 0 ): 0.5 |CONCISENESS( 1 ): 0.9 ||SYNTACTIC SCORE: 0.95\n",
      "difficulty: easy easy\n",
      "Q: Was the pan flute used in Greece? |YES/NO TYPE: 1 ||A: yes |COHERENCY( 1 ): 1 |FLUENCY( 0 ): 0.5 |CONCISENESS( 1 ): 0.9 ||SYNTACTIC SCORE: 0.95\n",
      "difficulty: easy medium\n",
      "Q: Do butterflies make sounds? |YES/NO TYPE: 1 ||A: Some butterflies make sounds. |COHERENCY( 1 ): 0 |FLUENCY( 0 ): 0.9 |CONCISENESS( 1 ): 0.6 ||SYNTACTIC SCORE: 0.3\n",
      "difficulty: medium medium\n",
      "Q: Where are the Western Arabic numerals used? |YES/NO TYPE: 0 ||A: present-day North Africa |COHERENCY( 0 ): 1 |FLUENCY( 2 ): 0.8 |CONCISENESS( 1 ): 0.6666666666666666 ||SYNTACTIC SCORE: 0.7555555555555555\n",
      "difficulty: hard easy\n",
      "Q: What was Maynard Ferguson noted for being able to play accurately? |YES/NO TYPE: 0 ||A: yes |COHERENCY( 0 ): 0 |FLUENCY( 2 ): 0.5 |CONCISENESS( 1 ): 0.9 ||SYNTACTIC SCORE: 0.6333333333333333\n",
      "difficulty: medium medium\n",
      "Q: What does the word Ghana mean? |YES/NO TYPE: 0 ||A: warrior king |COHERENCY( 0 ): 1 |FLUENCY( 2 ): 0.5 |CONCISENESS( 1 ): 1.0 ||SYNTACTIC SCORE: 0.6666666666666666\n",
      "difficulty: medium hard\n",
      "Q: What is \"tobogganing\"? |YES/NO TYPE: 0 ||A: Tobogganing is when penguins slide on their bellies across the snow. |COHERENCY( 0 ): 1 |FLUENCY( 2 ): 0.7916666666666667 |CONCISENESS( 1 ): 0.4166666666666667 ||SYNTACTIC SCORE: 0.6666666666666666\n",
      "difficulty: hard too hard\n",
      "Q: Why polar bear is a special species? |YES/NO TYPE: 0 ||A: The World Conservation Union listed polar bears as a vulnerable species, one of three sub-categories of threatened status, in May 2006. Their latest estimate is that 7 out of 19 subpopulations are declining or already severely reduced. |COHERENCY( 0 ): 1 |FLUENCY( 2 ): 0.6744186046511628 |CONCISENESS( 1 ): 0.4146341463414634 ||SYNTACTIC SCORE: 0.5878237852145963\n",
      "difficulty: medium medium\n",
      "Q: How heavy was the largest polar bear on record? |YES/NO TYPE: 0 ||A: 1002 kg (2200 lb)  |COHERENCY( 0 ): 1 |FLUENCY( 2 ): 0.75 |CONCISENESS( 1 ): 0.3333333333333333 ||SYNTACTIC SCORE: 0.611111111111111\n",
      "difficulty: easy easy\n",
      "Q: Are the Javanese the largest and politically dominant ethnic group in Indonesia? |YES/NO TYPE: 1 ||A: yes |COHERENCY( 1 ): 1 |FLUENCY( 0 ): 0.5 |CONCISENESS( 1 ): 0.9 ||SYNTACTIC SCORE: 0.95\n",
      "difficulty: medium hard\n",
      "Q: When was Melbourne officially declared as a city? |YES/NO TYPE: 0 ||A: In 1847. |COHERENCY( 0 ): 1 |FLUENCY( 2 ): 0.9166666666666667 |CONCISENESS( 1 ): 0 ||SYNTACTIC SCORE: 0.6111111111111112\n",
      "difficulty: hard hard\n",
      "Q: When did the first educational works appear for the cello? |YES/NO TYPE: 0 ||A: the 18th century |COHERENCY( 0 ): 1 |FLUENCY( 2 ): 0.9166666666666667 |CONCISENESS( 1 ): 0.6666666666666666 ||SYNTACTIC SCORE: 0.8333333333333334\n",
      "difficulty: medium medium\n",
      "Q: Who wrote about ants in A Tramp Abroad? |YES/NO TYPE: 0 ||A: mark twain wrote about ants |COHERENCY( 0 ): 1 |FLUENCY( 2 ): 0.9 |CONCISENESS( 1 ): 0.4 ||SYNTACTIC SCORE: 0.7333333333333334\n",
      "difficulty: medium medium\n",
      "Q: Why are otters vulnerable to prey depletion? |YES/NO TYPE: 0 ||A: Prey-dependence |COHERENCY( 0 ): 1 |FLUENCY( 2 ): 0.9166666666666667 |CONCISENESS( 1 ): 1.0 ||SYNTACTIC SCORE: 0.9444444444444445\n",
      "difficulty: easy easy\n",
      "Q: Does the Gray Wolf share an ancestry with the domestic dog? |YES/NO TYPE: 1 ||A: Yes. |COHERENCY( 1 ): 1 |FLUENCY( 0 ): 0.5 |CONCISENESS( 1 ): 0.9 ||SYNTACTIC SCORE: 0.95\n",
      "difficulty: medium medium\n",
      "Q: What led Pascal to his religious conversion? |YES/NO TYPE: 0 ||A: sickness and Jansenism |COHERENCY( 0 ): 1 |FLUENCY( 2 ): 0.9166666666666667 |CONCISENESS( 1 ): 0.3333333333333333 ||SYNTACTIC SCORE: 0.7222222222222223\n",
      "difficulty: hard hard\n",
      "Q: What did Cleveland's opponents say in 1884 to counter his innocent image? |YES/NO TYPE: 0 ||A: that he had fathered an illegitimate child while he was a lawyer in Buffalo |COHERENCY( 0 ): 1 |FLUENCY( 2 ): 0.8214285714285714 |CONCISENESS( 1 ): 0.2857142857142857 ||SYNTACTIC SCORE: 0.6428571428571428\n"
     ]
    }
   ],
   "source": [
    "# Get scores\n",
    "scores=[]\n",
    "for line in random_select: #range(n):\n",
    "    q=dataset[line][1]\n",
    "    a=dataset[line][2]\n",
    "    print('difficulty:',dataset[line][3],dataset[line][4])\n",
    "   \n",
    "    scores.append(syntactic_score(q, #question\n",
    "                                  a, #answer\n",
    "                                  weights_IS_yes_no=[1,0,1], #weights of coherency, fluency and conciseness in case of Yes/No type question\n",
    "                                  weights_NOT_yes_no=[0,2,1], #weights of coherency, fluency and conciseness in case of NOT Yes/No type question\n",
    "                                  debug=True, #print out for debugging\n",
    "                                  extra_outputs=True) #output syntactic score, coherency, fluency, conciseness (last 3 are the 'extra')\n",
    "                                  ) \n",
    "\n"
   ]
  },
  {
   "cell_type": "code",
   "execution_count": 137,
   "metadata": {},
   "outputs": [
    {
     "data": {
      "image/png": "[encoded data removed]",
      "text/plain": [
       "<Figure size 640x480 with 1 Axes>"
      ]
     },
     "metadata": {},
     "output_type": "display_data"
    },
    {
     "data": {
      "image/png": "[encoded data removed]",
      "text/plain": [
       "<Figure size 640x480 with 1 Axes>"
      ]
     },
     "metadata": {},
     "output_type": "display_data"
    },
    {
     "data": {
      "image/png": "[encoded data removed]",
      "text/plain": [
       "<Figure size 640x480 with 1 Axes>"
      ]
     },
     "metadata": {},
     "output_type": "display_data"
    },
    {
     "data": {
      "image/png": "[encoded data removed]",
      "text/plain": [
       "<Figure size 640x480 with 1 Axes>"
      ]
     },
     "metadata": {},
     "output_type": "display_data"
    }
   ],
   "source": [
    "# Score distribution\n",
    "\n",
    "import numpy as np\n",
    "import matplotlib.pyplot as plt\n",
    "\n",
    "#syntactic_score, is_yes_no_type, coherency, fluency, conciseness\n",
    "#histogram of score\n",
    "scores=np.array(scores)\n",
    "ind_yn=scores[:,1]==1 #Yes/No type\n",
    "\n",
    "plt.hist(scores[ind_yn,0], bins=30, range=(0,1), edgecolor='black', alpha=0.5, label='Yes/No type')\n",
    "plt.hist(scores[~ind_yn,0], bins=30, range=(0,1), edgecolor='black', alpha=0.5, label='Other types')\n",
    "plt.title('Distribution of Syntactic Scores')\n",
    "plt.xlabel('Score')\n",
    "plt.ylabel('Frequency')\n",
    "plt.grid(True)\n",
    "plt.legend()\n",
    "plt.show()\n",
    "\n",
    "#histogram of coherency\n",
    "\n",
    "plt.hist(scores[ind_yn,2], bins=30, range=(0,1), edgecolor='black', alpha=0.5, label='Yes/No type')\n",
    "plt.hist(scores[~ind_yn,2], bins=30, range=(0,1), edgecolor='black', alpha=0.5, label='Other types')\n",
    "plt.title('Distribution of Coherency')\n",
    "plt.xlabel('Score')\n",
    "plt.ylabel('Frequency')\n",
    "plt.grid(True)\n",
    "plt.legend()\n",
    "plt.show()\n",
    "\n",
    "#histogram of fluency\n",
    "\n",
    "plt.hist(scores[ind_yn,3], bins=30, range=(0,1), edgecolor='black', alpha=0.5, label='Yes/No type')\n",
    "plt.hist(scores[~ind_yn,3], bins=30, range=(0,1), edgecolor='black', alpha=0.5, label='Other types')\n",
    "plt.title('Distribution of Fluency')\n",
    "plt.xlabel('Score')\n",
    "plt.ylabel('Frequency')\n",
    "plt.grid(True)\n",
    "plt.legend()\n",
    "plt.show()\n",
    "\n",
    "#histogram of conciseness\n",
    "\n",
    "plt.hist(scores[ind_yn,4], bins=30, range=(0,1), edgecolor='black', alpha=0.5, label='Yes/No type')\n",
    "plt.hist(scores[~ind_yn,4], bins=30, range=(0,1), edgecolor='black', alpha=0.5, label='Other types')\n",
    "plt.title('Distribution of Conciseness')\n",
    "plt.xlabel('Score')\n",
    "plt.ylabel('Frequency')\n",
    "plt.grid(True)\n",
    "plt.legend()\n",
    "plt.show()"
   ]
  },
  {
   "cell_type": "code",
   "execution_count": 129,
   "metadata": {},
   "outputs": [
    {
     "name": "stdout",
     "output_type": "stream",
     "text": [
      "21 50\n"
     ]
    }
   ],
   "source": [
    "ind_rows=scores[:,1]==1\n",
    "\n",
    "print(np.sum(ind_rows),len(scores))"
   ]
  },
  {
   "cell_type": "code",
   "execution_count": 139,
   "metadata": {},
   "outputs": [
    {
     "name": "stdout",
     "output_type": "stream",
     "text": [
      "Q: Are cougars larger than jaguars? |YES/NO TYPE: 1 ||A: Cougars are not larger than jaguars. |COHERENCY( 1 ): 0 |FLUENCY( 1 ): 0.8928571428571428 |CONCISENESS( 1 ): 0.42857142857142855 ||SYNTACTIC SCORE: 0.44047619047619047\n",
      "Q: Are cougars larger than jaguars? |YES/NO TYPE: 1 ||A: Yes they are. |COHERENCY( 1 ): 1 |FLUENCY( 1 ): 0.9375 |CONCISENESS( 1 ): 0 ||SYNTACTIC SCORE: 0.6458333333333334\n",
      "Q: Are cougars larger than jaguars? |YES/NO TYPE: 1 ||A: No. |COHERENCY( 1 ): 1 |FLUENCY( 1 ): 0.5 |CONCISENESS( 1 ): 0.9 ||SYNTACTIC SCORE: 0.7999999999999999\n",
      "\n",
      "Q: Are cougars larger than jaguars? |YES/NO TYPE: 1 ||A: Cougars are not larger than jaguars. |COHERENCY( 1 ): 0 |FLUENCY( 0 ): 0.8928571428571428 |CONCISENESS( 1 ): 0.42857142857142855 ||SYNTACTIC SCORE: 0.21428571428571427\n",
      "Q: Are cougars larger than jaguars? |YES/NO TYPE: 1 ||A: Yes they are. |COHERENCY( 1 ): 1 |FLUENCY( 0 ): 0.9375 |CONCISENESS( 1 ): 0 ||SYNTACTIC SCORE: 0.5\n",
      "Q: Are cougars larger than jaguars? |YES/NO TYPE: 1 ||A: No. |COHERENCY( 1 ): 1 |FLUENCY( 0 ): 0.5 |CONCISENESS( 1 ): 0.9 ||SYNTACTIC SCORE: 0.95\n"
     ]
    },
    {
     "data": {
      "text/plain": [
       "0.95"
      ]
     },
     "execution_count": 139,
     "metadata": {},
     "output_type": "execute_result"
    }
   ],
   "source": [
    "# case study\n",
    "\n",
    "'''\n",
    "difficulty: medium medium\n",
    "Q: What is Avogadro most noted for? |YES/NO TYPE: 0 ||A: contributions to the theory of molarity and molecular weight |COHERENCY( 1 ): 1 |FLUENCY( 1 ): 0.7222222222222223 |CONCISENESS( 1 ): 0.5555555555555556 ||SYNTACTIC SCORE: 0.7592592592592592 \n",
    "\n",
    "difficulty: easy easy\n",
    "Q: Are turtles a part of the Flying Spaghetti Monster? |YES/NO TYPE: 1 ||A: *shrug* |COHERENCY( 1 ): 0 |FLUENCY( 1 ): 0.75 |CONCISENESS( 1 ): 0.6666666666666666 ||SYNTACTIC SCORE: 0.47222222222222215\n",
    "\n",
    "difficulty: easy hard\n",
    "Q: Are cougars larger than jaguars? |YES/NO TYPE: 1 ||A: Cougars are not larger than jaguars. |COHERENCY( 1 ): 0 |FLUENCY( 1 ): 0.8928571428571428 |CONCISENESS( 1 ): 0.42857142857142855 ||SYNTACTIC SCORE: 0.44047619047619047 \n",
    "\n",
    "difficulty: medium medium\n",
    "Q: What did Jefferson call John Adams? |YES/NO TYPE: 0 ||A: Colossus of Independence |COHERENCY( 1 ): 1 |FLUENCY( 1 ): 0.8333333333333334 |CONCISENESS( 1 ): 0 ||SYNTACTIC SCORE: 0.6111111111111112 \n",
    "\n",
    "difficulty: medium medium\n",
    "Q: Where is Uruguay's oldest church? |YES/NO TYPE: 0 ||A: San Carlos, Maldonado. |COHERENCY( 1 ): 1 |FLUENCY( 1 ): 0.8500000000000001 |CONCISENESS( 1 ): 0 ||SYNTACTIC SCORE: 0.6166666666666667 \n",
    "\n",
    "difficulty: easy easy\n",
    "Q: Are giraffes hunted for their hides? |YES/NO TYPE: 1 ||A: Yes |COHERENCY( 1 ): 1 |FLUENCY( 1 ): 0.5 |CONCISENESS( 1 ): 0.9 ||SYNTACTIC SCORE: 0.7999999999999999 \n",
    "\n",
    "difficulty: medium medium\n",
    "Q: What is Avogadro most noted for? |YES/NO TYPE: 0 ||A: contributions to the theory of molarity and molecular weight |COHERENCY( 1 ): 1 |FLUENCY( 1 ): 0.7222222222222223 |CONCISENESS( 1 ): 0.5555555555555556 ||SYNTACTIC SCORE: 0.7592592592592592 \n",
    "'''\n",
    "\n",
    "q='Are cougars larger than jaguars?'\n",
    "a1='Cougars are not larger than jaguars.'\n",
    "a2='Yes they are.'\n",
    "a3='No.'\n",
    "\n",
    "#weights of coherency, fluency and conciseness\n",
    "syntactic_score(q,a1,weights_IS_yes_no=[1,1,1],weights_NOT_yes_no=[1,1,1],debug=True)\n",
    "syntactic_score(q,a2,weights_IS_yes_no=[1,1,1],weights_NOT_yes_no=[1,1,1],debug=True)\n",
    "syntactic_score(q,a3,weights_IS_yes_no=[1,1,1],weights_NOT_yes_no=[1,1,1],debug=True)\n",
    "print('')\n",
    "syntactic_score(q,a1,weights_IS_yes_no=[1,0,1],weights_NOT_yes_no=[0,2,1],debug=True)\n",
    "syntactic_score(q,a2,weights_IS_yes_no=[1,0,1],weights_NOT_yes_no=[0,2,1],debug=True)\n",
    "syntactic_score(q,a3,weights_IS_yes_no=[1,0,1],weights_NOT_yes_no=[0,2,1],debug=True)\n"
   ]
  }
 ],
 "metadata": {
  "kernelspec": {
   "display_name": "base",
   "language": "python",
   "name": "python3"
  },
  "language_info": {
   "codemirror_mode": {
    "name": "ipython",
    "version": 3
   },
   "file_extension": ".py",
   "mimetype": "text/x-python",
   "name": "python",
   "nbconvert_exporter": "python",
   "pygments_lexer": "ipython3",
   "version": "3.11.5"
  }
 },
 "nbformat": 4,
 "nbformat_minor": 2
}
