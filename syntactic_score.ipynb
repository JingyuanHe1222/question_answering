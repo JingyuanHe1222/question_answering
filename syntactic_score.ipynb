{
 "cells": [
  {
   "cell_type": "markdown",
   "metadata": {},
   "source": [
    "# Syntactic score functions"
   ]
  },
  {
   "cell_type": "markdown",
   "metadata": {},
   "source": [
    "## Yes/No question classification"
   ]
  },
  {
   "cell_type": "code",
   "execution_count": 55,
   "metadata": {},
   "outputs": [
    {
     "name": "stdout",
     "output_type": "stream",
     "text": [
      "Sentence: Is this right?\n",
      "Is yes/no type question: 1.00\n",
      "\n",
      "Sentence: Which questions are you thinking of?\n",
      "Is yes/no type question: 0.00\n",
      "\n",
      "Sentence: Hassan\n",
      "Is yes/no type question: 0.00\n",
      "\n",
      "Sentence: Has an\n",
      "Is yes/no type question: 1.00\n",
      "\n"
     ]
    }
   ],
   "source": [
    "def is_yes_no_question(question):\n",
    "    question = question.lower().strip()\n",
    "    #purposely has space after words since it should be a word in itself as part of a sentence\n",
    "    if question.startswith(('is ', 'are ', 'do ', 'does ', 'did ', 'was ', 'were ', 'will ', 'can ', 'could ', 'should ', 'have ', 'has ', 'had ')): \n",
    "        return 1\n",
    "    else:\n",
    "        return 0\n",
    "\n",
    "def is_yes_no_answer(answer):\n",
    "    answer = answer.lower().strip()\n",
    "    if answer.startswith(('yes','no')):\n",
    "        return 1\n",
    "    else:\n",
    "        return 0\n",
    "    \n",
    "# Test the function\n",
    "sentences = [\n",
    "    \"Is this right?\",\n",
    "    \"Which questions are you thinking of?\",\n",
    "    \"Hassan\",\n",
    "    'Has an'\n",
    "]\n",
    "\n",
    "for sentence in sentences:\n",
    "    is_yes_no = is_yes_no_question(sentence)\n",
    "    print(f\"Sentence: {sentence}\")\n",
    "    print(f\"Is yes/no type question: {is_yes_no:.2f}\\n\")"
   ]
  },
  {
   "cell_type": "markdown",
   "metadata": {},
   "source": [
    "## Conciseness"
   ]
  },
  {
   "cell_type": "code",
   "execution_count": 9,
   "metadata": {},
   "outputs": [
    {
     "name": "stdout",
     "output_type": "stream",
     "text": [
      "Answer: Yes.\n",
      "Conciseness Score: 0.90\n",
      "\n",
      "Answer: The cat sat on the mat.\n",
      "Conciseness Score: 0.43\n",
      "\n",
      "Answer: This is a somewhat more elaborative answer providing detailed information, albeit not necessarily in a concise manner.\n",
      "Conciseness Score: 0.53\n",
      "\n"
     ]
    }
   ],
   "source": [
    "import spacy\n",
    "from nltk.tokenize import word_tokenize\n",
    "\n",
    "# Load the spaCy model for linguistic features\n",
    "nlp = spacy.load(\"en_core_web_sm\")\n",
    "\n",
    "def evaluate_conciseness(answer):\n",
    "    # Tokenize the answer and analyze with spaCy\n",
    "    doc = nlp(answer)\n",
    "    word_count = len(word_tokenize(answer))\n",
    "\n",
    "    # Calculate the ratio of content words (nouns, verbs, adjectives, adverbs) to total words\n",
    "    content_words_count = sum(token.pos in [spacy.symbols.NOUN, spacy.symbols.VERB, spacy.symbols.ADJ, spacy.symbols.ADV] for token in doc)\n",
    "    content_ratio = content_words_count / word_count if word_count else 0\n",
    "\n",
    "    # Conciseness favors higher content ratio (more information with fewer words)\n",
    "    conciseness_score = content_ratio\n",
    "\n",
    "    # Adjusting score for extremely short answers\n",
    "    # Extremely short answers (like 'yes' or 'no') are typically very concise\n",
    "    if word_count <= 2:\n",
    "        conciseness_score = max(conciseness_score, 0.9)\n",
    "\n",
    "    # Adjusting score to be between 0 and 1\n",
    "    conciseness_score = max(0, min(conciseness_score, 1))\n",
    "\n",
    "    return conciseness_score\n",
    "\n",
    "\n",
    "# Test the function\n",
    "answers = [\n",
    "    \"Yes.\",\n",
    "    \"The cat sat on the mat.\",\n",
    "    \"This is a somewhat more elaborative answer providing detailed information, albeit not necessarily in a concise manner.\"\n",
    "]\n",
    "\n",
    "for answer in answers:\n",
    "    score = evaluate_conciseness(answer)\n",
    "    print(f\"Answer: {answer}\\nConciseness Score: {score:.2f}\\n\")"
   ]
  },
  {
   "cell_type": "markdown",
   "metadata": {},
   "source": [
    "## Fluency"
   ]
  },
  {
   "cell_type": "code",
   "execution_count": 10,
   "metadata": {},
   "outputs": [
    {
     "name": "stdout",
     "output_type": "stream",
     "text": [
      "Requirement already satisfied: stanza in c:\\users\\pabma\\anaconda3\\lib\\site-packages (1.6.1)\n",
      "Requirement already satisfied: emoji in c:\\users\\pabma\\anaconda3\\lib\\site-packages (from stanza) (2.8.0)\n",
      "Requirement already satisfied: numpy in c:\\users\\pabma\\anaconda3\\lib\\site-packages (from stanza) (1.24.3)\n",
      "Requirement already satisfied: protobuf>=3.15.0 in c:\\users\\pabma\\anaconda3\\lib\\site-packages (from stanza) (4.25.1)\n",
      "Requirement already satisfied: requests in c:\\users\\pabma\\anaconda3\\lib\\site-packages (from stanza) (2.31.0)\n",
      "Requirement already satisfied: torch>=1.3.0 in c:\\users\\pabma\\anaconda3\\lib\\site-packages (from stanza) (2.1.1+cu121)\n",
      "Requirement already satisfied: tqdm in c:\\users\\pabma\\anaconda3\\lib\\site-packages (from stanza) (4.65.0)\n",
      "Requirement already satisfied: filelock in c:\\users\\pabma\\anaconda3\\lib\\site-packages (from torch>=1.3.0->stanza) (3.9.0)\n",
      "Requirement already satisfied: typing-extensions in c:\\users\\pabma\\anaconda3\\lib\\site-packages (from torch>=1.3.0->stanza) (4.7.1)\n",
      "Requirement already satisfied: sympy in c:\\users\\pabma\\anaconda3\\lib\\site-packages (from torch>=1.3.0->stanza) (1.11.1)\n",
      "Requirement already satisfied: networkx in c:\\users\\pabma\\anaconda3\\lib\\site-packages (from torch>=1.3.0->stanza) (3.1)\n",
      "Requirement already satisfied: jinja2 in c:\\users\\pabma\\anaconda3\\lib\\site-packages (from torch>=1.3.0->stanza) (3.1.2)\n",
      "Requirement already satisfied: fsspec in c:\\users\\pabma\\anaconda3\\lib\\site-packages (from torch>=1.3.0->stanza) (2023.4.0)\n",
      "Requirement already satisfied: charset-normalizer<4,>=2 in c:\\users\\pabma\\anaconda3\\lib\\site-packages (from requests->stanza) (2.0.4)\n",
      "Requirement already satisfied: idna<4,>=2.5 in c:\\users\\pabma\\anaconda3\\lib\\site-packages (from requests->stanza) (3.4)\n",
      "Requirement already satisfied: urllib3<3,>=1.21.1 in c:\\users\\pabma\\anaconda3\\lib\\site-packages (from requests->stanza) (1.26.16)\n",
      "Requirement already satisfied: certifi>=2017.4.17 in c:\\users\\pabma\\anaconda3\\lib\\site-packages (from requests->stanza) (2023.11.17)\n",
      "Requirement already satisfied: colorama in c:\\users\\pabma\\anaconda3\\lib\\site-packages (from tqdm->stanza) (0.4.6)\n",
      "Requirement already satisfied: MarkupSafe>=2.0 in c:\\users\\pabma\\anaconda3\\lib\\site-packages (from jinja2->torch>=1.3.0->stanza) (2.1.1)\n",
      "Requirement already satisfied: mpmath>=0.19 in c:\\users\\pabma\\anaconda3\\lib\\site-packages (from sympy->torch>=1.3.0->stanza) (1.3.0)\n"
     ]
    },
    {
     "data": {
      "application/vnd.jupyter.widget-view+json": {
       "model_id": "4ded88dcd25a449f92e1e3e0b81e90f7",
       "version_major": 2,
       "version_minor": 0
      },
      "text/plain": [
       "Downloading https://raw.githubusercontent.com/stanfordnlp/stanza-resources/main/resources_1.6.0.json:   0%|   …"
      ]
     },
     "metadata": {},
     "output_type": "display_data"
    },
    {
     "name": "stderr",
     "output_type": "stream",
     "text": [
      "2023-11-26 09:45:08 INFO: Downloading default packages for language: en (English) ...\n",
      "2023-11-26 09:45:09 INFO: File exists: C:\\Users\\pabma\\stanza_resources\\en\\default.zip\n",
      "2023-11-26 09:45:12 INFO: Finished downloading models and saved to C:\\Users\\pabma\\stanza_resources.\n",
      "2023-11-26 09:45:12 INFO: Checking for updates to resources.json in case models have been updated.  Note: this behavior can be turned off with download_method=None or download_method=DownloadMethod.REUSE_RESOURCES\n"
     ]
    },
    {
     "data": {
      "application/vnd.jupyter.widget-view+json": {
       "model_id": "b39420265c2d4b49b1448ba5847591db",
       "version_major": 2,
       "version_minor": 0
      },
      "text/plain": [
       "Downloading https://raw.githubusercontent.com/stanfordnlp/stanza-resources/main/resources_1.6.0.json:   0%|   …"
      ]
     },
     "metadata": {},
     "output_type": "display_data"
    },
    {
     "name": "stderr",
     "output_type": "stream",
     "text": [
      "2023-11-26 09:45:12 WARNING: Can not find mwt: default from official model list. Ignoring it.\n",
      "2023-11-26 09:45:13 INFO: Loading these models for language: en (English):\n",
      "=================================\n",
      "| Processor | Package           |\n",
      "---------------------------------\n",
      "| tokenize  | combined          |\n",
      "| pos       | combined_charlm   |\n",
      "| lemma     | combined_nocharlm |\n",
      "| depparse  | combined_charlm   |\n",
      "=================================\n",
      "\n",
      "2023-11-26 09:45:13 INFO: Using device: cuda\n",
      "2023-11-26 09:45:13 INFO: Loading: tokenize\n",
      "2023-11-26 09:45:16 INFO: Loading: pos\n",
      "2023-11-26 09:45:16 INFO: Loading: lemma\n",
      "2023-11-26 09:45:16 INFO: Loading: depparse\n",
      "2023-11-26 09:45:17 INFO: Done loading processors!\n"
     ]
    },
    {
     "name": "stdout",
     "output_type": "stream",
     "text": [
      "Sentence: The quick brown fox jumps over the lazy dog.\n",
      "Syntax Fluency Score: 0.77\n",
      "\n",
      "Sentence: While the fox jumps, the dog barks.\n",
      "Syntax Fluency Score: 0.81\n",
      "\n",
      "Sentence: Fox.\n",
      "Syntax Fluency Score: 0.50\n",
      "\n"
     ]
    }
   ],
   "source": [
    "## FLUENCY\n",
    "\n",
    "!pip install stanza\n",
    "import spacy\n",
    "import torch\n",
    "import stanza\n",
    "\n",
    "# Download and set up the Stanza pipeline\n",
    "stanza.download('en')  # for English\n",
    "nlp = stanza.Pipeline(lang='en', processors='tokenize,mwt,pos,lemma,depparse')\n",
    "\n",
    "# Load the spaCy model\n",
    "nlp = spacy.load(\"en_core_web_sm\")\n",
    "\n",
    "def evaluate_syntax_fluency(sentence):\n",
    "    doc = nlp(sentence)\n",
    "\n",
    "    if len(doc) == 0:\n",
    "        return 0.0  # Empty sentence\n",
    "\n",
    "    num_tokens = len(doc)\n",
    "    if num_tokens <= 2:  # Penalize very short or fragmentary sentences\n",
    "        return 0.5\n",
    "\n",
    "    tree_depths = []\n",
    "    unique_dependency_types = set()\n",
    "\n",
    "    for token in doc:\n",
    "        # Calculate depth of each token in the parse tree\n",
    "        depth = 0\n",
    "        current_token = token\n",
    "        while current_token.head != current_token:\n",
    "            depth += 1\n",
    "            current_token = current_token.head\n",
    "        tree_depths.append(depth)\n",
    "\n",
    "        # Collect unique dependency types\n",
    "        unique_dependency_types.add(token.dep_)\n",
    "\n",
    "    # Metrics\n",
    "    max_depth = max(tree_depths)\n",
    "    depth_variety_score = len(unique_dependency_types) / num_tokens\n",
    "\n",
    "    # Score calculation (adjusted heuristic)\n",
    "    # Higher max depth might indicate complexity (lower fluency)\n",
    "    # More variety in dependency types might indicate richer syntactic structure (higher fluency)\n",
    "    fluency_score = (1 - (max_depth / (2 * num_tokens)) + depth_variety_score) / 2\n",
    "\n",
    "    return fluency_score\n",
    "\n",
    "\n",
    "# Test the function\n",
    "sentences = [\n",
    "    \"The quick brown fox jumps over the lazy dog.\",\n",
    "    \"While the fox jumps, the dog barks.\",\n",
    "    \"Fox.\"\n",
    "]\n",
    "\n",
    "for sentence in sentences:\n",
    "    fluency_score = evaluate_syntax_fluency(sentence)\n",
    "    print(f\"Sentence: {sentence}\")\n",
    "    print(f\"Syntax Fluency Score: {fluency_score:.2f}\\n\")"
   ]
  },
  {
   "cell_type": "markdown",
   "metadata": {},
   "source": [
    "## Syntactic score"
   ]
  },
  {
   "cell_type": "code",
   "execution_count": 65,
   "metadata": {},
   "outputs": [],
   "source": [
    "def syntactic_score(question,answer, weights=[1,1,1], debug=False, extra_outputs='False'):\n",
    "    \n",
    "    #weights of coherency, fluency and conciseness can be anything since they are scaled afterwards. Set equally by default\n",
    "    coherency = 1 if is_yes_no_question(question) == is_yes_no_answer(answer) else 0\n",
    "    fluency=evaluate_syntax_fluency(answer)\n",
    "    conciseness=evaluate_conciseness(answer)\n",
    "    \n",
    "    syntactic_score=(coherency*weights[0]+fluency*weights[1]+conciseness*weights[2])/np.sum(weights)\n",
    "\n",
    "    if debug==True:\n",
    "        print('Q:',question,\n",
    "              '|YES/NO TYPE:',is_yes_no_question(question), \n",
    "              '||A:',answer,\n",
    "              '|COHERENCY(',weights[0],'):',coherency, \n",
    "              '|FLUENCY(',weights[1],'):', fluency, \n",
    "              '|CONCISENESS(',weights[2],'):',conciseness,\n",
    "              '||SYNTACTIC SCORE:',syntactic_score\n",
    "               ) \n",
    "    if extra_outputs==True:\n",
    "        return syntactic_score, coherency, fluency, conciseness\n",
    "    else:\n",
    "        return syntactic_score"
   ]
  },
  {
   "cell_type": "code",
   "execution_count": 66,
   "metadata": {},
   "outputs": [
    {
     "name": "stdout",
     "output_type": "stream",
     "text": [
      "Q: Are dogs pets? |YES/NO TYPE: 1 ||A: I dont know |COHERENCY( 1 ): 0 |FLUENCY( 1 ): 0.9375 |CONCISENESS( 1 ): 0.3333333333333333 ||SYNTACTIC SCORE: 0.4236111111111111\n",
      "Q: Is a dog a pet? |YES/NO TYPE: 1 ||A: Yes it is |COHERENCY( 1 ): 1 |FLUENCY( 1 ): 0.9166666666666667 |CONCISENESS( 1 ): 0 ||SYNTACTIC SCORE: 0.638888888888889\n",
      "Q: Is it Saturday |YES/NO TYPE: 1 ||A: It is not Saturday |COHERENCY( 1 ): 0 |FLUENCY( 1 ): 0.9375 |CONCISENESS( 1 ): 0 ||SYNTACTIC SCORE: 0.3125\n",
      "Q: What day is it? |YES/NO TYPE: 0 ||A: No |COHERENCY( 1 ): 0 |FLUENCY( 1 ): 0.5 |CONCISENESS( 1 ): 0.9 ||SYNTACTIC SCORE: 0.4666666666666666\n",
      "Q: Where are you going? |YES/NO TYPE: 0 ||A: Nowhere, stop asking |COHERENCY( 1 ): 0 |FLUENCY( 1 ): 0.9375 |CONCISENESS( 1 ): 0.75 ||SYNTACTIC SCORE: 0.5625\n",
      "Q: Are you goind downtown? |YES/NO TYPE: 1 ||A: YES! |COHERENCY( 1 ): 1 |FLUENCY( 1 ): 0.5 |CONCISENESS( 1 ): 0.9 ||SYNTACTIC SCORE: 0.7999999999999999\n",
      "Q: Did you forget? |YES/NO TYPE: 1 ||A: Maybe I did |COHERENCY( 1 ): 0 |FLUENCY( 1 ): 0.9166666666666667 |CONCISENESS( 1 ): 0.6666666666666666 ||SYNTACTIC SCORE: 0.5277777777777778\n",
      "Q: Have you forgotten? |YES/NO TYPE: 1 ||A: No. Stop bothering |COHERENCY( 1 ): 1 |FLUENCY( 1 ): 0.9375 |CONCISENESS( 1 ): 0.75 ||SYNTACTIC SCORE: 0.8958333333333334\n",
      "Q: How long has it been? |YES/NO TYPE: 0 ||A: Its been very long since we last spoke |COHERENCY( 1 ): 1 |FLUENCY( 1 ): 0.8125 |CONCISENESS( 1 ): 0.5 ||SYNTACTIC SCORE: 0.7708333333333334\n",
      "Q: Has it been long? |YES/NO TYPE: 1 ||A: No, not really |COHERENCY( 1 ): 1 |FLUENCY( 1 ): 0.875 |CONCISENESS( 1 ): 0.25 ||SYNTACTIC SCORE: 0.7083333333333334\n"
     ]
    }
   ],
   "source": [
    "# Examples putting it all together\n",
    "questions=['Are dogs pets?',\n",
    "           'Is a dog a pet?',\n",
    "\n",
    "           'Is it Saturday',\n",
    "           'What day is it?',\n",
    "\n",
    "           'Where are you going?',\n",
    "           'Are you goind downtown?',\n",
    "\n",
    "           'Did you forget?',\n",
    "           'Have you forgotten?',\n",
    "\n",
    "           'How long has it been?',\n",
    "           'Has it been long?'\n",
    "           ]\n",
    "\n",
    "answers=['I dont know',\n",
    "         'Yes it is',\n",
    "\n",
    "         'It is not Saturday',\n",
    "         'No',\n",
    "\n",
    "         'Nowhere, stop asking',\n",
    "         'YES!',\n",
    "         \n",
    "         'Maybe I did',\n",
    "         'No. Stop bothering',\n",
    "\n",
    "         'Its been very long since we last spoke',\n",
    "         'No, not really']\n",
    "\n",
    "# Test the function\n",
    "for i in range(len(questions)):\n",
    "    syntactic_score_=syntactic_score(questions[i],answers[i],debug=True)"
   ]
  },
  {
   "cell_type": "markdown",
   "metadata": {},
   "source": [
    "# QA Dataset application"
   ]
  },
  {
   "cell_type": "markdown",
   "metadata": {},
   "source": [
    "## Dataloader"
   ]
  },
  {
   "cell_type": "code",
   "execution_count": 14,
   "metadata": {},
   "outputs": [
    {
     "name": "stdout",
     "output_type": "stream",
     "text": [
      "[WinError 3] The system cannot find the path specified: \"'/content/drive/MyDrive/2023-FALL/11-611 NLP/NLP Project Ideas'\"\n",
      "h:\\My Drive\\2023-FALL\\11-611 NLP\\Project\n"
     ]
    }
   ],
   "source": [
    "# Change to appropriate local file path\n",
    "%cd '/content/drive/MyDrive/2023-FALL/11-611 NLP/NLP Project Ideas'"
   ]
  },
  {
   "cell_type": "code",
   "execution_count": 15,
   "metadata": {},
   "outputs": [],
   "source": [
    "\n",
    "import torch\n",
    "from torch.utils.data import Dataset\n",
    "import os\n",
    "import numpy as np\n",
    "\n",
    "\n",
    "class CustomData(Dataset):\n",
    "\n",
    "    def __init__(self, file_dir):\n",
    "        self.file = file_dir\n",
    "        self.article_name = []\n",
    "        self.questions = []\n",
    "        self.answers = []\n",
    "        self.q_diffi = []\n",
    "        self.a_diffi = []\n",
    "        self.article_path = []\n",
    "        self.context = {} # only fill when load the dataset\n",
    "\n",
    "        # get question answer pairs\n",
    "        for div in ['S08', 'S09', 'S10']:\n",
    "          skip = True\n",
    "          qa_path = os.path.join(self.file, div, \"question_answer_pairs.txt\")\n",
    "          with open(qa_path, 'rb') as f:\n",
    "            for line in f:\n",
    "              if skip:\n",
    "                skip = False\n",
    "                continue\n",
    "              try:\n",
    "                row = line.decode().split('\\t')\n",
    "              except:\n",
    "                continue\n",
    "              # print(row)\n",
    "              if \"NULL\" in row:\n",
    "                continue # if any feature does not exist -> skip\n",
    "              self.article_name.append(row[0])\n",
    "              self.questions.append(row[1])\n",
    "              self.answers.append(row[2])\n",
    "              self.q_diffi.append(row[3])\n",
    "              self.a_diffi.append(row[4])\n",
    "              self.article_path.append(div + \"/\"+ row[5][:-1]) # get rid of '\\n\n",
    "\n",
    "        print(\"length of dataset: \", len(self.questions))\n",
    "\n",
    "\n",
    "    def __len__(self):\n",
    "        return len(self.questions)\n",
    "\n",
    "    def __getitem__(self, idx):\n",
    "\n",
    "        # retrieve context here -> less mem storage overhead\n",
    "        try:\n",
    "          curr_context = self.context[self.article_name[idx]]\n",
    "        except KeyError:\n",
    "          context_file = self.file + \"/\" + self.article_path[idx] + \".txt\"\n",
    "          # read all content, including the related items\n",
    "          with open(context_file, 'rb') as f:\n",
    "            curr_context = f.read().decode().replace('\\n',' ')\n",
    "          self.context[self.article_name[idx]] = curr_context\n",
    "\n",
    "        #return self.questions[idx], self.answers[idx], curr_context\n",
    "        return (self.article_name[idx],\n",
    "                self.questions[idx],\n",
    "                self.answers[idx],\n",
    "                self.q_diffi[idx],\n",
    "                self.a_diffi[idx],\n",
    "                self.article_path[idx],\n",
    "                curr_context\n",
    "                )\n"
   ]
  },
  {
   "cell_type": "code",
   "execution_count": 28,
   "metadata": {},
   "outputs": [
    {
     "name": "stdout",
     "output_type": "stream",
     "text": [
      "length of dataset:  2725\n",
      "line: 2463\n",
      "article_name:  Piano\n",
      "question:  About how tall is a typical studio piano?\n",
      " question length: 41\n",
      "answer:  Studio pianos are around 42 to 45 inches tall.\n",
      " answer length: 46\n",
      "q_diffi:  medium\n",
      "a_diffi:  easy\n",
      "article_path:  S10/data/set2/a1\n",
      "article:  Piano    Baby Grand Piano The piano is a musical instrument played by means of a keyboard that produces sound by striking steel strings with felt covered hammers. The hammers immediately rebound, allowing the strings to continue vibrating at their resonant frequency. \" Hammer Time\" by John Kiehl, Wolfram Demonstrations Project.  These vibrations are transmitted through a bridge to a soundboard that couples the acoustic energy to the air so that it can be heard as sound.  The piano is widely used in Western music for solo performance, ensemble use, chamber music, and accompaniment. It is also very popular as an aid to composing and rehearsal. Although not portable and often expensive, the piano's versatility and ubiquity  have made it one of the most familiar musical instruments. It is sometimes classified as both a percussion and a stringed instrument. According to the Hornbostel-Sachs method of music classification, it is grouped with Chordophones.  The word piano is a shortened form of the word pianoforte, which is seldom used except in formal language and derived from the original Italian name for the instrument, clavicembalo [or gravicembalo] col piano e forte (literally harpsichord with soft and loud). This refers to the instrument's responsiveness to keyboard touch, which allows the pianist to produce notes at different dynamic levels by controlling the speed with which the hammers hit the strings.     Early piano replica by the modern builder Paul McNulty, after Walter & Sohn, 1805  The piano was originally founded on earlier technological innovations. The first string instruments with struck strings were the hammered dulcimers originating from the Persian traditional musical instrument santur. David R. Peterson (1994), \"Acoustics of the hammered dulcimer, its history, and recent developments\", Journal of the Acoustical Society of America 95 (5), p. 3002.  During the Middle Ages, there were several attempts at creating stringed keyboard instruments with struck strings, Pollens, 1995. chp. 1  the earliest being the hurdy gurdy which has uncertain origins.    By the 17th century, the mechanisms of keyboard instruments such as the clavichord and the harpsichord were well known. In a clavichord the strings are struck by tangents, while in a harpsichord they are plucked by quills. Centuries of work on the mechanism of the harpsichord in particular had shown the most effective ways to construct the case, soundboard, bridge, and keyboard.  Grand piano by Louis Bas of Villeneuve-lès-Avignon, France, 1781. Earliest French grand piano known to survive; includes an inverted wrestplank and action derived from the work of Bartolomeo Cristofiori (ca. 1700) with ornately decorated soundboard. The invention of the modern piano is credited to Bartolomeo Cristofori of Padua, Italy, who was employed by Prince Ferdinand de Medici as the Keeper of the Instruments. He was an expert harpsichord maker and was well acquainted with the previous body of knowledge on stringed keyboard instruments. It is not known exactly when Cristofori first built a piano.  An inventory made by his employers, the Medici family, indicates the existence of a piano by the year 1700; another document of doubtful authenticity indicates a date of 1698.  The three Cristofori pianos that survive today date from the 1720s.  Cristofori's great success was in solving, without any prior example, the fundamental mechanical problem of piano design: the hammer must strike the string, but not remain in contact with it (as a tangent remains in contact with a clavichord string) because this would damp the sound. Moreover, the hammer must return to its rest position without bouncing violently, and it must be possible to repeat a note rapidly. Cristofori's piano action served as a model for the many different approaches to piano actions that followed. While Cristofori's early instruments were made with thin strings and were much quieter than the modern piano, compared to the clavichord (the only previous keyboard instrument capable of minutely controlled dynamic nuance through the keyboard) they were considerably louder and had more sustaining power.  Cristofori's new instrument remained relatively unknown until an Italian writer, Scipione Maffei, wrote an enthusiastic article about it (1711), including a diagram of the mechanism. This article was widely distributed, and most of the next generation of piano builders started their work because of reading it. One of these builders was Gottfried Silbermann, better known as an organ builder. Silbermann's pianos were virtually direct copies of Cristofori's, with one important addition: Silbermann invented the forerunner of the modern damper pedal, which lifts all the dampers from the strings at once.  Silbermann showed Johann Sebastian Bach one of his early instruments in the 1730s, but Bach did not like it at that time, claiming that the higher notes were too soft to allow a full dynamic range. Although this earned him some animosity from Silbermann, the criticism was apparently heeded. Bach did approve of a later instrument he saw in 1747, and even served as an agent in selling Silbermann's pianos.  Piano making flourished during the late 18th century in the Viennese school, which included Johann Andreas Stein (who worked in Augsburg, Germany) and the Viennese makers Nannette Streicher (daughter of Johann Andreas Stein) and Anton Walter. Viennese-style pianos were built with wood frames, two strings per note, and had leather-covered hammers. Some of these Viennese pianos had the opposite coloring of modern-day pianos; the natural keys were black and the accidental keys white.     It was for such instruments that Wolfgang Amadeus Mozart composed his concertos and sonatas, and replicas of them are built today for use in authentic-instrument performance of his music. The pianos of Mozart's day had a softer, clearer tone than today's pianos or English pianos, with less sustaining power. The term fortepiano is nowadays often used to distinguish the 18th-century instrument from later pianos.     In the period lasting from about 1790 to 1860, the Mozart-era piano underwent tremendous changes that led to the modern form of the instrument. This revolution was in response to a consistent preference by composers and pianists for a more powerful, sustained piano sound, and made possible by the ongoing Industrial Revolution with technological resources such as high-quality steel, called piano wire, for strings, and precision casting for the production of iron frames. Over time, the tonal range of the piano was also increased from the five octaves of Mozart's day to the 7⅓ or more octaves found on modern pianos. Broadwood square action Early technological progress owed much to the English firm of Broadwood, who already had a reputation for the splendour and powerful tone of its harpsichords. Broadwood constructed instruments that were progressively larger, louder, and more robustly constructed. They sent pianos to both Joseph Haydn and Ludwig van Beethoven, and were the first firm to build pianos with a range of more than five octaves: five octaves and a fifth during the 1790s, six octaves by 1810 (Beethoven used the extra notes in his later works), and seven octaves by 1820. The Viennese makers similarly followed these trends, however the two schools used different piano actions: Broadwoods were more robust, Viennese instruments were more sensitive.  Erard square action By the 1820s, the center of innovation had shifted to Paris, where the Pleyel firm manufactured pianos used by Frédéric Chopin and the Érard firm manufactured those used by Franz Liszt. In 1821, Sébastien Érard invented the double escapement action, which permitted a note to be repeated even if the key had not yet risen to its maximum vertical position. This facilitated rapid playing of repeated notes - and this musical device was pioneered by Liszt. When the invention became public, as revised by Henri Herz, the double escapement action gradually became standard in grand pianos, and is still incorporated into all grand pianos currently produced.  One of the major technical innovations that helped to create the sound of the modern piano was the use of a strong iron frame. Also called the \"plate\", the iron frame sits atop the soundboard, and serves as the primary bulwark against the force of string tension. The increased structural integrity of the iron frame allowed the use of thicker, tenser, and more numerous strings.  In a modern grand the total string tension can exceed 20 tons. The single piece cast iron frame was patented in 1825 in Boston by Alpheus Babcock, combining the metal hitch pin plate (1821, claimed by Broadwood on behalf of Samuel Hervé) and resisting bars (Thom and Allen, 1820, but also claimed by Broadwood and Érard). Babcock later worked for the Chickering & Mackays firm who patented the first full iron frame for grand pianos in 1843. Composite forged metal frames were preferred by many European makers until the American system was fully adopted by the early 20th century.  Other innovations for the mechanism included the use of felt hammer coverings instead of layered leather hammers. Felt hammers, which were first introduced by Henri Pape in 1826, were a more consistent material, permitting wider dynamic ranges as hammer weights and string tension increased. The sostenuto pedal (see below), invented in 1844 by Jean Louis Boisselot and improved by the Steinway firm in 1874, allowed a wider range of effects.  Other important technical innovations of this era included changes to the way the piano was strung, such as the use of a \"choir\" of three strings rather than two for all but the lower notes, and the use of different stringing methods. With the over strung scale, also called \"cross-stringing\", the strings are placed in a vertically overlapping slanted arrangement, with two heights of bridges on the soundboard instead of just one. This permits larger, but not necessarily longer, strings to fit within the case of the piano. Over stringing was invented by Jean-Henri Pape during the 1820s, and first patented for use in grand pianos in the United States by Henry Steinway Jr. in 1859. Duplex scaling: Treble strings of a 182 cm. grand piano. From lower left to upper right: dampers, main sounding length of strings, treble bridge, duplex string length, duplex bridge (long bar perpendicular to strings), hitchpins. With duplexes or aliquot scales, which was patented in 1872 by Theodore Steinway, the different components of string vibrations are controlled by tuning their secondary parts in octave relationships with the sounding lengths. Similar systems developed by Blüthner (1872), as well as  Taskin (1788), and Collard (1821) used more distinctly ringing undamped vibrations to modify tone.  Some early pianos had shapes and designs that are no longer in use. The square piano had horizontal strings arranged diagonally across the rectangular case above the hammers and with the keyboard set in the long side. This design is attributed to Gottfried Silbermann or Christian Ernst Friderici on the continent, and Johannes Zumpe or Harman Vietor in England and it was improved by changes first introduced by Guillaume-Lebrecht Petzold in France and Alpheus Babcock in the United States. Square pianos were built in great numbers through the 1840s in Europe and the 1890s in America, and saw the most visible changes of any type of piano: the celebrated iron framed over strung squares manufactured by Steinway & Sons were more than two and a half times the size of Zumpe's wood framed instruments from a century before. Their overwhelming popularity was due to inexpensive construction and price, although their performance and tone were often limited by simple actions and closely spaced strings.  The mechanism in upright pianos is perpendicular to the keys. The tall, vertically strung upright grand was arranged like a grand set on end, with the soundboard and bridges above the keys, and tuning pins below them. The term was later revived by many manufacturers for advertising purposes. Giraffe, pyramid and lyre pianos were arranged in a somewhat similar fashion in evocatively shaped cases.  The very tall cabinet piano was introduced about 1805 and was built through the 1840s. It had strings arranged vertically on a continuous frame with bridges extended nearly to the floor, behind the keyboard and very large sticker action. The short cottage upright or pianino with vertical stringing, made popular by Robert Wornum around 1815, was built into the 20th century. They are informally called birdcage pianos because of their prominent damper mechanism. Pianinos were distinguished from the oblique, or diagonally strung upright made popular in France by Roller & Blanchet during the late 1820s. The tiny spinet upright was manufactured from the mid-1930s until recent times. The low position of the hammers required the use of a \"drop action\" to preserve a reasonable keyboard height.  Modern upright and grand pianos attained their present forms by the end of the 19th century. Improvements have been made in manufacturing processes, and many individual details of the instrument continue to receive attention.     Much of the most widely admired piano repertoire, for example, that of Haydn, Mozart, and Beethoven, was composed for a type of instrument that is rather different from the modern instruments on which this music is normally performed today. Even the music of the Romantics, including Liszt, Chopin, Robert Schumann, Felix Mendelssohn and Johannes Brahms, was written for pianos substantially different from ours.    A schematic depiction of the construction of a pianoforte.   Modern pianos come in two basic configurations (with subcategories): the grand piano and the upright piano.   Grand piano In grand pianos, the frame and strings are horizontal, with the strings extending away from the keyboard. There are several sizes of grand piano. A rough generalization distinguishes the \"concert grand\" (between about   and   long) from the \"parlor grand\" or \"boudoir grand\" (about   to  ) and the smaller \"baby grand\".  All else being equal, longer pianos with longer strings have better sound and lower inharmonicity of the strings. Inharmonicity is the degree to which the frequencies of overtones (known as partials, partial tones, or harmonics) depart from whole multiples of the fundamental frequency. Pianos with shorter, thicker, and stiffer strings (e.g., baby grands) have more inharmonicity. The longer strings on a concert grand can vibrate more freely than the shorter, thicker strings on a baby grand, which means that a concert grand's strings will have truer overtones. This is partly because the strings will be tuned closer to equal temperament in relation to the standard pitch with less \"stretching\" in the piano tuning (See: Piano tuning). Full-size grands are usually used for public concerts, whereas smaller grands, introduced by Sohmer & Co. in 1884, are often chosen for domestic use where space and cost are considerations.    Upright piano  Upright pianos, also called vertical pianos, are more compact because the frame and strings are  vertical. It is considered harder to produce a sensitive piano action when the hammers move horizontally, as the vertical hammer return is dependent on springs which are prone to wear and tear. However, a well-regulated vertical piano will probably play more smoothly than a poorly regulated grand piano, and the very best upright pianos approach the level of some grand pianos of the same size in tone quality and responsiveness.  One noticeable advantage that the grand piano action has over the vertical action is that all grand pianos have a special repetition lever in the playing action that is absent in all verticals. This repetition lever, a separate one for every key, catches the hammer close to the strings as long as the keys are played repeatedly and fairly quickly. In this position, with the hammer resting on the lever, a pianist can play repeated notes, staccato, and trills with much more speed and control than is possible on a vertical piano.  Upright pianos with unusually tall frames and long strings are sometimes called \"upright grand\" pianos.  Some authors classify modern pianos according to their height and, to modifications of the action that are necessary to accomodate the height. * Studio pianos are around 42 to 45 inches tall.  This is the shortest cabinet that can accomodate a 'full-sized' action located above the keyboard. * Console pianos have a compact action (shorter hammers), and are a few inches shorter than studio models. * The top of a Spinet model barely rises above the keyboard.  The action is located below, operated by vertical wires that are attached to the backs of the keys. * Anything taller than a studio piano is called an upright.    Player piano Toy pianos began to be manufactured in the 19th century. In 1863, Henri Fourneaux invented the player piano, which \"plays itself\" from a piano roll without the need for a pianist. The player piano is a piano that records a performance using rolls of paper with perforations, and then replays the performance using pneumatic devices. A modern equivalent for the player piano is the Yamaha Disklavier system, which uses solenoids and midi instead of pneumatics and rolls. Silent pianos, which allow a regular piano to be used converted to a digital instrument, are a recent innovation and are becoming more popular.  Irving Berlin played a special piano called the transposing piano, which was invented in 1801 by Edward Ryley. It had a lever under the keyboard used to alter the music to any key. One of Berlin's pianos is in the Smithsonian Museum. For much of his career, Berlin only knew how to play the black keys. But with his 'trick piano' he was no longer limited to the key of F-sharp.  A relatively recent development is the prepared piano, which is used in contemporary art music. A prepared piano is a standard grand piano which has had objects placed inside it before a performance in order to alter its sound, or which has had its mechanism changed in some way. The scores for music for prepared piano often instruct the pianist to insert pieces of rubber or small pieces of metal (screws or washers) in between the strings. These added items either mute the strings or create unusual vibrating sounds.  Since the 1980s, digital pianos have been available, which use digital sampling technology to reproduce the sound of each piano note. The best digital pianos are sophisticated, with features including working pedals, weighted keys, multiple voices, and MIDI interfaces. However, with such technology, it is difficult to duplicate one particular aspect of acoustic pianos, namely that when the damper pedal (see below) is depressed, the strings not struck vibrate sympathetically when other strings are struck, as well as the unique instrument-specific mathematical non-linearity of partials on any given unison. Since this sympathetic vibration is considered central to piano tone,  many digital pianos do not sound the same as the best acoustic pianos. Progress is being made in this area by including physical models of sympathetic vibration in the synthesis software.  Some higher end digital pianos, such as the Yamaha Clavinova series, or the KAWAI MP8 series, produced in the last few years incorporate string resonance technology to overcome this limitation.  With the advent of powerful desktop computers, highly realistic sampled digital grand pianos have become available as affordable software modules.  Some use multi-gigabyte piano sample sets with as many as 90 recordings, each lasting many seconds, for each of the 88 keys under different conditions, augmented by additional samples to emulate sympathetic resonance, key release, the drop of the dampers, and simulations of piano techniques like re-pedaling.     Keyboard Almost every modern piano has 36 black keys and 52 white keys for a total of 88 keys (seven octaves plus a minor third, from A0 to C8). Many older pianos only have 85 keys (seven octaves from A0 to A7), while some manufacturers extend the range further in one or both directions.  Some Bösendorfer pianos extend the normal range downwards to F0, with one other model going as far as a bottom C0, making a full eight octave range. These extra keys are sometimes hidden under a small hinged lid that can be flipped down to cover the keys in order to avoid visual disorientation in a pianist unfamiliar with the extended keyboard. On others, the colours of the extra white keys are reversed (black instead of white).  The extra keys are added primarily for increased resonance from the associated strings; that is, they vibrate sympathetically with other strings whenever the damper pedal is depressed and thus give a fuller tone. Only a very small number of works composed for piano actually use these notes. More recently, the Stuart and Sons company has also manufactured extended-range pianos. On their instruments, the range is extended both down the bass to F0 and up the treble to F8 for a full eight octaves. The extra keys are the same as the other keys in appearance.  Small studio upright acoustical pianos with only 65 keys have been manufactured for use by roving pianists. Known as \"gig\" pianos and still containing a cast iron harp, these are comparatively lightweight and can be easily transported to and from engagements by only two men. As their harp is longer than that of a spinet or console piano, they have a stronger bass sound that to some pianists is well worth the trade-off in range that a reduced key-set offers.    Piano pedals from left to right: una corda, sostenuto, and damper.  Pianos have had pedals, or some close equivalent, since the earliest days. (In the 18th century, some pianos used levers pressed upward by the player's knee instead of pedals.) Most grand pianos have three pedals: soft pedal (una corda), sostenuto, and sustain pedal (from left to right, respectively). Most modern upright pianos have three pedals: soft pedal, practice pedal and sustain pedal, though older or cheaper models may lack the practice pedal.  The sustain pedal (or, damper pedal) is often simply called \"the pedal\", since it is the most frequently used. It is placed as the rightmost pedal in the group. It lifts the dampers from all keys, sustaining all played notes, and altering the overall tone.  The soft pedal or una corda pedal is placed leftmost in the row of pedals. In grand pianos, it shifts the entire action, including the keyboard, to the right, so that the hammers hit only one of the three strings for each note (hence the name una corda, or 'one string'). The effect is to soften the note as well as to change the tone. In uprights, this action is not possible, and so the pedal moves the hammers closer to the strings, allowing the hammers to hit the strings with less kinetic energy to produce a softer sound.  On grand pianos, the middle pedal is a sostenuto pedal. This pedal keeps raised any damper that was already raised at the moment the pedal is depressed. This makes it possible to sustain some notes (by depressing the sostenuto pedal before notes to be sustained are released) while the player's hands are free to play other notes. This can be useful for musical passages with pedal points and other otherwise tricky or impossible situations.  On many upright pianos, there is a middle pedal called the 'practice' or celeste pedal. This drops a piece of felt between the hammers and strings, greatly muting the sounds.  There are also non-standard variants. On vertical pianos, the middle pedal can be a bass sustain pedal: that is, when it is depressed, the dampers lift off the strings only in the bass section. This pedal would be used only when a pianist needs to sustain a single bass note or chord over many measures, while playing the melody in the treble section. On the largest Fazioli piano, there is a fourth pedal to the left of the principal three. This fourth pedal works in the same way as the soft pedal of an upright piano, moving the hammers closer to the strings.    An upright pedal piano The rare transposing piano, of which Irving Berlin possessed an example, had a middle pedal that functioned as a clutch which disengages the keyboard from the mechanism, enabling the keyboard to be moved to the left or right with a lever. The entire action of the piano is thus shifted to allow the pianist to play music written in one key so that it sounds in a different key. The pedalier piano, or pedal piano, is a rare type of piano that includes a pedalboard, enabling bass register notes to be played with the feet, as is standard on the organ. There are two types of pedal piano: the pedal board may be an integral part of the instrument, using the same strings and mechanism as the manual keyboard, or, less frequently, it may consist of two independent pianos (each with its separate mechanics and strings) which are placed one above the other, a regular piano played by the hands and a bass-register piano played by the feet.    Many parts of a piano are made of materials selected for sturdiness. In quality pianos, the outer rim of the piano is made of a hardwood, normally maple or beech. According to  Harold A. Conklin, the purpose of a sturdy rim is so that \"the vibrational energy will stay as much as possible in the soundboard instead of dissipating uselessly in the case parts, which are inefficient radiators of sound.\"  View from below of a 182-cm grand piano. In order of distance from viewer: softwood braces, tapered soundboard ribs, soundboard. The metal rod at lower right is a humidity control device. The rim is normally made by laminating flexible strips of hardwood to the desired shape, a system that was developed by Theodore Steinway in 1880. The thick wooden braces at the bottom (grands) or back (uprights) of the piano are not as acoustically important as the rim, and are often made of a softwood, even in top-quality pianos, in order to save weight. The requirement of structural strength, fulfilled with stout hardwood and thick metal, makes a piano heavy; even a small upright can weigh 136 kg (300 lb), and the Steinway concert grand (Model D) weighs 480 kg (990 lb). The largest piano built, the Fazioli F308, weighs 691 kg (1520 lb).  The pinblock, which holds the tuning pins in place, is another area of the piano where toughness is important. It is made of hardwood, (often maple) and generally is laminated (built of multiple layers) for additional strength and gripping power. Piano strings (also called piano wire), which must endure years of extreme tension and hard blows, are made of high quality steel. They are manufactured to vary as little as possible in diameter, since all deviations from uniformity introduce tonal distortion. The bass strings of a piano are made of a steel core wrapped with copper wire, to increase their mass whilst retaining flexibility.  The plate, or metal frame, of a piano is usually made of cast iron. It is advantageous for the plate to be quite massive. Since the strings are attached to the plate at one end, any vibrations transmitted to the plate will result in loss of energy to the desired (efficient) channel of sound transmission, namely the bridge and the soundboard. Some manufacturers now use cast steel in their plates, for greater strength. The casting of the plate is a delicate art, since the dimensions are crucial and the iron shrinks by about one percent during cooling.  The inclusion in a piano of an extremely large piece of metal is potentially an aesthetic handicap, which piano makers overcome by polishing, painting and decorating the plate. Plates often include the manufacturer's ornamental medallion and can be strikingly attractive. In an effort to make pianos lighter, Alcoa worked with Winter and Company piano manufacturers to make pianos using an aluminum plate during the 1940s. The use of aluminum for piano plates, however, did not become widely accepted and was discontinued.  The numerous grand parts and upright parts of a piano action are generally hardwood (e.g. maple, beech. hornbeam). However, since World War II, plastics have become available. Early plastics were incorporated into some pianos in the late 1940s and 1950s, but proved disastrous because they crystallized and lost their strength after only a few decades of use. The Steinway firm once incorporated Teflon, a synthetic material developed by DuPont, for some grand action parts in place of cloth, but ultimately abandoned the experiment due to an inherent \"clicking\" which invariably developed over time. (Also Teflon is \"humidity stable\" whereas the wood adjacent to the Teflon will swell and shrink with humidity changes, causing problems.) More recently, the Kawai firm has built pianos with action parts made of more modern and effective plastics such as carbon fiber; these parts have held up better and have generally received the respect of piano technicians . Ivorite and ebony keys on a modern Steinway & Sons concert grand piano. The part of the piano where materials probably matter more than anywhere else is the soundboard. In quality pianos, this is made of solid spruce (that is, spruce boards glued together at their edges). Spruce is chosen for its high ratio of strength to weight. The best piano makers use close-grained, quarter-sawn, defect-free spruce, and make sure that it has been carefully dried over a long period of time before making it into soundboards. In cheap pianos, the soundboard is often made of plywood.  Piano keys are generally made of spruce or basswood, for lightness. Spruce is normally used in high-quality pianos. Traditionally, the black keys were made from ebony and the white keys were covered with strips of ivory, but since ivory-yielding species are now endangered and protected by treaty, plastics are now almost exclusively used. Also, ivory tends to chip more easily than plastic. Legal ivory can still be obtained in limited quantities. At one time, the Yamaha firm innovated a plastic called \"Ivorine\" or \"Ivorite\", since imitated by other makers, that mimics the look and feel of ivory.     A piano tuner Pianos need regular tuning to keep them up to pitch, which is usually the internationally recognized standard concert pitch of A4 = 440 Hz. The hammers of pianos are voiced to compensate for gradual hardening, and other parts also need periodic regulation. Aged and worn pianos can be rebuilt or reconditioned. Often, by replacing a great number of their parts, they can be made to perform as well as new pianos. Older pianos are often more settled and produce a warmer tone.  Piano moving should be done by trained piano movers using adequate manpower and the correct equipment for any particular piano's size and weight.  Pianos are heavy yet delicate instruments. Over the years, professional piano movers have developed special techniques for transporting both grands and uprights which prevent damage to the case and to the piano's mechanics.     The piano at the social center in the 19th century (Moritz von Schwind, 1868). The man at the piano is Franz Schubert. The piano is a crucial instrument in Western classical music, jazz, film, television, and most other complex western musical genres. Since a large number of composers are proficient pianists – and because the piano keyboard offers an easy means of complex melodic and harmonic interplay – the piano is often used as a tool for composition.  Pianos were, and still are, popular instruments for private household ownership.  Hence, pianos have gained a place in the popular consciousness, and are sometimes referred to by nicknames including: \"the ivories\", \"the joanna\", \"the eighty-eight\", and \"the black(s) and white(s)\", \"the little joe(s)\". Playing the piano is sometimes referred to as \"tickling the ivories\".     ;General * Innovations in the piano * Jazz piano * Piano acoustics * Piano key frequencies (in equal temperament) * Piano trio * String piano  ;Related lists * List of films about pianists * Lists of solo piano pieces * List of piano makers * List of piano brand names * List of classical pianists (recorded)  ;Related instruments * Hammered dulcimer * Harp * Clavichord * Harpsichord * Organ and Pipe organ * Electric piano * Electronic piano     * The authoritative New Grove Dictionary of Music and Musicians (available online by subscription), contains a wealth of information. Main article: \"Pianoforte\". * The Encyclopædia Britannica (available online by subscription) also includes much information on the piano. In the 1988 edition, the primary article can be found in \"Musical Instruments\". *  The Piano Book  by Larry Fine (4th ed. Jamaica Plain, Massachusetts: Brookside Press, 2001; ISBN 1-929145-01-2) gives the basics of how pianos work, and a thorough evaluative survey of current pianos and their manufacturers. It also includes advice on buying and owning pianos. *Giraffes, black dragons, and other pianos: a technological history from Cristofori to the modern concert grand by Edwin M. Good (1982, second ed., 2001, Stanford, Calif.: Stanford University Press) is a standard reference on the history of the piano. *The Early Pianoforte by Stewart Pollens (1995, Cambridge: Cambridge University Press) is an authoritative work covering the ancestry of the piano, its invention by Cristofori, and the early stages of its subsequent evolution.    *   *    *   *   *   *     *     ;Information *  Yamaha Musician - Yamaha piano reviews and enthusiast site  *  Grand Piano information and images *  The Piano Page Lots of information from the Piano Technicians Guild *  WikiRecording's Guide to Recording Pianos ;History *  History of the Piano Forte, Association of Blind Piano Tuners, UK *  The Frederick Historical Piano Collection ;Piano Technique *  Principles of Piano Technique ;Sheet music for Piano * All Piano Scores Free printable classical sheet music for piano + audio    \n",
      " article length: 34121\n",
      "\n",
      "\n"
     ]
    }
   ],
   "source": [
    "# Load data using CustomData function\n",
    "data_path = 'Question_Answer_Dataset_v1.2'\n",
    "dataset = CustomData(data_path)\n",
    "# Print random set for data exploration\n",
    "n=len(dataset)\n",
    "n_show=1\n",
    "\n",
    "rand_range=np.random.randint(0,n,n_show)\n",
    "\n",
    "for line in rand_range:\n",
    "  d = dataset[line] #\n",
    "  print('line:',line)\n",
    "  print(\"article_name: \", d[0])\n",
    "  print(\"question: \", d[1])\n",
    "  print(' question length:',len(d[1]))\n",
    "  print(\"answer: \", d[2])\n",
    "  print(' answer length:', len(d[2]))\n",
    "  print(\"q_diffi: \", d[3])\n",
    "  print(\"a_diffi: \", d[4])\n",
    "  print(\"article_path: \", d[5])\n",
    "  print(\"article: \", d[6])\n",
    "  print(' article length:',len(d[6]))\n",
    "  print('\\n')"
   ]
  },
  {
   "cell_type": "markdown",
   "metadata": {},
   "source": [
    "## Syntactic score application"
   ]
  },
  {
   "cell_type": "code",
   "execution_count": null,
   "metadata": {},
   "outputs": [],
   "source": [
    "'''\n",
    "- [0] article_name   \n",
    "- [1] question   \n",
    "- [2] answer  \n",
    "- [3] difficulty by question maker\n",
    "- [4] difficulty by answer maker\n",
    "- [5] article path\n",
    "- [6] article text\n",
    "'''\n",
    "\n",
    "import random\n",
    "\n",
    "#make random selection\n",
    "n=50 #random sample to get from len(dataset)  \n",
    "random_select=random.sample(range(len(dataset)), n) #Sometime fails because of UTF "
   ]
  },
  {
   "cell_type": "code",
   "execution_count": 71,
   "metadata": {},
   "outputs": [
    {
     "name": "stdout",
     "output_type": "stream",
     "text": [
      "difficulty: hard medium\n",
      "Q: Where does air pollution in Beijing come from? |YES/NO TYPE: 0 ||A: surrounding cities and provinces |COHERENCY( 1 ): 1 |FLUENCY( 1 ): 0.875 |CONCISENESS( 1 ): 0.75 ||SYNTACTIC SCORE: 0.875\n",
      "difficulty: hard hard\n",
      "Q: What prompted the city to upgrade its building codes |YES/NO TYPE: 0 ||A: The threat of major earthquakes |COHERENCY( 1 ): 1 |FLUENCY( 1 ): 0.85 |CONCISENESS( 1 ): 0.6 ||SYNTACTIC SCORE: 0.8166666666666668\n",
      "difficulty: hard medium\n",
      "Q: Do male giraffes have larger horns than female giraffes? |YES/NO TYPE: 1 ||A: Yes |COHERENCY( 1 ): 1 |FLUENCY( 1 ): 0.5 |CONCISENESS( 1 ): 0.9 ||SYNTACTIC SCORE: 0.7999999999999999\n",
      "difficulty: easy easy\n",
      "Q: Is Melbourne the capital and most populous city in the state of Victoria? |YES/NO TYPE: 1 ||A: Yes. |COHERENCY( 1 ): 1 |FLUENCY( 1 ): 0.5 |CONCISENESS( 1 ): 0.9 ||SYNTACTIC SCORE: 0.7999999999999999\n",
      "difficulty: medium hard\n",
      "Q: When did a standard and common language become available to all Swedes? |YES/NO TYPE: 0 ||A: In the 20th Century. |COHERENCY( 1 ): 1 |FLUENCY( 1 ): 0.9 |CONCISENESS( 1 ): 0.2 ||SYNTACTIC SCORE: 0.7000000000000001\n",
      "difficulty: medium medium\n",
      "Q: Where is Uruguay's oldest church? |YES/NO TYPE: 0 ||A: San Carlos, Maldonado. |COHERENCY( 1 ): 1 |FLUENCY( 1 ): 0.8500000000000001 |CONCISENESS( 1 ): 0 ||SYNTACTIC SCORE: 0.6166666666666667\n",
      "difficulty: easy easy\n",
      "Q: Are giraffes hunted for their hides? |YES/NO TYPE: 1 ||A: Yes |COHERENCY( 1 ): 1 |FLUENCY( 1 ): 0.5 |CONCISENESS( 1 ): 0.9 ||SYNTACTIC SCORE: 0.7999999999999999\n",
      "difficulty: medium medium\n",
      "Q: What is Avogadro most noted for? |YES/NO TYPE: 0 ||A: contributions to the theory of molarity and molecular weight |COHERENCY( 1 ): 1 |FLUENCY( 1 ): 0.7222222222222223 |CONCISENESS( 1 ): 0.5555555555555556 ||SYNTACTIC SCORE: 0.7592592592592592\n",
      "difficulty: medium easy\n",
      "Q: How much of the population is of white European descent? |YES/NO TYPE: 0 ||A: 88% |COHERENCY( 1 ): 1 |FLUENCY( 1 ): 0.5 |CONCISENESS( 1 ): 0.9 ||SYNTACTIC SCORE: 0.7999999999999999\n",
      "difficulty: medium hard\n",
      "Q: What position is used to play the cello? |YES/NO TYPE: 0 ||A: a gamba |COHERENCY( 1 ): 1 |FLUENCY( 1 ): 0.5 |CONCISENESS( 1 ): 0.9 ||SYNTACTIC SCORE: 0.7999999999999999\n",
      "difficulty: hard hard\n",
      "Q: When did Alessandro Volta improve  and popularize the electrophorus? |YES/NO TYPE: 0 ||A: 1775 |COHERENCY( 1 ): 1 |FLUENCY( 1 ): 0.5 |CONCISENESS( 1 ): 0.9 ||SYNTACTIC SCORE: 0.7999999999999999\n",
      "difficulty: medium medium\n",
      "Q: Who was on the committee with Adams to draft  a Declaration of Independence? |YES/NO TYPE: 0 ||A: Thomas Jefferson, Benjamin Franklin, Robert R. Livingston and Roger Sherman. |COHERENCY( 1 ): 1 |FLUENCY( 1 ): 0.6538461538461539 |CONCISENESS( 1 ): 0 ||SYNTACTIC SCORE: 0.5512820512820512\n",
      "difficulty: easy easy\n",
      "Q: Are tigers solitary animals? |YES/NO TYPE: 1 ||A: Yes. |COHERENCY( 1 ): 1 |FLUENCY( 1 ): 0.5 |CONCISENESS( 1 ): 0.9 ||SYNTACTIC SCORE: 0.7999999999999999\n",
      "difficulty: medium medium\n",
      "Q: What did Jefferson call John Adams? |YES/NO TYPE: 0 ||A: Colossus of Independence |COHERENCY( 1 ): 1 |FLUENCY( 1 ): 0.8333333333333334 |CONCISENESS( 1 ): 0 ||SYNTACTIC SCORE: 0.6111111111111112\n",
      "difficulty: medium medium\n",
      "Q: How many children did Avogadro have? |YES/NO TYPE: 0 ||A: six |COHERENCY( 1 ): 1 |FLUENCY( 1 ): 0.5 |CONCISENESS( 1 ): 0.9 ||SYNTACTIC SCORE: 0.7999999999999999\n",
      "difficulty: medium medium\n",
      "Q: Where is the Park of the Reserve located? |YES/NO TYPE: 0 ||A: Near the downtown area. |COHERENCY( 1 ): 1 |FLUENCY( 1 ): 0.9 |CONCISENESS( 1 ): 0.4 ||SYNTACTIC SCORE: 0.7666666666666666\n",
      "difficulty: easy medium\n",
      "Q: What is the largest living species of penguin? |YES/NO TYPE: 0 ||A: Emperor Penguin |COHERENCY( 1 ): 1 |FLUENCY( 1 ): 0.5 |CONCISENESS( 1 ): 0.9 ||SYNTACTIC SCORE: 0.7999999999999999\n",
      "difficulty: hard hard\n",
      "Q: What principles did Newton explain for mechanics? |YES/NO TYPE: 0 ||A: The principles of conservation of momentum and angular momentum |COHERENCY( 1 ): 1 |FLUENCY( 1 ): 0.7222222222222223 |CONCISENESS( 1 ): 0.5555555555555556 ||SYNTACTIC SCORE: 0.7592592592592592\n",
      "difficulty: hard too hard\n",
      "Q: What types of fins do eels have? |YES/NO TYPE: 0 ||A: Eels have dorsal and anal fins fused with a tail fin. Some also have  pectoral fins. |COHERENCY( 1 ): 1 |FLUENCY( 1 ): 0.8289473684210527 |CONCISENESS( 1 ): 0.6666666666666666 ||SYNTACTIC SCORE: 0.8318713450292398\n",
      "difficulty: hard hard\n",
      "Q: What is panda diplomacy? |YES/NO TYPE: 0 ||A: Loans of Giant Pandas to American and Japanese zoos |COHERENCY( 1 ): 1 |FLUENCY( 1 ): 0.7777777777777778 |CONCISENESS( 1 ): 0.4444444444444444 ||SYNTACTIC SCORE: 0.7407407407407408\n",
      "difficulty: hard medium\n",
      "Q: Which species of zebra is known as the common zebra? |YES/NO TYPE: 0 ||A: Plains Zebra |COHERENCY( 1 ): 1 |FLUENCY( 1 ): 0.5 |CONCISENESS( 1 ): 0.9 ||SYNTACTIC SCORE: 0.7999999999999999\n",
      "difficulty: hard medium\n",
      "Q: Why are Harp Guitars difficult to classify? |YES/NO TYPE: 0 ||A: There are many variations within this type. |COHERENCY( 1 ): 1 |FLUENCY( 1 ): 0.875 |CONCISENESS( 1 ): 0.5 ||SYNTACTIC SCORE: 0.7916666666666666\n",
      "difficulty: hard hard\n",
      "Q: Why do penguins \"tobaggan\"? |YES/NO TYPE: 0 ||A: Conserves energy while moving quickly |COHERENCY( 1 ): 1 |FLUENCY( 1 ): 0.9 |CONCISENESS( 1 ): 0.8 ||SYNTACTIC SCORE: 0.9\n",
      "difficulty: medium medium\n",
      "Q: What is the national currency of Liechtenstein? |YES/NO TYPE: 0 ||A: Swiss franc |COHERENCY( 1 ): 1 |FLUENCY( 1 ): 0.5 |CONCISENESS( 1 ): 1.0 ||SYNTACTIC SCORE: 0.8333333333333334\n",
      "difficulty: easy easy\n",
      "Q: Did Johann Josef Loschmidt first calculate the value of Avogadro's number? |YES/NO TYPE: 1 ||A: yes |COHERENCY( 1 ): 1 |FLUENCY( 1 ): 0.5 |CONCISENESS( 1 ): 0.9 ||SYNTACTIC SCORE: 0.7999999999999999\n",
      "difficulty: medium medium\n",
      "Q: What are the two materials that bows are made of traditionally?  |YES/NO TYPE: 0 ||A: Traditionally, bows are made from pernambuco or brazilwood. |COHERENCY( 1 ): 1 |FLUENCY( 1 ): 0.875 |CONCISENESS( 1 ): 0.5 ||SYNTACTIC SCORE: 0.7916666666666666\n",
      "difficulty: medium medium\n",
      "Q: What is a person who plays the cello called? |YES/NO TYPE: 0 ||A: cellist |COHERENCY( 1 ): 1 |FLUENCY( 1 ): 0.5 |CONCISENESS( 1 ): 1.0 ||SYNTACTIC SCORE: 0.8333333333333334\n",
      "difficulty: medium medium\n",
      "Q: When did the tin whistle first appear? |YES/NO TYPE: 0 ||A: 12th century. |COHERENCY( 1 ): 1 |FLUENCY( 1 ): 0.9166666666666667 |CONCISENESS( 1 ): 0.6666666666666666 ||SYNTACTIC SCORE: 0.8611111111111112\n",
      "difficulty: hard hard\n",
      "Q: Did the economy improve in Jakarta in 2007 |YES/NO TYPE: 1 ||A: yes |COHERENCY( 1 ): 1 |FLUENCY( 1 ): 0.5 |CONCISENESS( 1 ): 0.9 ||SYNTACTIC SCORE: 0.7999999999999999\n",
      "difficulty: medium medium\n",
      "Q: When did the first official report of kangaroo blindness take place? |YES/NO TYPE: 0 ||A: 1994 |COHERENCY( 1 ): 1 |FLUENCY( 1 ): 0.5 |CONCISENESS( 1 ): 0.9 ||SYNTACTIC SCORE: 0.7999999999999999\n",
      "difficulty: hard hard\n",
      "Q: Was Nikola Tesla's mother illiterate? |YES/NO TYPE: 1 ||A: Yes |COHERENCY( 1 ): 1 |FLUENCY( 1 ): 0.5 |CONCISENESS( 1 ): 0.9 ||SYNTACTIC SCORE: 0.7999999999999999\n",
      "difficulty: hard hard\n",
      "Q: What is the difference between leopards and cheetahs? |YES/NO TYPE: 0 ||A: The leopard has rosettes rather than cheetah's simple spots and the leopard is larger and less lanky than the cheetah. |COHERENCY( 1 ): 1 |FLUENCY( 1 ): 0.75 |CONCISENESS( 1 ): 0.5 ||SYNTACTIC SCORE: 0.75\n",
      "difficulty: medium easy\n",
      "Q: Who did Newton see as the master creator? |YES/NO TYPE: 0 ||A: Newton saw God as the master creator whose existence could not be denied in the face of the grandeur of all creation |COHERENCY( 1 ): 1 |FLUENCY( 1 ): 0.6818181818181819 |CONCISENESS( 1 ): 0.36363636363636365 ||SYNTACTIC SCORE: 0.6818181818181818\n",
      "difficulty: medium medium\n",
      "Q: Which two sports events did the Olympiastadion host? |YES/NO TYPE: 0 ||A: the 1936 Summer Olympics and the 2006 FIFA World Cup final |COHERENCY( 1 ): 1 |FLUENCY( 1 ): 0.7045454545454546 |CONCISENESS( 1 ): 0.09090909090909091 ||SYNTACTIC SCORE: 0.5984848484848485\n",
      "difficulty: easy hard\n",
      "Q: Are cougars larger than jaguars? |YES/NO TYPE: 1 ||A: no |COHERENCY( 1 ): 1 |FLUENCY( 1 ): 0.5 |CONCISENESS( 1 ): 0.9 ||SYNTACTIC SCORE: 0.7999999999999999\n",
      "difficulty: easy hard\n",
      "Q: Are cougars larger than jaguars? |YES/NO TYPE: 1 ||A: Cougars are not larger than jaguars. |COHERENCY( 1 ): 0 |FLUENCY( 1 ): 0.8928571428571428 |CONCISENESS( 1 ): 0.42857142857142855 ||SYNTACTIC SCORE: 0.44047619047619047\n",
      "difficulty: medium easy\n",
      "Q: Does Liechtenstein have an army? |YES/NO TYPE: 1 ||A: No |COHERENCY( 1 ): 1 |FLUENCY( 1 ): 0.5 |CONCISENESS( 1 ): 0.9 ||SYNTACTIC SCORE: 0.7999999999999999\n",
      "difficulty: easy easy\n",
      "Q: Was Henri Becquerel a French physicist? |YES/NO TYPE: 1 ||A: Yes |COHERENCY( 1 ): 1 |FLUENCY( 1 ): 0.5 |CONCISENESS( 1 ): 0.9 ||SYNTACTIC SCORE: 0.7999999999999999\n",
      "difficulty: hard hard\n",
      "Q: What is the point called that is bolted or glued to the body of the guitar? |YES/NO TYPE: 0 ||A: Neck joint or 'Heel' |COHERENCY( 1 ): 1 |FLUENCY( 1 ): 0.875 |CONCISENESS( 1 ): 0.6 ||SYNTACTIC SCORE: 0.8250000000000001\n",
      "difficulty: medium medium\n",
      "Q: How long is an adult cougar's paw print? |YES/NO TYPE: 0 ||A: 4 inches |COHERENCY( 1 ): 1 |FLUENCY( 1 ): 0.5 |CONCISENESS( 1 ): 0.9 ||SYNTACTIC SCORE: 0.7999999999999999\n",
      "difficulty: easy easy\n",
      "Q: Is the violin supported by the left shoulder? |YES/NO TYPE: 1 ||A: Yes |COHERENCY( 1 ): 1 |FLUENCY( 1 ): 0.5 |CONCISENESS( 1 ): 0.9 ||SYNTACTIC SCORE: 0.7999999999999999\n",
      "difficulty: medium medium\n",
      "Q: Who did James Monroe marry? |YES/NO TYPE: 0 ||A: Elizabeth Kortright |COHERENCY( 1 ): 1 |FLUENCY( 1 ): 0.5 |CONCISENESS( 1 ): 0.9 ||SYNTACTIC SCORE: 0.7999999999999999\n",
      "difficulty: medium medium\n",
      "Q: In what year did Henri Becquerel win the Nobel Prize in Physics? |YES/NO TYPE: 0 ||A: 1903 |COHERENCY( 1 ): 1 |FLUENCY( 1 ): 0.5 |CONCISENESS( 1 ): 0.9 ||SYNTACTIC SCORE: 0.7999999999999999\n",
      "difficulty: hard hard\n",
      "Q: How many siblings did Faraday have? |YES/NO TYPE: 0 ||A: two |COHERENCY( 1 ): 1 |FLUENCY( 1 ): 0.5 |CONCISENESS( 1 ): 0.9 ||SYNTACTIC SCORE: 0.7999999999999999\n",
      "difficulty: medium medium\n",
      "Q: Which constellation is said to resemble a lyre shape? |YES/NO TYPE: 0 ||A: Lyra |COHERENCY( 1 ): 1 |FLUENCY( 1 ): 0.5 |CONCISENESS( 1 ): 0.9 ||SYNTACTIC SCORE: 0.7999999999999999\n",
      "difficulty: easy easy\n",
      "Q: How many species and genera does otter have? |YES/NO TYPE: 0 ||A: 13 species and 7 genera |COHERENCY( 1 ): 1 |FLUENCY( 1 ): 0.8 |CONCISENESS( 1 ): 0.4 ||SYNTACTIC SCORE: 0.7333333333333334\n",
      "difficulty: hard easy\n",
      "Q: Did Monroe' wedding happen at the Trinity Church in New York? |YES/NO TYPE: 1 ||A: Yes |COHERENCY( 1 ): 1 |FLUENCY( 1 ): 0.5 |CONCISENESS( 1 ): 0.9 ||SYNTACTIC SCORE: 0.7999999999999999\n",
      "difficulty: easy hard\n",
      "Q: Does the Portuguese language have its roots in the Latin language? |YES/NO TYPE: 1 ||A: Yes, Portuguese is derived from Latin. |COHERENCY( 1 ): 1 |FLUENCY( 1 ): 0.875 |CONCISENESS( 1 ): 0.125 ||SYNTACTIC SCORE: 0.6666666666666666\n",
      "difficulty: easy easy\n",
      "Q: Are turtles a part of the Flying Spaghetti Monster? |YES/NO TYPE: 1 ||A: *shrug* |COHERENCY( 1 ): 0 |FLUENCY( 1 ): 0.75 |CONCISENESS( 1 ): 0.6666666666666666 ||SYNTACTIC SCORE: 0.47222222222222215\n",
      "difficulty: medium medium\n",
      "Q: Who is the most popular rock group in Finland? |YES/NO TYPE: 0 ||A: CMX |COHERENCY( 1 ): 1 |FLUENCY( 1 ): 0.5 |CONCISENESS( 1 ): 0.9 ||SYNTACTIC SCORE: 0.7999999999999999\n"
     ]
    }
   ],
   "source": [
    "# Get scores\n",
    "scores=[]\n",
    "for line in random_select: #range(n):\n",
    "    q=dataset[line][1]\n",
    "    a=dataset[line][2]\n",
    "    print('difficulty:',dataset[line][3],dataset[line][4])\n",
    "    #scores.append(syntactic_score(q,a,weights=[0.5,0.3,0.2],debug=True))\n",
    "    scores.append(syntactic_score(q,a,weights=[1,1,1],debug=True,extra_outputs=True))\n",
    "\n"
   ]
  },
  {
   "cell_type": "code",
   "execution_count": 78,
   "metadata": {},
   "outputs": [
    {
     "data": {
      "image/png": "[encoded data removed]",
      "text/plain": [
       "<Figure size 640x480 with 1 Axes>"
      ]
     },
     "metadata": {},
     "output_type": "display_data"
    },
    {
     "data": {
      "image/png": "[encoded data removed]",
      "text/plain": [
       "<Figure size 640x480 with 1 Axes>"
      ]
     },
     "metadata": {},
     "output_type": "display_data"
    },
    {
     "data": {
      "image/png": "[encoded data removed]",
      "text/plain": [
       "<Figure size 640x480 with 1 Axes>"
      ]
     },
     "metadata": {},
     "output_type": "display_data"
    },
    {
     "data": {
      "image/png": "[encoded data removed]",
      "text/plain": [
       "<Figure size 640x480 with 1 Axes>"
      ]
     },
     "metadata": {},
     "output_type": "display_data"
    }
   ],
   "source": [
    "# Score distribution\n",
    "\n",
    "import numpy as np\n",
    "import matplotlib.pyplot as plt\n",
    "\n",
    "#syntactic_score, coherency, fluency, conciseness\n",
    "#histogram of score\n",
    "scores=np.array(scores)\n",
    "plt.hist(scores[:,0], bins=30, edgecolor='black', alpha=0.7)\n",
    "plt.title('Distribution of Syntactic Scores')\n",
    "plt.xlabel('Score')\n",
    "plt.ylabel('Frequency')\n",
    "plt.grid(True)\n",
    "plt.show()\n",
    "\n",
    "#histogram of coherency\n",
    "scores=np.array(scores)\n",
    "plt.hist(scores[:,1], bins=30, edgecolor='black', alpha=0.7)\n",
    "plt.title('Distribution of Coherency')\n",
    "plt.xlabel('Score')\n",
    "plt.ylabel('Frequency')\n",
    "plt.grid(True)\n",
    "plt.show()\n",
    "\n",
    "#histogram of fluency\n",
    "scores=np.array(scores)\n",
    "plt.hist(scores[:,2], bins=30, edgecolor='black', alpha=0.7)\n",
    "plt.title('Distribution of Fluency')\n",
    "plt.xlabel('Score')\n",
    "plt.ylabel('Frequency')\n",
    "plt.grid(True)\n",
    "plt.show()\n",
    "\n",
    "#histogram of conciseness\n",
    "scores=np.array(scores)\n",
    "plt.hist(scores[:,3], bins=30, edgecolor='black', alpha=0.7)\n",
    "plt.title('Distribution of Conciseness')\n",
    "plt.xlabel('Score')\n",
    "plt.ylabel('Frequency')\n",
    "plt.grid(True)\n",
    "plt.show()"
   ]
  },
  {
   "cell_type": "code",
   "execution_count": 64,
   "metadata": {},
   "outputs": [
    {
     "name": "stdout",
     "output_type": "stream",
     "text": [
      "Q: What is Avogadro most noted for? |YES/NO TYPE: 0 ||A: contributions to the theory of molarity and molecular weight |COHERENCY( 1 ): 1 |FLUENCY( 1 ): 0.7222222222222223 |CONCISENESS( 1 ): 0.5555555555555556 ||SYNTACTIC SCORE: 0.7592592592592592\n",
      "Q: What is Avogadro most noted for? |YES/NO TYPE: 0 ||A: contributions theory |COHERENCY( 1 ): 1 |FLUENCY( 1 ): 0.5 |CONCISENESS( 1 ): 1.0 ||SYNTACTIC SCORE: 0.8333333333333334\n",
      "Q: What is Avogadro most noted for? |YES/NO TYPE: 0 ||A: contributions to theory |COHERENCY( 1 ): 1 |FLUENCY( 1 ): 0.8333333333333334 |CONCISENESS( 1 ): 0.6666666666666666 ||SYNTACTIC SCORE: 0.8333333333333334\n",
      "Q: What is Avogadro most noted for? |YES/NO TYPE: 0 ||A: contributions to the theory of molarity and molecular weight |COHERENCY( 1 ): 1 |FLUENCY( 2 ): 0.7222222222222223 |CONCISENESS( 1 ): 0.5555555555555556 ||SYNTACTIC SCORE: 0.75\n",
      "Q: What is Avogadro most noted for? |YES/NO TYPE: 0 ||A: contributions theory |COHERENCY( 1 ): 1 |FLUENCY( 2 ): 0.5 |CONCISENESS( 1 ): 1.0 ||SYNTACTIC SCORE: 0.75\n",
      "Q: What is Avogadro most noted for? |YES/NO TYPE: 0 ||A: contributions to theory |COHERENCY( 1 ): 1 |FLUENCY( 2 ): 0.8333333333333334 |CONCISENESS( 1 ): 0.6666666666666666 ||SYNTACTIC SCORE: 0.8333333333333334\n"
     ]
    },
    {
     "data": {
      "text/plain": [
       "0.8333333333333334"
      ]
     },
     "execution_count": 64,
     "metadata": {},
     "output_type": "execute_result"
    }
   ],
   "source": [
    "# case study\n",
    "\n",
    "'''\n",
    "difficulty: medium medium\n",
    "Q: What is Avogadro most noted for? |YES/NO TYPE: 0 ||A: contributions to the theory of molarity and molecular weight |COHERENCY( 1 ): 1 |FLUENCY( 1 ): 0.7222222222222223 |CONCISENESS( 1 ): 0.5555555555555556 ||SYNTACTIC SCORE: 0.7592592592592592 \n",
    "\n",
    "difficulty: easy easy\n",
    "Q: Are turtles a part of the Flying Spaghetti Monster? |YES/NO TYPE: 1 ||A: *shrug* |COHERENCY( 1 ): 0 |FLUENCY( 1 ): 0.75 |CONCISENESS( 1 ): 0.6666666666666666 ||SYNTACTIC SCORE: 0.47222222222222215\n",
    "\n",
    "difficulty: easy hard\n",
    "Q: Are cougars larger than jaguars? |YES/NO TYPE: 1 ||A: Cougars are not larger than jaguars. |COHERENCY( 1 ): 0 |FLUENCY( 1 ): 0.8928571428571428 |CONCISENESS( 1 ): 0.42857142857142855 ||SYNTACTIC SCORE: 0.44047619047619047 \n",
    "\n",
    "difficulty: medium medium\n",
    "Q: What did Jefferson call John Adams? |YES/NO TYPE: 0 ||A: Colossus of Independence |COHERENCY( 1 ): 1 |FLUENCY( 1 ): 0.8333333333333334 |CONCISENESS( 1 ): 0 ||SYNTACTIC SCORE: 0.6111111111111112 \n",
    "\n",
    "difficulty: medium medium\n",
    "Q: Where is Uruguay's oldest church? |YES/NO TYPE: 0 ||A: San Carlos, Maldonado. |COHERENCY( 1 ): 1 |FLUENCY( 1 ): 0.8500000000000001 |CONCISENESS( 1 ): 0 ||SYNTACTIC SCORE: 0.6166666666666667 \n",
    "\n",
    "difficulty: easy easy\n",
    "Q: Are giraffes hunted for their hides? |YES/NO TYPE: 1 ||A: Yes |COHERENCY( 1 ): 1 |FLUENCY( 1 ): 0.5 |CONCISENESS( 1 ): 0.9 ||SYNTACTIC SCORE: 0.7999999999999999 \n",
    "\n",
    "difficulty: medium medium\n",
    "Q: What is Avogadro most noted for? |YES/NO TYPE: 0 ||A: contributions to the theory of molarity and molecular weight |COHERENCY( 1 ): 1 |FLUENCY( 1 ): 0.7222222222222223 |CONCISENESS( 1 ): 0.5555555555555556 ||SYNTACTIC SCORE: 0.7592592592592592 \n",
    "'''\n",
    "\n",
    "q='What is Avogadro most noted for?'\n",
    "a1='contributions to the theory of molarity and molecular weight'\n",
    "a2='contributions theory'\n",
    "a3='contributions to theory'\n",
    "syntactic_score(q,a1,weights=[1,1,1],debug=True)\n",
    "syntactic_score(q,a2,weights=[1,1,1],debug=True)\n",
    "syntactic_score(q,a3,weights=[1,1,1],debug=True)\n",
    "\n",
    "syntactic_score(q,a1,weights=[1,2,1],debug=True)\n",
    "syntactic_score(q,a2,weights=[1,2,1],debug=True)\n",
    "syntactic_score(q,a3,weights=[1,2,1],debug=True)\n"
   ]
  }
 ],
 "metadata": {
  "kernelspec": {
   "display_name": "base",
   "language": "python",
   "name": "python3"
  },
  "language_info": {
   "codemirror_mode": {
    "name": "ipython",
    "version": 3
   },
   "file_extension": ".py",
   "mimetype": "text/x-python",
   "name": "python",
   "nbconvert_exporter": "python",
   "pygments_lexer": "ipython3",
   "version": "3.11.5"
  }
 },
 "nbformat": 4,
 "nbformat_minor": 2
}
